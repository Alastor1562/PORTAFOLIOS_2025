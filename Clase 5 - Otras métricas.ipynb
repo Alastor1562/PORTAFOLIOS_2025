{
 "cells": [
  {
   "cell_type": "code",
   "execution_count": 1,
   "id": "69ad3b25",
   "metadata": {},
   "outputs": [],
   "source": [
    "import yfinance as yf\n",
    "import numpy as np\n",
    "import pandas as pd\n",
    "import matplotlib.pyplot as plt"
   ]
  },
  {
   "cell_type": "code",
   "execution_count": 4,
   "id": "f604e869",
   "metadata": {},
   "outputs": [
    {
     "name": "stderr",
     "output_type": "stream",
     "text": [
      "C:\\Users\\samue\\AppData\\Local\\Temp\\ipykernel_10364\\126316136.py:3: FutureWarning: YF.download() has changed argument auto_adjust default to True\n",
      "  prices = yf.download(tickers, start='2020-01-01', end='2024-01-01', progress=False)['Close']\n"
     ]
    }
   ],
   "source": [
    "tickers = ['NFLX']\n",
    "\n",
    "prices = yf.download(tickers, start='2020-01-01', end='2024-01-01', progress=False)['Close']\n",
    "\n",
    "daily_returns = prices.pct_change().dropna()"
   ]
  },
  {
   "cell_type": "code",
   "execution_count": 5,
   "id": "b7281cb9",
   "metadata": {},
   "outputs": [
    {
     "data": {
      "text/plain": [
       "Ticker\n",
       "NFLX    22.091893\n",
       "dtype: float64"
      ]
     },
     "execution_count": 5,
     "metadata": {},
     "output_type": "execute_result"
    }
   ],
   "source": [
    "# Media aritmética\n",
    "arithmetic_mean = daily_returns.mean()\n",
    "arithmetic_mean * 100 * 252"
   ]
  },
  {
   "cell_type": "code",
   "execution_count": 6,
   "id": "f5f44cea",
   "metadata": {},
   "outputs": [
    {
     "data": {
      "text/plain": [
       "Ticker\n",
       "NFLX    9.768484\n",
       "dtype: float64"
      ]
     },
     "execution_count": 6,
     "metadata": {},
     "output_type": "execute_result"
    }
   ],
   "source": [
    "# Media geométrica\n",
    "geometric_mean = (1 + daily_returns).prod()**(1/len(daily_returns)) - 1\n",
    "geometric_mean * 100 * 252"
   ]
  },
  {
   "cell_type": "code",
   "execution_count": 7,
   "id": "b39dc069",
   "metadata": {},
   "outputs": [
    {
     "data": {
      "text/plain": [
       "Ticker\n",
       "NFLX   -3.267347\n",
       "dtype: float64"
      ]
     },
     "execution_count": 7,
     "metadata": {},
     "output_type": "execute_result"
    }
   ],
   "source": [
    "# Media armónica\n",
    "harmonic_mean = len(daily_returns) / (1 / (1 + daily_returns)).sum() - 1\n",
    "harmonic_mean * 100 * 252"
   ]
  },
  {
   "cell_type": "markdown",
   "id": "a7e2827b",
   "metadata": {},
   "source": [
    "## Medidas Probabilisticas"
   ]
  },
  {
   "cell_type": "code",
   "execution_count": 16,
   "id": "a69640b4",
   "metadata": {},
   "outputs": [
    {
     "data": {
      "text/html": [
       "<div>\n",
       "<style scoped>\n",
       "    .dataframe tbody tr th:only-of-type {\n",
       "        vertical-align: middle;\n",
       "    }\n",
       "\n",
       "    .dataframe tbody tr th {\n",
       "        vertical-align: top;\n",
       "    }\n",
       "\n",
       "    .dataframe thead th {\n",
       "        text-align: right;\n",
       "    }\n",
       "</style>\n",
       "<table border=\"1\" class=\"dataframe\">\n",
       "  <thead>\n",
       "    <tr style=\"text-align: right;\">\n",
       "      <th></th>\n",
       "      <th>Escenario</th>\n",
       "      <th>Probabilidad</th>\n",
       "      <th>Rendimiento</th>\n",
       "    </tr>\n",
       "  </thead>\n",
       "  <tbody>\n",
       "    <tr>\n",
       "      <th>0</th>\n",
       "      <td>Bajista (Bearish)</td>\n",
       "      <td>0.25</td>\n",
       "      <td>-0.10</td>\n",
       "    </tr>\n",
       "    <tr>\n",
       "      <th>1</th>\n",
       "      <td>Neutral</td>\n",
       "      <td>0.30</td>\n",
       "      <td>0.05</td>\n",
       "    </tr>\n",
       "    <tr>\n",
       "      <th>2</th>\n",
       "      <td>Alcista (Bullish)</td>\n",
       "      <td>0.45</td>\n",
       "      <td>0.20</td>\n",
       "    </tr>\n",
       "  </tbody>\n",
       "</table>\n",
       "</div>"
      ],
      "text/plain": [
       "           Escenario  Probabilidad  Rendimiento\n",
       "0  Bajista (Bearish)          0.25        -0.10\n",
       "1            Neutral          0.30         0.05\n",
       "2  Alcista (Bullish)          0.45         0.20"
      ]
     },
     "execution_count": 16,
     "metadata": {},
     "output_type": "execute_result"
    }
   ],
   "source": [
    "df = pd.DataFrame({\n",
    "    'Escenario': ['Bajista (Bearish)', 'Neutral', 'Alcista (Bullish)'],\n",
    "    'Probabilidad': [0.25, 0.3, 0.45],\n",
    "    'Rendimiento': [-0.1, 0.05, 0.2]\n",
    "})\n",
    "\n",
    "df"
   ]
  },
  {
   "cell_type": "code",
   "execution_count": 18,
   "id": "3d628030",
   "metadata": {},
   "outputs": [
    {
     "data": {
      "text/plain": [
       "np.float64(8.0)"
      ]
     },
     "execution_count": 18,
     "metadata": {},
     "output_type": "execute_result"
    }
   ],
   "source": [
    "media_esperada = np.dot(df['Probabilidad'], df['Rendimiento'])\n",
    "media_esperada * 100"
   ]
  },
  {
   "cell_type": "code",
   "execution_count": 19,
   "id": "d42f15b5",
   "metadata": {},
   "outputs": [
    {
     "data": {
      "text/plain": [
       "np.float64(1.485)"
      ]
     },
     "execution_count": 19,
     "metadata": {},
     "output_type": "execute_result"
    }
   ],
   "source": [
    "varianza_esperada = np.dot(df['Probabilidad'], (df['Rendimiento'] - media_esperada)**2)\n",
    "varianza_esperada * 100"
   ]
  },
  {
   "cell_type": "code",
   "execution_count": 20,
   "id": "5b134a93",
   "metadata": {},
   "outputs": [
    {
     "data": {
      "text/plain": [
       "np.float64(12.18605760695394)"
      ]
     },
     "execution_count": 20,
     "metadata": {},
     "output_type": "execute_result"
    }
   ],
   "source": [
    "vol_esperada = np.sqrt(varianza_esperada)\n",
    "vol_esperada * 100"
   ]
  },
  {
   "cell_type": "markdown",
   "id": "03f2f86b",
   "metadata": {},
   "source": [
    "## **Actividad Estilo Examen**\n",
    "\n",
    "Como analista de deuda en Citi, se te ha solicitado estimar la expectativa del mercado respecto a la tasa de interés de la Reserva Federal para el próximo año.  \n",
    "\n",
    "Tras revisar los pronósticos de varios analistas en Bloomberg, encontraste lo siguiente:\n",
    "\n",
    "- El mercado asigna un **70% de probabilidad** a un escenario *dovish*, en el que la tasa de interés se situaría en **2%**.\n",
    "- Hay un **20% de probabilidad** de un escenario *neutral*, con una tasa de **3%**.\n",
    "- Existe un **10% de probabilidad** de un escenario *hawkish*, en el cual la tasa se quedaría en **5.5%**.\n",
    "\n",
    "### Instrucción\n",
    "Con esta información, **calcula el valor esperado y la volatilidad esperada** por el mercado para la tasa de interés."
   ]
  },
  {
   "cell_type": "code",
   "execution_count": 28,
   "id": "c0c85b1b",
   "metadata": {},
   "outputs": [
    {
     "data": {
      "text/html": [
       "<div>\n",
       "<style scoped>\n",
       "    .dataframe tbody tr th:only-of-type {\n",
       "        vertical-align: middle;\n",
       "    }\n",
       "\n",
       "    .dataframe tbody tr th {\n",
       "        vertical-align: top;\n",
       "    }\n",
       "\n",
       "    .dataframe thead th {\n",
       "        text-align: right;\n",
       "    }\n",
       "</style>\n",
       "<table border=\"1\" class=\"dataframe\">\n",
       "  <thead>\n",
       "    <tr style=\"text-align: right;\">\n",
       "      <th></th>\n",
       "      <th>Escenario</th>\n",
       "      <th>Probabilidad</th>\n",
       "      <th>Tasa</th>\n",
       "    </tr>\n",
       "  </thead>\n",
       "  <tbody>\n",
       "    <tr>\n",
       "      <th>0</th>\n",
       "      <td>Dovish</td>\n",
       "      <td>0.7</td>\n",
       "      <td>0.020</td>\n",
       "    </tr>\n",
       "    <tr>\n",
       "      <th>1</th>\n",
       "      <td>Neutral</td>\n",
       "      <td>0.2</td>\n",
       "      <td>0.030</td>\n",
       "    </tr>\n",
       "    <tr>\n",
       "      <th>2</th>\n",
       "      <td>Hawkish</td>\n",
       "      <td>0.1</td>\n",
       "      <td>0.055</td>\n",
       "    </tr>\n",
       "  </tbody>\n",
       "</table>\n",
       "</div>"
      ],
      "text/plain": [
       "  Escenario  Probabilidad   Tasa\n",
       "0    Dovish           0.7  0.020\n",
       "1   Neutral           0.2  0.030\n",
       "2   Hawkish           0.1  0.055"
      ]
     },
     "execution_count": 28,
     "metadata": {},
     "output_type": "execute_result"
    }
   ],
   "source": [
    "df_tasa = pd.DataFrame({\n",
    "    'Escenario': ['Dovish', 'Neutral', 'Hawkish'],\n",
    "    'Probabilidad': [0.7, 0.2, 0.1],\n",
    "    'Tasa': [0.02, 0.03, 0.055]\n",
    "})\n",
    "df_tasa"
   ]
  },
  {
   "cell_type": "code",
   "execution_count": 26,
   "id": "9a736001",
   "metadata": {},
   "outputs": [
    {
     "data": {
      "text/plain": [
       "np.float64(2.55)"
      ]
     },
     "execution_count": 26,
     "metadata": {},
     "output_type": "execute_result"
    }
   ],
   "source": [
    "VE = np.dot(df_tasa['Probabilidad'], df_tasa['Tasa'])\n",
    "VE * 100"
   ]
  },
  {
   "cell_type": "code",
   "execution_count": 27,
   "id": "74ecf876",
   "metadata": {},
   "outputs": [
    {
     "data": {
      "text/plain": [
       "np.float64(1.0594810050208545)"
      ]
     },
     "execution_count": 27,
     "metadata": {},
     "output_type": "execute_result"
    }
   ],
   "source": [
    "Vol_E = np.sqrt(np.dot(df_tasa['Probabilidad'], (df_tasa['Tasa'] - VE)**2))\n",
    "Vol_E * 100"
   ]
  },
  {
   "cell_type": "code",
   "execution_count": null,
   "id": "a021c7ed",
   "metadata": {},
   "outputs": [],
   "source": []
  }
 ],
 "metadata": {
  "kernelspec": {
   "display_name": "Python 3",
   "language": "python",
   "name": "python3"
  },
  "language_info": {
   "codemirror_mode": {
    "name": "ipython",
    "version": 3
   },
   "file_extension": ".py",
   "mimetype": "text/x-python",
   "name": "python",
   "nbconvert_exporter": "python",
   "pygments_lexer": "ipython3",
   "version": "3.13.7"
  }
 },
 "nbformat": 4,
 "nbformat_minor": 5
}
