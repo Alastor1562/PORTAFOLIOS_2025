{
 "cells": [
  {
   "cell_type": "code",
   "execution_count": 27,
   "id": "2e521ab4",
   "metadata": {},
   "outputs": [],
   "source": [
    "import yfinance as yf\n",
    "import pandas as pd\n",
    "import matplotlib.pyplot as plt"
   ]
  },
  {
   "cell_type": "code",
   "execution_count": 28,
   "id": "3e7658f5",
   "metadata": {},
   "outputs": [
    {
     "name": "stderr",
     "output_type": "stream",
     "text": [
      "C:\\Users\\samue\\AppData\\Local\\Temp\\ipykernel_18428\\304901767.py:3: FutureWarning: YF.download() has changed argument auto_adjust default to True\n",
      "  prices = yf.download(tickers,start='2020-01-01', end='2025-08-22')['Close']\n",
      "[*********************100%***********************]  6 of 6 completed\n"
     ]
    },
    {
     "data": {
      "text/html": [
       "<div>\n",
       "<style scoped>\n",
       "    .dataframe tbody tr th:only-of-type {\n",
       "        vertical-align: middle;\n",
       "    }\n",
       "\n",
       "    .dataframe tbody tr th {\n",
       "        vertical-align: top;\n",
       "    }\n",
       "\n",
       "    .dataframe thead th {\n",
       "        text-align: right;\n",
       "    }\n",
       "</style>\n",
       "<table border=\"1\" class=\"dataframe\">\n",
       "  <thead>\n",
       "    <tr style=\"text-align: right;\">\n",
       "      <th>Ticker</th>\n",
       "      <th>AMZN</th>\n",
       "      <th>JPM</th>\n",
       "      <th>NVDA</th>\n",
       "      <th>NVO</th>\n",
       "      <th>SQM</th>\n",
       "      <th>^GSPC</th>\n",
       "    </tr>\n",
       "    <tr>\n",
       "      <th>Date</th>\n",
       "      <th></th>\n",
       "      <th></th>\n",
       "      <th></th>\n",
       "      <th></th>\n",
       "      <th></th>\n",
       "      <th></th>\n",
       "    </tr>\n",
       "  </thead>\n",
       "  <tbody>\n",
       "    <tr>\n",
       "      <th>2020-01-02</th>\n",
       "      <td>94.900497</td>\n",
       "      <td>120.154716</td>\n",
       "      <td>5.971745</td>\n",
       "      <td>26.509840</td>\n",
       "      <td>21.339224</td>\n",
       "      <td>3257.850098</td>\n",
       "    </tr>\n",
       "    <tr>\n",
       "      <th>2020-01-03</th>\n",
       "      <td>93.748497</td>\n",
       "      <td>118.569099</td>\n",
       "      <td>5.876163</td>\n",
       "      <td>25.942026</td>\n",
       "      <td>21.172825</td>\n",
       "      <td>3234.850098</td>\n",
       "    </tr>\n",
       "    <tr>\n",
       "      <th>2020-01-06</th>\n",
       "      <td>95.143997</td>\n",
       "      <td>118.474800</td>\n",
       "      <td>5.900805</td>\n",
       "      <td>25.896603</td>\n",
       "      <td>21.497702</td>\n",
       "      <td>3246.280029</td>\n",
       "    </tr>\n",
       "    <tr>\n",
       "      <th>2020-01-07</th>\n",
       "      <td>95.343002</td>\n",
       "      <td>116.460670</td>\n",
       "      <td>5.972244</td>\n",
       "      <td>25.869350</td>\n",
       "      <td>22.076155</td>\n",
       "      <td>3237.179932</td>\n",
       "    </tr>\n",
       "    <tr>\n",
       "      <th>2020-01-08</th>\n",
       "      <td>94.598503</td>\n",
       "      <td>117.369164</td>\n",
       "      <td>5.983445</td>\n",
       "      <td>25.823923</td>\n",
       "      <td>22.115778</td>\n",
       "      <td>3253.050049</td>\n",
       "    </tr>\n",
       "    <tr>\n",
       "      <th>...</th>\n",
       "      <td>...</td>\n",
       "      <td>...</td>\n",
       "      <td>...</td>\n",
       "      <td>...</td>\n",
       "      <td>...</td>\n",
       "      <td>...</td>\n",
       "    </tr>\n",
       "    <tr>\n",
       "      <th>2025-08-15</th>\n",
       "      <td>231.029999</td>\n",
       "      <td>290.489990</td>\n",
       "      <td>180.449997</td>\n",
       "      <td>52.410000</td>\n",
       "      <td>45.080002</td>\n",
       "      <td>6449.799805</td>\n",
       "    </tr>\n",
       "    <tr>\n",
       "      <th>2025-08-18</th>\n",
       "      <td>231.490005</td>\n",
       "      <td>291.529999</td>\n",
       "      <td>182.009995</td>\n",
       "      <td>53.750000</td>\n",
       "      <td>46.130001</td>\n",
       "      <td>6449.149902</td>\n",
       "    </tr>\n",
       "    <tr>\n",
       "      <th>2025-08-19</th>\n",
       "      <td>228.009995</td>\n",
       "      <td>290.660004</td>\n",
       "      <td>175.639999</td>\n",
       "      <td>54.779999</td>\n",
       "      <td>45.049999</td>\n",
       "      <td>6411.370117</td>\n",
       "    </tr>\n",
       "    <tr>\n",
       "      <th>2025-08-20</th>\n",
       "      <td>223.809998</td>\n",
       "      <td>292.239990</td>\n",
       "      <td>175.399994</td>\n",
       "      <td>54.299999</td>\n",
       "      <td>44.360001</td>\n",
       "      <td>6395.779785</td>\n",
       "    </tr>\n",
       "    <tr>\n",
       "      <th>2025-08-21</th>\n",
       "      <td>221.949997</td>\n",
       "      <td>291.470001</td>\n",
       "      <td>174.979996</td>\n",
       "      <td>55.450001</td>\n",
       "      <td>45.250000</td>\n",
       "      <td>6370.169922</td>\n",
       "    </tr>\n",
       "  </tbody>\n",
       "</table>\n",
       "<p>1417 rows × 6 columns</p>\n",
       "</div>"
      ],
      "text/plain": [
       "Ticker            AMZN         JPM        NVDA        NVO        SQM  \\\n",
       "Date                                                                   \n",
       "2020-01-02   94.900497  120.154716    5.971745  26.509840  21.339224   \n",
       "2020-01-03   93.748497  118.569099    5.876163  25.942026  21.172825   \n",
       "2020-01-06   95.143997  118.474800    5.900805  25.896603  21.497702   \n",
       "2020-01-07   95.343002  116.460670    5.972244  25.869350  22.076155   \n",
       "2020-01-08   94.598503  117.369164    5.983445  25.823923  22.115778   \n",
       "...                ...         ...         ...        ...        ...   \n",
       "2025-08-15  231.029999  290.489990  180.449997  52.410000  45.080002   \n",
       "2025-08-18  231.490005  291.529999  182.009995  53.750000  46.130001   \n",
       "2025-08-19  228.009995  290.660004  175.639999  54.779999  45.049999   \n",
       "2025-08-20  223.809998  292.239990  175.399994  54.299999  44.360001   \n",
       "2025-08-21  221.949997  291.470001  174.979996  55.450001  45.250000   \n",
       "\n",
       "Ticker            ^GSPC  \n",
       "Date                     \n",
       "2020-01-02  3257.850098  \n",
       "2020-01-03  3234.850098  \n",
       "2020-01-06  3246.280029  \n",
       "2020-01-07  3237.179932  \n",
       "2020-01-08  3253.050049  \n",
       "...                 ...  \n",
       "2025-08-15  6449.799805  \n",
       "2025-08-18  6449.149902  \n",
       "2025-08-19  6411.370117  \n",
       "2025-08-20  6395.779785  \n",
       "2025-08-21  6370.169922  \n",
       "\n",
       "[1417 rows x 6 columns]"
      ]
     },
     "execution_count": 28,
     "metadata": {},
     "output_type": "execute_result"
    }
   ],
   "source": [
    "tickers = ['NVO', 'JPM', 'AMZN', 'SQM', 'NVDA', '^GSPC']\n",
    "\n",
    "prices = yf.download(tickers,start='2020-01-01', end='2025-08-22')['Close']\n",
    "prices"
   ]
  },
  {
   "cell_type": "code",
   "execution_count": 29,
   "id": "d492d412",
   "metadata": {},
   "outputs": [
    {
     "data": {
      "image/png": "[encoded data removed]",
      "text/plain": [
       "<Figure size 1200x600 with 1 Axes>"
      ]
     },
     "metadata": {},
     "output_type": "display_data"
    }
   ],
   "source": [
    "plt.figure(figsize=(12,6))\n",
    "plt.hist(prices, label=prices.columns)\n",
    "plt.legend()\n",
    "plt.show();"
   ]
  },
  {
   "cell_type": "code",
   "execution_count": 30,
   "id": "5fb87fe0",
   "metadata": {},
   "outputs": [
    {
     "data": {
      "text/html": [
       "<div>\n",
       "<style scoped>\n",
       "    .dataframe tbody tr th:only-of-type {\n",
       "        vertical-align: middle;\n",
       "    }\n",
       "\n",
       "    .dataframe tbody tr th {\n",
       "        vertical-align: top;\n",
       "    }\n",
       "\n",
       "    .dataframe thead th {\n",
       "        text-align: right;\n",
       "    }\n",
       "</style>\n",
       "<table border=\"1\" class=\"dataframe\">\n",
       "  <thead>\n",
       "    <tr style=\"text-align: right;\">\n",
       "      <th>Ticker</th>\n",
       "      <th>AMZN</th>\n",
       "      <th>JPM</th>\n",
       "      <th>NVDA</th>\n",
       "      <th>NVO</th>\n",
       "      <th>SQM</th>\n",
       "      <th>^GSPC</th>\n",
       "    </tr>\n",
       "    <tr>\n",
       "      <th>Date</th>\n",
       "      <th></th>\n",
       "      <th></th>\n",
       "      <th></th>\n",
       "      <th></th>\n",
       "      <th></th>\n",
       "      <th></th>\n",
       "    </tr>\n",
       "  </thead>\n",
       "  <tbody>\n",
       "    <tr>\n",
       "      <th>2020-01-03</th>\n",
       "      <td>-0.012139</td>\n",
       "      <td>-0.013196</td>\n",
       "      <td>-0.016006</td>\n",
       "      <td>-0.021419</td>\n",
       "      <td>-0.007798</td>\n",
       "      <td>-0.007060</td>\n",
       "    </tr>\n",
       "    <tr>\n",
       "      <th>2020-01-06</th>\n",
       "      <td>0.014886</td>\n",
       "      <td>-0.000795</td>\n",
       "      <td>0.004194</td>\n",
       "      <td>-0.001751</td>\n",
       "      <td>0.015344</td>\n",
       "      <td>0.003533</td>\n",
       "    </tr>\n",
       "    <tr>\n",
       "      <th>2020-01-07</th>\n",
       "      <td>0.002092</td>\n",
       "      <td>-0.017000</td>\n",
       "      <td>0.012107</td>\n",
       "      <td>-0.001052</td>\n",
       "      <td>0.026908</td>\n",
       "      <td>-0.002803</td>\n",
       "    </tr>\n",
       "    <tr>\n",
       "      <th>2020-01-08</th>\n",
       "      <td>-0.007809</td>\n",
       "      <td>0.007801</td>\n",
       "      <td>0.001875</td>\n",
       "      <td>-0.001756</td>\n",
       "      <td>0.001795</td>\n",
       "      <td>0.004902</td>\n",
       "    </tr>\n",
       "    <tr>\n",
       "      <th>2020-01-09</th>\n",
       "      <td>0.004799</td>\n",
       "      <td>0.003652</td>\n",
       "      <td>0.010983</td>\n",
       "      <td>0.010378</td>\n",
       "      <td>-0.021856</td>\n",
       "      <td>0.006655</td>\n",
       "    </tr>\n",
       "    <tr>\n",
       "      <th>...</th>\n",
       "      <td>...</td>\n",
       "      <td>...</td>\n",
       "      <td>...</td>\n",
       "      <td>...</td>\n",
       "      <td>...</td>\n",
       "      <td>...</td>\n",
       "    </tr>\n",
       "    <tr>\n",
       "      <th>2025-08-15</th>\n",
       "      <td>0.000216</td>\n",
       "      <td>-0.012476</td>\n",
       "      <td>-0.008625</td>\n",
       "      <td>0.028656</td>\n",
       "      <td>-0.010101</td>\n",
       "      <td>-0.002897</td>\n",
       "    </tr>\n",
       "    <tr>\n",
       "      <th>2025-08-18</th>\n",
       "      <td>0.001991</td>\n",
       "      <td>0.003580</td>\n",
       "      <td>0.008645</td>\n",
       "      <td>0.025568</td>\n",
       "      <td>0.023292</td>\n",
       "      <td>-0.000101</td>\n",
       "    </tr>\n",
       "    <tr>\n",
       "      <th>2025-08-19</th>\n",
       "      <td>-0.015033</td>\n",
       "      <td>-0.002984</td>\n",
       "      <td>-0.034998</td>\n",
       "      <td>0.019163</td>\n",
       "      <td>-0.023412</td>\n",
       "      <td>-0.005858</td>\n",
       "    </tr>\n",
       "    <tr>\n",
       "      <th>2025-08-20</th>\n",
       "      <td>-0.018420</td>\n",
       "      <td>0.005436</td>\n",
       "      <td>-0.001366</td>\n",
       "      <td>-0.008762</td>\n",
       "      <td>-0.015316</td>\n",
       "      <td>-0.002432</td>\n",
       "    </tr>\n",
       "    <tr>\n",
       "      <th>2025-08-21</th>\n",
       "      <td>-0.008311</td>\n",
       "      <td>-0.002635</td>\n",
       "      <td>-0.002395</td>\n",
       "      <td>0.021179</td>\n",
       "      <td>0.020063</td>\n",
       "      <td>-0.004004</td>\n",
       "    </tr>\n",
       "  </tbody>\n",
       "</table>\n",
       "<p>1416 rows × 6 columns</p>\n",
       "</div>"
      ],
      "text/plain": [
       "Ticker          AMZN       JPM      NVDA       NVO       SQM     ^GSPC\n",
       "Date                                                                  \n",
       "2020-01-03 -0.012139 -0.013196 -0.016006 -0.021419 -0.007798 -0.007060\n",
       "2020-01-06  0.014886 -0.000795  0.004194 -0.001751  0.015344  0.003533\n",
       "2020-01-07  0.002092 -0.017000  0.012107 -0.001052  0.026908 -0.002803\n",
       "2020-01-08 -0.007809  0.007801  0.001875 -0.001756  0.001795  0.004902\n",
       "2020-01-09  0.004799  0.003652  0.010983  0.010378 -0.021856  0.006655\n",
       "...              ...       ...       ...       ...       ...       ...\n",
       "2025-08-15  0.000216 -0.012476 -0.008625  0.028656 -0.010101 -0.002897\n",
       "2025-08-18  0.001991  0.003580  0.008645  0.025568  0.023292 -0.000101\n",
       "2025-08-19 -0.015033 -0.002984 -0.034998  0.019163 -0.023412 -0.005858\n",
       "2025-08-20 -0.018420  0.005436 -0.001366 -0.008762 -0.015316 -0.002432\n",
       "2025-08-21 -0.008311 -0.002635 -0.002395  0.021179  0.020063 -0.004004\n",
       "\n",
       "[1416 rows x 6 columns]"
      ]
     },
     "execution_count": 30,
     "metadata": {},
     "output_type": "execute_result"
    }
   ],
   "source": [
    "#Forma complicada de sacar el rendimiento\n",
    "rend = (prices / prices.shift(1) - 1).dropna()\n",
    "rend"
   ]
  },
  {
   "cell_type": "code",
   "execution_count": 31,
   "id": "2b4766fe",
   "metadata": {},
   "outputs": [
    {
     "data": {
      "text/html": [
       "<div>\n",
       "<style scoped>\n",
       "    .dataframe tbody tr th:only-of-type {\n",
       "        vertical-align: middle;\n",
       "    }\n",
       "\n",
       "    .dataframe tbody tr th {\n",
       "        vertical-align: top;\n",
       "    }\n",
       "\n",
       "    .dataframe thead th {\n",
       "        text-align: right;\n",
       "    }\n",
       "</style>\n",
       "<table border=\"1\" class=\"dataframe\">\n",
       "  <thead>\n",
       "    <tr style=\"text-align: right;\">\n",
       "      <th>Ticker</th>\n",
       "      <th>AMZN</th>\n",
       "      <th>JPM</th>\n",
       "      <th>NVDA</th>\n",
       "      <th>NVO</th>\n",
       "      <th>SQM</th>\n",
       "      <th>^GSPC</th>\n",
       "    </tr>\n",
       "    <tr>\n",
       "      <th>Date</th>\n",
       "      <th></th>\n",
       "      <th></th>\n",
       "      <th></th>\n",
       "      <th></th>\n",
       "      <th></th>\n",
       "      <th></th>\n",
       "    </tr>\n",
       "  </thead>\n",
       "  <tbody>\n",
       "    <tr>\n",
       "      <th>2020-01-03</th>\n",
       "      <td>-0.012139</td>\n",
       "      <td>-0.013196</td>\n",
       "      <td>-0.016006</td>\n",
       "      <td>-0.021419</td>\n",
       "      <td>-0.007798</td>\n",
       "      <td>-0.007060</td>\n",
       "    </tr>\n",
       "    <tr>\n",
       "      <th>2020-01-06</th>\n",
       "      <td>0.014886</td>\n",
       "      <td>-0.000795</td>\n",
       "      <td>0.004194</td>\n",
       "      <td>-0.001751</td>\n",
       "      <td>0.015344</td>\n",
       "      <td>0.003533</td>\n",
       "    </tr>\n",
       "    <tr>\n",
       "      <th>2020-01-07</th>\n",
       "      <td>0.002092</td>\n",
       "      <td>-0.017000</td>\n",
       "      <td>0.012107</td>\n",
       "      <td>-0.001052</td>\n",
       "      <td>0.026908</td>\n",
       "      <td>-0.002803</td>\n",
       "    </tr>\n",
       "    <tr>\n",
       "      <th>2020-01-08</th>\n",
       "      <td>-0.007809</td>\n",
       "      <td>0.007801</td>\n",
       "      <td>0.001875</td>\n",
       "      <td>-0.001756</td>\n",
       "      <td>0.001795</td>\n",
       "      <td>0.004902</td>\n",
       "    </tr>\n",
       "    <tr>\n",
       "      <th>2020-01-09</th>\n",
       "      <td>0.004799</td>\n",
       "      <td>0.003652</td>\n",
       "      <td>0.010983</td>\n",
       "      <td>0.010378</td>\n",
       "      <td>-0.021856</td>\n",
       "      <td>0.006655</td>\n",
       "    </tr>\n",
       "    <tr>\n",
       "      <th>...</th>\n",
       "      <td>...</td>\n",
       "      <td>...</td>\n",
       "      <td>...</td>\n",
       "      <td>...</td>\n",
       "      <td>...</td>\n",
       "      <td>...</td>\n",
       "    </tr>\n",
       "    <tr>\n",
       "      <th>2025-08-15</th>\n",
       "      <td>0.000216</td>\n",
       "      <td>-0.012476</td>\n",
       "      <td>-0.008625</td>\n",
       "      <td>0.028656</td>\n",
       "      <td>-0.010101</td>\n",
       "      <td>-0.002897</td>\n",
       "    </tr>\n",
       "    <tr>\n",
       "      <th>2025-08-18</th>\n",
       "      <td>0.001991</td>\n",
       "      <td>0.003580</td>\n",
       "      <td>0.008645</td>\n",
       "      <td>0.025568</td>\n",
       "      <td>0.023292</td>\n",
       "      <td>-0.000101</td>\n",
       "    </tr>\n",
       "    <tr>\n",
       "      <th>2025-08-19</th>\n",
       "      <td>-0.015033</td>\n",
       "      <td>-0.002984</td>\n",
       "      <td>-0.034998</td>\n",
       "      <td>0.019163</td>\n",
       "      <td>-0.023412</td>\n",
       "      <td>-0.005858</td>\n",
       "    </tr>\n",
       "    <tr>\n",
       "      <th>2025-08-20</th>\n",
       "      <td>-0.018420</td>\n",
       "      <td>0.005436</td>\n",
       "      <td>-0.001366</td>\n",
       "      <td>-0.008762</td>\n",
       "      <td>-0.015316</td>\n",
       "      <td>-0.002432</td>\n",
       "    </tr>\n",
       "    <tr>\n",
       "      <th>2025-08-21</th>\n",
       "      <td>-0.008311</td>\n",
       "      <td>-0.002635</td>\n",
       "      <td>-0.002395</td>\n",
       "      <td>0.021179</td>\n",
       "      <td>0.020063</td>\n",
       "      <td>-0.004004</td>\n",
       "    </tr>\n",
       "  </tbody>\n",
       "</table>\n",
       "<p>1416 rows × 6 columns</p>\n",
       "</div>"
      ],
      "text/plain": [
       "Ticker          AMZN       JPM      NVDA       NVO       SQM     ^GSPC\n",
       "Date                                                                  \n",
       "2020-01-03 -0.012139 -0.013196 -0.016006 -0.021419 -0.007798 -0.007060\n",
       "2020-01-06  0.014886 -0.000795  0.004194 -0.001751  0.015344  0.003533\n",
       "2020-01-07  0.002092 -0.017000  0.012107 -0.001052  0.026908 -0.002803\n",
       "2020-01-08 -0.007809  0.007801  0.001875 -0.001756  0.001795  0.004902\n",
       "2020-01-09  0.004799  0.003652  0.010983  0.010378 -0.021856  0.006655\n",
       "...              ...       ...       ...       ...       ...       ...\n",
       "2025-08-15  0.000216 -0.012476 -0.008625  0.028656 -0.010101 -0.002897\n",
       "2025-08-18  0.001991  0.003580  0.008645  0.025568  0.023292 -0.000101\n",
       "2025-08-19 -0.015033 -0.002984 -0.034998  0.019163 -0.023412 -0.005858\n",
       "2025-08-20 -0.018420  0.005436 -0.001366 -0.008762 -0.015316 -0.002432\n",
       "2025-08-21 -0.008311 -0.002635 -0.002395  0.021179  0.020063 -0.004004\n",
       "\n",
       "[1416 rows x 6 columns]"
      ]
     },
     "execution_count": 31,
     "metadata": {},
     "output_type": "execute_result"
    }
   ],
   "source": [
    "#Con fórmula\n",
    "rend = prices.pct_change().dropna()\n",
    "rend"
   ]
  },
  {
   "cell_type": "code",
   "execution_count": 32,
   "id": "effc7ec3",
   "metadata": {},
   "outputs": [
    {
     "data": {
      "image/png": "[encoded data removed]",
      "text/plain": [
       "<Figure size 1200x600 with 1 Axes>"
      ]
     },
     "metadata": {},
     "output_type": "display_data"
    }
   ],
   "source": [
    "plt.figure(figsize=(12,6))\n",
    "plt.hist(rend, label=rend.columns, bins=100)\n",
    "plt.legend()\n",
    "plt.show();"
   ]
  },
  {
   "cell_type": "code",
   "execution_count": 33,
   "id": "48078df9",
   "metadata": {},
   "outputs": [
    {
     "data": {
      "text/plain": [
       "Ticker\n",
       "AMZN     21.597329\n",
       "JPM      20.861347\n",
       "NVDA     74.730864\n",
       "NVO      19.216140\n",
       "SQM      26.742928\n",
       "^GSPC    14.231965\n",
       "dtype: float64"
      ]
     },
     "execution_count": 33,
     "metadata": {},
     "output_type": "execute_result"
    }
   ],
   "source": [
    "mean = rend.mean()*100*252  #Rendimiento anualizado\n",
    "mean"
   ]
  },
  {
   "cell_type": "markdown",
   "id": "c547aa97",
   "metadata": {},
   "source": [
    "*Análisis*: NVDA tiene el rendimiento anualizado más alto. Con SOLO esta información, uno quisiera invertir en NVDA, sin embargo, es importante considerar otros factores como la volatilidad y el riesgo asociado a la inversión."
   ]
  },
  {
   "cell_type": "code",
   "execution_count": 34,
   "id": "f383943b",
   "metadata": {},
   "outputs": [
    {
     "data": {
      "text/plain": [
       "Ticker\n",
       "AMZN     12.963561\n",
       "JPM      10.207932\n",
       "NVDA     29.323648\n",
       "NVO      11.963817\n",
       "SQM      26.669007\n",
       "^GSPC     4.577013\n",
       "dtype: float64"
      ]
     },
     "execution_count": 34,
     "metadata": {},
     "output_type": "execute_result"
    }
   ],
   "source": [
    "rend.var()*100*252  #Varianza anualizada, casi nunca se utiliza en finanzas"
   ]
  },
  {
   "cell_type": "code",
   "execution_count": 35,
   "id": "2ffb1a5b",
   "metadata": {},
   "outputs": [
    {
     "data": {
      "text/plain": [
       "Ticker\n",
       "AMZN     36.004946\n",
       "JPM      31.949854\n",
       "NVDA     54.151314\n",
       "NVO      34.588751\n",
       "SQM      51.642044\n",
       "^GSPC    21.393954\n",
       "dtype: float64"
      ]
     },
     "execution_count": 35,
     "metadata": {},
     "output_type": "execute_result"
    }
   ],
   "source": [
    "vol = rend.std()*100*252**0.5  #Volatilidad anualizada\n",
    "vol"
   ]
  },
  {
   "cell_type": "code",
   "execution_count": null,
   "id": "2b34bc77",
   "metadata": {},
   "outputs": [
    {
     "data": {
      "text/plain": [
       "Ticker\n",
       "AMZN     1.667102\n",
       "JPM      1.531534\n",
       "NVDA     0.724618\n",
       "NVO      1.799984\n",
       "SQM      1.931054\n",
       "^GSPC    1.503233\n",
       "dtype: float64"
      ]
     },
     "execution_count": 37,
     "metadata": {},
     "output_type": "execute_result"
    }
   ],
   "source": [
    "#Coeficiente de variación (CV)\n",
    "#División de la desviación estándar entre la media\n",
    "#Quieres un valor bajo (Entre 0 y 1)\n",
    "cv = vol / mean\n",
    "cv"
   ]
  },
  {
   "cell_type": "code",
   "execution_count": 38,
   "id": "53fd9ead",
   "metadata": {},
   "outputs": [
    {
     "data": {
      "text/plain": [
       "Ticker\n",
       "AMZN     0.106892\n",
       "JPM      0.375630\n",
       "NVDA     0.348515\n",
       "NVO     -0.918657\n",
       "SQM     -0.033182\n",
       "^GSPC   -0.317617\n",
       "dtype: float64"
      ]
     },
     "execution_count": 38,
     "metadata": {},
     "output_type": "execute_result"
    }
   ],
   "source": [
    "skew = rend.skew()\n",
    "skew"
   ]
  },
  {
   "cell_type": "markdown",
   "id": "e5264765",
   "metadata": {},
   "source": [
    "# Actividad de clase"
   ]
  },
  {
   "cell_type": "code",
   "execution_count": null,
   "id": "ad2d610b",
   "metadata": {},
   "outputs": [
    {
     "name": "stderr",
     "output_type": "stream",
     "text": [
      "C:\\Users\\samue\\AppData\\Local\\Temp\\ipykernel_18428\\3025991009.py:1: FutureWarning: YF.download() has changed argument auto_adjust default to True\n",
      "  msft = yf.download('MSFT',start='2019-01-01', end='2024-01-01')['Close']\n",
      "[*********************100%***********************]  1 of 1 completed\n"
     ]
    },
    {
     "data": {
      "text/plain": [
       "(Ticker\n",
       " MSFT    0.127101\n",
       " dtype: float64,\n",
       " Ticker\n",
       " MSFT    32.0295\n",
       " dtype: float64)"
      ]
     },
     "execution_count": 45,
     "metadata": {},
     "output_type": "execute_result"
    }
   ],
   "source": [
    "msft = yf.download('MSFT',start='2019-01-01', end='2024-01-01')['Close']\n",
    "\n",
    "rend_msft = msft.pct_change().dropna()\n",
    "\n",
    "#Rendimiento diario y anual\n",
    "rend_msft.mean() * 100, rend_msft.mean() * 100 * 252"
   ]
  },
  {
   "cell_type": "code",
   "execution_count": null,
   "id": "ec660906",
   "metadata": {},
   "outputs": [
    {
     "data": {
      "text/plain": [
       "(Ticker\n",
       " MSFT    368.925425\n",
       " dtype: float64,\n",
       " Ticker\n",
       " MSFT    92969.207031\n",
       " dtype: float64)"
      ]
     },
     "execution_count": 43,
     "metadata": {},
     "output_type": "execute_result"
    }
   ],
   "source": [
    "#Varianza diaria y anual\n",
    "rend_msft.var() * 100, rend_msft.var() * 100 * 252"
   ]
  },
  {
   "cell_type": "code",
   "execution_count": null,
   "id": "b21b35ba",
   "metadata": {},
   "outputs": [
    {
     "data": {
      "text/plain": [
       "(Ticker\n",
       " MSFT    192.074315\n",
       " dtype: float64,\n",
       " Ticker\n",
       " MSFT    3049.085224\n",
       " dtype: float64)"
      ]
     },
     "execution_count": 44,
     "metadata": {},
     "output_type": "execute_result"
    }
   ],
   "source": [
    "#Desviación estándar diaria y anual\n",
    "rend_msft.std() * 100, rend_msft.std() * 100 * 252**0.5"
   ]
  },
  {
   "cell_type": "code",
   "execution_count": 50,
   "id": "64bb9aff",
   "metadata": {},
   "outputs": [
    {
     "data": {
      "text/plain": [
       "Ticker\n",
       "MSFT    0.951962\n",
       "dtype: float64"
      ]
     },
     "execution_count": 50,
     "metadata": {},
     "output_type": "execute_result"
    }
   ],
   "source": [
    "#Sharpe Ratio\n",
    "(rend_msft.std() * 252**0.5) / (rend_msft.mean() * 252)"
   ]
  },
  {
   "cell_type": "code",
   "execution_count": 47,
   "id": "fd927561",
   "metadata": {},
   "outputs": [
    {
     "data": {
      "text/plain": [
       "Ticker\n",
       "MSFT   -0.004064\n",
       "dtype: float64"
      ]
     },
     "execution_count": 47,
     "metadata": {},
     "output_type": "execute_result"
    }
   ],
   "source": [
    "rend_msft.skew()"
   ]
  },
  {
   "cell_type": "code",
   "execution_count": 48,
   "id": "e79c8fc2",
   "metadata": {},
   "outputs": [
    {
     "name": "stderr",
     "output_type": "stream",
     "text": [
      "C:\\Users\\samue\\AppData\\Local\\Temp\\ipykernel_18428\\908228409.py:3: UserWarning: No artists with labels found to put in legend.  Note that artists whose label start with an underscore are ignored when legend() is called with no argument.\n",
      "  plt.legend()\n"
     ]
    },
    {
     "data": {
      "image/png": "[encoded data removed]",
      "text/plain": [
       "<Figure size 1200x600 with 1 Axes>"
      ]
     },
     "metadata": {},
     "output_type": "display_data"
    }
   ],
   "source": [
    "plt.figure(figsize=(12,6))\n",
    "plt.hist(rend_msft, bins=100)\n",
    "plt.legend()\n",
    "plt.show();"
   ]
  },
  {
   "cell_type": "code",
   "execution_count": null,
   "id": "c48d68d9",
   "metadata": {},
   "outputs": [],
   "source": []
  }
 ],
 "metadata": {
  "kernelspec": {
   "display_name": "Python 3",
   "language": "python",
   "name": "python3"
  },
  "language_info": {
   "codemirror_mode": {
    "name": "ipython",
    "version": 3
   },
   "file_extension": ".py",
   "mimetype": "text/x-python",
   "name": "python",
   "nbconvert_exporter": "python",
   "pygments_lexer": "ipython3",
   "version": "3.13.7"
  }
 },
 "nbformat": 4,
 "nbformat_minor": 5
}
