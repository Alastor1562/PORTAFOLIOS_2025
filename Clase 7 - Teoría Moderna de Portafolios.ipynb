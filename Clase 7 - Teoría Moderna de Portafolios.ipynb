{
 "cells": [
  {
   "cell_type": "markdown",
   "id": "630588ac",
   "metadata": {},
   "source": [
    "<img style=\"float: left; margin: 30px 15px 15px 15px;\" src=\"https://oci02.img.iteso.mx/Identidades-De-Instancia/ITESO/Logos%20ITESO/Logo-ITESO-Principal.jpg\" width=\"400\" height=\"600\" /> \n",
    "    \n",
    "    \n",
    "## <font color='navy'> Teoría Moderna de Portafolios: Práctica\n",
    "    \n",
    "### <font color='navy'> Portafolios de Inversión\n",
    "\n",
    "    Mtro. Sean Nicolás González Vázquez\n",
    "    "
   ]
  },
  {
   "cell_type": "markdown",
   "id": "99bad716",
   "metadata": {},
   "source": [
    "###  0.- Introducción\n",
    "    \n",
    "Como discutimos en la clase anterior, la Teoría Moderna de Portafolios, propuesta por Markowitz y Sharpe, proporciona a los inversionistas herramientas valiosas para tomar decisiones de inversión más fundamentadas y basadas en datos.\n",
    "\n",
    "El objetivo principal de esta teoría es determinar las ponderaciones \"eficientes\" de un conjunto de activos dentro de un portafolio de inversión, optimizando una métrica específica, como la varianza o el ratio de Sharpe. A este proceso se le denomina:\n",
    "\n",
    "> **Asset Allocation**: Es el proceso de decidir cuánto capital asignar a cada activo dentro de un portafolio de inversión.\n",
    "    \n",
    "Ahora bien, *¿cómo podemos optimizar un portafolio en Python?*\n",
    "\n",
    "En esta clase aprenderemos a hacerlo utilizando la librería scipy, que incluye el método minimize. A continuación, se presenta el enlace a la documentación:\n",
    "\n",
    "+ https://docs.scipy.org/doc/scipy/reference/generated/scipy.optimize.minimize.html\n",
    "    \n",
    "    \n",
    "Esta función requiere los siguientes parámetros clave:\n",
    "\n",
    "+ **fun:** La función objetivo a optimizar.\n",
    "+ **x0**: Las variables iniciales que se desean ajustar.\n",
    "+ **bounds**: Los rangos permitidos para las variables de decisión.\n",
    "+ **constraints**: Las restricciones que deben cumplir las soluciones.\n",
    "+ **tol**: Tolerancia al error, por default usaremos 1e-16.\n",
    "    \n",
    "Con esta base y lo aprendido previamente sobre la Teoría Moderna de Portafolios, ¡comencemos!\n"
   ]
  },
  {
   "cell_type": "markdown",
   "id": "c05cc4f7",
   "metadata": {},
   "source": [
    "###  1.- Obtención de Datos y Métricas del Portafolio"
   ]
  },
  {
   "cell_type": "markdown",
   "id": "c5d10296",
   "metadata": {},
   "source": [
    "Primero, descargaremos los precios de cierre ajustado para los siguientes activos *AAPL*, *MSFT* y *GOOG*, desde el `2021-01-01` hasta la fecha. \n",
    "\n",
    "Después obtendremos los rendimientos y las métricas de riesgo y rendimiento de los activos de manera individual."
   ]
  },
  {
   "cell_type": "code",
   "execution_count": 29,
   "id": "c5fdc50f",
   "metadata": {},
   "outputs": [],
   "source": [
    "# Importación de librerías\n",
    "import numpy as np\n",
    "import matplotlib.pyplot as plt\n",
    "import pandas as pd\n",
    "import yfinance as yf\n",
    "from scipy.optimize import minimize"
   ]
  },
  {
   "cell_type": "code",
   "execution_count": 16,
   "id": "df3c5c08",
   "metadata": {},
   "outputs": [
    {
     "name": "stderr",
     "output_type": "stream",
     "text": [
      "C:\\Users\\samue\\AppData\\Local\\Temp\\ipykernel_29948\\1400789314.py:3: FutureWarning: YF.download() has changed argument auto_adjust default to True\n",
      "  prices = yf.download(tickers, start='2022-01-01', end='2025-09-19', progress=False)['Close']\n"
     ]
    }
   ],
   "source": [
    "# Obtener precios\n",
    "tickers = ['IBM', 'ORCL', 'PFE', 'F', 'DIS']\n",
    "prices = yf.download(tickers, start='2022-01-01', end='2025-09-19', progress=False)['Close']"
   ]
  },
  {
   "cell_type": "code",
   "execution_count": 17,
   "id": "b7153727",
   "metadata": {},
   "outputs": [],
   "source": [
    "# Obtener rendimiento\n",
    "returns = prices.pct_change().dropna()"
   ]
  },
  {
   "cell_type": "code",
   "execution_count": 19,
   "id": "1e4e3e28",
   "metadata": {},
   "outputs": [],
   "source": [
    "# Obtener rendimiento promedio\n",
    "mean_returns = returns.mean()"
   ]
  },
  {
   "cell_type": "code",
   "execution_count": 20,
   "id": "7f6655ce",
   "metadata": {},
   "outputs": [],
   "source": [
    "# Obtener matriz de covariânza varianza\n",
    "cov = returns.cov()"
   ]
  },
  {
   "cell_type": "markdown",
   "id": "ef9ab109",
   "metadata": {},
   "source": [
    "Con solamente esta informacion, estamos listos para encontrar los portafolios eficientes."
   ]
  },
  {
   "cell_type": "markdown",
   "id": "3ef339d6",
   "metadata": {},
   "source": [
    "###  2.- Portafolio Eficiente en Mínima Varianza\n",
    "    \n",
    "El portafolio eficiente en mínima varianza es aquel que proporciona el menor riesgo posible, dado un conjunto de activos financieros.\n",
    "\n",
    "La idea central de este método es que es posible reducir el riesgo de un portafolio aprovechando las propiedades estadísticas de los rendimientos de los activos, específicamente sus covarianzas.\n",
    "y varianzas.\n",
    "\n",
    "Markowitz demostró que, al considerar cómo los rendimientos de una colección de activos se mueven conjuntamente (es decir, su covarianza), los inversores pueden construir un portafolio que minimice el riesgo.\n",
    "    \n",
    "El problema de optimización se define de la siguiente manera:\n",
    "    \n",
    "    \n",
    "$$\\min_w \\sigma^2 = w^T \\Sigma w$$\n",
    "    \n",
    "$$s.a. \\hspace{0.5cm} \\sum_{i=1}^n w_i= 1$$\n",
    "$$ \\hspace{0.8cm} w > 0 $$\n",
    "    \n",
    "    \n",
    "Recuerda que `scipy` nos solicitará la función objetivo, los valores iniciales, las cotas, las restricciones y la tolerancia al error para realizar la optimización."
   ]
  },
  {
   "cell_type": "code",
   "execution_count": 23,
   "id": "3a5fd3b0",
   "metadata": {},
   "outputs": [],
   "source": [
    "# Definir funcion objetivo\n",
    "def varianza(w):\n",
    "    return w.T @ cov @ w\n",
    "\n",
    "varianza = lambda w: w.T @ cov @ w      # Más profesional"
   ]
  },
  {
   "cell_type": "code",
   "execution_count": 27,
   "id": "9955a157",
   "metadata": {},
   "outputs": [],
   "source": [
    "# Definir valores iniciales\n",
    "n = len(tickers)\n",
    "\n",
    "w_inicial = np.ones(n) / n"
   ]
  },
  {
   "cell_type": "code",
   "execution_count": 28,
   "id": "54be0711",
   "metadata": {},
   "outputs": [],
   "source": [
    "# Definir las cotas\n",
    "cotas = [(0, 1)] * n"
   ]
  },
  {
   "cell_type": "code",
   "execution_count": 31,
   "id": "456c12f7",
   "metadata": {},
   "outputs": [],
   "source": [
    "# Definir las restricciones --> Debe estar igualada a 0 en scipy\n",
    "restricciones = lambda w: np.sum(w) - 1"
   ]
  },
  {
   "cell_type": "code",
   "execution_count": 32,
   "id": "3cf83ae3",
   "metadata": {},
   "outputs": [],
   "source": [
    "# Definir tolerancia\n",
    "tol = 1e-16"
   ]
  },
  {
   "cell_type": "code",
   "execution_count": 34,
   "id": "1b8d2031",
   "metadata": {},
   "outputs": [],
   "source": [
    "# Aplicar función de scipy.optimize\n",
    "result = minimize(fun = varianza, \n",
    "         x0 = w_inicial, \n",
    "         bounds = cotas, \n",
    "         constraints = {'fun': restricciones, 'type': 'eq'}, \n",
    "         tol = tol)"
   ]
  },
  {
   "cell_type": "code",
   "execution_count": null,
   "id": "2abe18bd",
   "metadata": {},
   "outputs": [
    {
     "data": {
      "text/plain": [
       "array([0.15699665, 0.02814754, 0.37524413, 0.06672792, 0.37288375])"
      ]
     },
     "execution_count": 44,
     "metadata": {},
     "output_type": "execute_result"
    }
   ],
   "source": [
    "# Encontrar pesos eficientes \n",
    "w_opt = result.x\n",
    "w_opt\n",
    "# Pesos eficientes en mínima varianza, son los pesos para los activos por los cuales se minimiza el riesgo del portafolio\n",
    "# Si cambiamos los activos, los pesos van a cambiar\n",
    "# Garbage in, garbage out\n",
    "# Este es solo un punto óptimo de varios en la frontera eficiente"
   ]
  },
  {
   "cell_type": "markdown",
   "id": "8affdcca",
   "metadata": {},
   "source": [
    "¡Perfecto!, ahora obtengamos las métricas de rendimiento y riesgo de este portafolio de inversion"
   ]
  },
  {
   "cell_type": "code",
   "execution_count": 47,
   "id": "f29742f2",
   "metadata": {},
   "outputs": [
    {
     "data": {
      "text/plain": [
       "np.float64(0.02383235924856925)"
      ]
     },
     "execution_count": 47,
     "metadata": {},
     "output_type": "execute_result"
    }
   ],
   "source": [
    "# Obtener rendimiento del portafolio\n",
    "rend_p = np.dot(w_opt, mean_returns)\n",
    "rend_p * 100"
   ]
  },
  {
   "cell_type": "code",
   "execution_count": 48,
   "id": "35fd1ed8",
   "metadata": {},
   "outputs": [
    {
     "data": {
      "text/plain": [
       "np.float64(1.128909102650279)"
      ]
     },
     "execution_count": 48,
     "metadata": {},
     "output_type": "execute_result"
    }
   ],
   "source": [
    "# Obtener volatilidad del portafolio\n",
    "vol_p = np.sqrt(varianza(w_opt))\n",
    "vol_p * 100"
   ]
  },
  {
   "cell_type": "markdown",
   "id": "c0a7dde5",
   "metadata": {},
   "source": [
    "¿Parece sencillo, verdad? Aunque la implementación básica es bastante directa, imagina que quisieras optimizar múltiples portafolios. Para este tipo de escenarios, es más eficiente generar funciones de Python. Recordemos que la estructura básica para definir una función en Python es la siguiente:\n",
    "\n",
    "def nombre_de_función(parámetro_1, ..., parámetro_n):\n",
    "\n",
    "        ... code ...\n",
    "        ... code ...\n",
    "        \n",
    "        return result\n",
    "        \n",
    "**Ejercicio:** Con esta información, crea una función llamada `opt_min_var`que reciba los rendimientos de los activos y retorne los pesos eficientes en mínima varianza."
   ]
  },
  {
   "cell_type": "code",
   "execution_count": null,
   "id": "695e8794",
   "metadata": {},
   "outputs": [],
   "source": [
    "# Programar funcion\n"
   ]
  },
  {
   "cell_type": "code",
   "execution_count": null,
   "id": "48971747",
   "metadata": {},
   "outputs": [],
   "source": [
    "# Verificar resultados de la función\n"
   ]
  },
  {
   "cell_type": "markdown",
   "id": "63a1187d",
   "metadata": {},
   "source": [
    "### <font color='navy'>  3.- Portafolio Eficiente en Máximo de Sharpe\n",
    "    \n",
    "El portafolio eficiente en máximo Sharpe es aquel que maximiza la relación entre retorno y riesgo.\n",
    "\n",
    "Esta relación se mide a través del ratio de Sharpe, que es el ratio entre el retorno en exceso a la tasa\n",
    "libre de riesgo y el riesgo.\n",
    "\n",
    "$$\\max_w \\hspace{0.1 cm} RS = \\frac{\\mu - r_f}{\\sigma} = \\frac{w^T \\bar{r} - r_f}{\\sqrt{w^T \\Sigma w}}$$\n",
    "    \n",
    "$$s.a. \\hspace{0.5cm} \\sum_{i=1}^n w_i= 1$$\n",
    "$$ \\hspace{0.8cm} w > 0 $$\n",
    "    \n",
    "La tasa libre de riesgo es una referencia clave en el ámbito financiero y generalmente es conocida de antemano por el gestor de inversiones, ya que el banco central del país de referencia la publica regularmente.\n",
    "\n",
    "Por ejemplo, la tasa de Banxico la puedes encontrar en https://www.banxico.org.mx/, y la tasa del Banco Central Americano en https://www.federalreserve.gov/releases/h15/#:~:text=As%20of%20March%201,%202016,%20the%20daily%20effective%20federal%20funds.\n",
    "    \n",
    "Escribe ahora una función llamada `opt_max_sharpe` que obtenga los pesos eficientes en máximo de sharpe para tu portafolio, esta recibirá los rendimientos y la tasa libre de riesgo, deberá retornar los pesos."
   ]
  },
  {
   "cell_type": "code",
   "execution_count": null,
   "id": "7c0b1cb4",
   "metadata": {},
   "outputs": [],
   "source": [
    "# Programar funcion\n"
   ]
  },
  {
   "cell_type": "code",
   "execution_count": null,
   "id": "d2883cdd",
   "metadata": {},
   "outputs": [],
   "source": [
    "# Obtener los pesos\n"
   ]
  },
  {
   "cell_type": "markdown",
   "id": "e7fa8676",
   "metadata": {},
   "source": [
    "¡Bien hecho!, ahora encontremos las métricas de rendimiento y riesgo para el portafolio eficiente en máximo de Sharpe"
   ]
  },
  {
   "cell_type": "code",
   "execution_count": null,
   "id": "f447a405",
   "metadata": {},
   "outputs": [],
   "source": [
    "# Obtener rendimiento del portafolio\n"
   ]
  },
  {
   "cell_type": "code",
   "execution_count": null,
   "id": "c8c99813",
   "metadata": {},
   "outputs": [],
   "source": [
    "# Obtener volatilidad del portafolio\n"
   ]
  },
  {
   "cell_type": "markdown",
   "id": "239fcbf8",
   "metadata": {},
   "source": [
    "Ahora, comparemos la volatilidad del portafolio eficiente en máximo de sharpe con el de mínima varianza. ¿Que observas? ¿Qué pasa con el rendimiento?"
   ]
  },
  {
   "cell_type": "markdown",
   "id": "03eba57d",
   "metadata": {},
   "source": [
    "### <font color='navy'>  4.- Frontera Eficiente en Media Varianza\n",
    "    \n",
    "La frontera eficiente en media-varianza es la sección superior de la bala de Markowitz, donde se encuentran aquellos portafolios que, para un nivel de riesgo dado, ofrecen el mayor rendimiento posible.\n",
    "\n",
    "Estos portafolios son considerados “óptimos” porque no es posible encontrar otro portafolio con el mismo nivel de riesgo que ofrezca un rendimiento superior. Por lo tanto, los portafolios que se encuentran dentro de la frontera eficiente representan aquellas combinaciones de activos que un inversionista racional seleccionaría.\n",
    "\n",
    "    \n",
    "Para dibujar la frontera eficiente de portafolios, sigue estos pasos:\n",
    "\n",
    "**1.- Descarga de datos**: Para un conjunto de activos financieros, descarga los precios de cierre ajustado. A partir de estos precios, calcula los rendimientos diarios.\n",
    "    \n",
    "**2.- Generación de portafolios aleatorios**: Genera múltiples portafolios aleatorios para explorar todas las posibles combinaciones de pesos. Utiliza la función `np.random.dirichlet` para generar combinaciones de pesos que cumplan con las restricciones necesarias: Todos los pesos deben ser mayores o iguales a cero (portafolios long-only). Los pesos deben sumar 1 (esto asegura que estás asignando todo el capital disponible).\n",
    "\n",
    "    \n",
    " > *Distribución de Dirichlet*: Esta distribución es útil cuando se desea generar valores que sumen un total constante (en este caso, 1). Es una distribución continua multivariable que, a diferencia de otras, respeta la condición de no negatividad y normalización, lo que la hace ideal para representar pesos en portafolios. \n",
    "\n",
    "**3.-  Cálculo del rendimiento esperado y la volatilidad de portafolios aleatorios**: Para cada portafolio generado en el paso anterior, calcula su rendimiento esperado y su volatilidad.\n",
    "\n",
    "**4.- Portafolio de mínima varianza**: Encuentra el portafolio con la mínima varianza. \n",
    "    \n",
    "\n",
    "**5.- Portafolio de máximo Sharpe**: Encuentra el portafolio eficiente en máximo de Sharpe \n",
    "\n",
    "**6.- Gráfica de la frontera eficiente**: Grafica los portafolios aleatorios junto con los portafolios eficientes. Usa el eje x para la volatilidad (desviación estándar) y el eje y para el rendimiento. \n",
    "    \n",
    "*Plus:* Puedes incluir también los activos individuales dentro de la gráfica. Esto te permitirá comparar cada activo con los portafolios eficientes y ver cuál ofrece una mejor relación riesgo-rendimiento."
   ]
  },
  {
   "cell_type": "code",
   "execution_count": null,
   "id": "355b9545",
   "metadata": {},
   "outputs": [],
   "source": [
    "# Generacion de portafolios aleatorios\n"
   ]
  },
  {
   "cell_type": "code",
   "execution_count": null,
   "id": "a721cda1",
   "metadata": {},
   "outputs": [],
   "source": [
    "# Realizar grafica\n",
    "\n",
    "# Scatter plot de portafolios aleatorios\n",
    "\n",
    "\n",
    "# Scatter plot de Minima Varianza\n",
    "\n",
    "\n",
    "# Scatter plot de Maximo de Sharpe\n",
    "\n",
    "\n",
    "# Nombrar eje x, y, titulo\n",
    "\n",
    "\n",
    "\n",
    "# Graficar coordenadas de activos individuales\n"
   ]
  },
  {
   "cell_type": "markdown",
   "id": "1f283e24",
   "metadata": {},
   "source": [
    "### <font color='navy'>  Conclusiones"
   ]
  },
  {
   "cell_type": "markdown",
   "id": "81772e65",
   "metadata": {},
   "source": [
    "> Los portafolios óptimos representan el **\"mejor\" portafolio (combinación de activos / ponderaciones) para un conjunto de activos financieros según una métrica específica**. Estos portafolios ofrecen una visión clara sobre cómo asignar el capital de manera sistemática dado un objetivo concreto.\n",
    "\n",
    "> Aunque invertir en estos portafolios aumenta la probabilidad de obtener ganancias, es crucial tener en cuenta que estos cálculos están basados en datos históricos. La teoría de portafolios asume que las correlaciones, rendimientos y volatilidades del pasado se mantendrán constantes en el futuro, lo cual a veces no sucede: \"**rendimientos pasados no aseguran rendimientos futuros**\". Hay que considerar también que la inversión en portafolios, a diferencia del *trading*, es a largo plazo. \n",
    "\n",
    "> A pesar de esto, **el uso de metodologías cuantitativas ofrece una mejora sustancial sobre la asignación de activos basada en la intuición o el \"feeling\"**. La asignación *aleatoria de capital* sin un análisis cuantitativo adecuado tiende a ser ineficiente, y a menudo lleva a una sobreexposición a riesgos y sesgos cognitivos.\n",
    "\n",
    "> Al aplicar un enfoque estructurado y basado en datos para la selección de portafolios, los inversores pueden **tomar decisiones más informadas y sistemáticas**, lo que resulta en una gestión del riesgo más adecuada y una mayor probabilidad de alcanzar sus objetivos financieros a largo plazo.\n",
    "\n",
    "\n"
   ]
  },
  {
   "cell_type": "markdown",
   "id": "51beda51",
   "metadata": {},
   "source": [
    "## <font color='navy'>  Tarea 4. \n",
    "\n",
    "Realiza un análisis para un portafolio compuesto por los siguientes activos: **LLY (Eli Lilly), NVDA (NVIDIA), MSFT (Microsoft) y KXI (iShares Global Consumer Staples ETF)**. Completa los siguientes puntos.\n",
    "\n",
    "---\n",
    "\n",
    "### 1. Investigación de los Activos\n",
    "\n",
    "Realiza un breve resumen de los activos, describiendo su giro de negocio, sector y productos o servicios.\n",
    "\n",
    "\n",
    "---\n",
    "\n",
    "### 2. Cálculo de Rendimientos y Volatilidad de Activos\n",
    "\n",
    "Descarga los **precios de cierre ajustado** para los activos desde el `2018-01-01` hasta el `2024-09-25`, calcula los **rendimientos diarios**, así como el **rendimiento promedio**, la **volatilidad** de cada activo y la **matriz de covarianza**.\n",
    "\n",
    "---\n",
    "\n",
    "### 3. Portafolio Eficiente en Mínima Varianza\n",
    "\n",
    "Utilizando la matriz de covarianza de los activos, optimiza los pesos para obtener el **portafolio de mínima varianza**. Calcula su rendimiento y volatilidad.\n",
    "\n",
    "---\n",
    "\n",
    "### 4. Portafolio Eficiente en Máximo Sharpe\n",
    "\n",
    "Obtén el portafolio que **maximiza el ratio de Sharpe**, calcula su rendimiento y volatilidad. Asume una tasa libre de riesgo del $3\\%$ anual.\n",
    "\n",
    "\n",
    "---\n",
    "\n",
    "### 5. Portafolio Equitativamente Ponderado\n",
    "\n",
    "\n",
    "Asume otro portafolio equitativamente ponderado (todos los activos con el mismo peso), y calcula su rendimiento promedio y su volatilidad.\n",
    "\n",
    "---\n",
    "\n",
    "### 6. Gráfica de la Frontera Eficiente\n",
    "\n",
    "    \n",
    "Grafica la **frontera eficiente** en términos de media-varianza, junto con los portafolios eficientes, el portafolio equitativamente ponderado y los activos individuales.\n",
    "\n",
    "---\n",
    "\n",
    "### 7. Conclusión\n",
    "\n",
    "    \n",
    "Compara las métricas de rendimiento y volatilidad de los tres portafolios: \n",
    "1. Portafolio de mínima varianza\n",
    "2. Portafolio de máximo Sharpe\n",
    "3. Portafolio equitativamente ponderado\n",
    "\n",
    "Responde:\n",
    "\n",
    "- ¿Cuál de estos portafolios es superior en términos de riesgo?    \n",
    "\n",
    "\n",
    "- ¿Cuál de estos portafolios es superior en términos de riesgo y retorno?   \n",
    "\n",
    "\n",
    "- Interpreta la frontera eficiente en base a la teoría vista en clase y responde: ¿Qué pasa con el portafolio *equally weighted*?¿Es óptimo?¿Por qué?  \n",
    "\n",
    "\n",
    "- ¿Por qué un portafolio podría ser mejor que otro? ¿De qué depende que sea \"mejor\"?    \n",
    "\n",
    "\n",
    "- Analiza las ponderaciones obtenidas por el método de mínima varianza y el de máximo de Sharpe para cada activo de manera individual, basándote en la descripción presentada en la primera sección de la tarea. ¿Qué factores explican que cada activo tenga una mayor o menor ponderación en uno de los métodos en comparación con el otro?\n",
    "\n",
    "\n",
    "- Concluye acerca de las ventajas y desventajas de una estrategia cuantitativa de asignación de activos frente a una basada en \"feeling\" o intuición.\n"
   ]
  }
 ],
 "metadata": {
  "kernelspec": {
   "display_name": "Python 3",
   "language": "python",
   "name": "python3"
  },
  "language_info": {
   "codemirror_mode": {
    "name": "ipython",
    "version": 3
   },
   "file_extension": ".py",
   "mimetype": "text/x-python",
   "name": "python",
   "nbconvert_exporter": "python",
   "pygments_lexer": "ipython3",
   "version": "3.13.7"
  }
 },
 "nbformat": 4,
 "nbformat_minor": 5
}
