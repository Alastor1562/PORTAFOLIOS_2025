{
 "cells": [
  {
   "cell_type": "code",
   "execution_count": 1,
   "id": "9cb6e3bb",
   "metadata": {},
   "outputs": [],
   "source": [
    "import numpy as np\n",
    "import matplotlib.pyplot as plt\n",
    "import yfinance as yf"
   ]
  },
  {
   "cell_type": "code",
   "execution_count": 2,
   "id": "cb6397bd",
   "metadata": {},
   "outputs": [
    {
     "name": "stderr",
     "output_type": "stream",
     "text": [
      "C:\\Users\\samue\\AppData\\Local\\Temp\\ipykernel_20324\\920268129.py:3: FutureWarning: YF.download() has changed argument auto_adjust default to True\n",
      "  prices = yf.download(tickers,start='2020-01-01', end='2025-08-27')['Close']\n",
      "[*********************100%***********************]  4 of 4 completed\n"
     ]
    }
   ],
   "source": [
    "tickers = ['AAPL', 'MSFT', 'NVDA', 'DIS']\n",
    "\n",
    "prices = yf.download(tickers,start='2020-01-01', end='2025-08-27')['Close']\n",
    "\n",
    "daily_rend = prices.pct_change().dropna()"
   ]
  },
  {
   "cell_type": "code",
   "execution_count": 3,
   "id": "ddda6701",
   "metadata": {},
   "outputs": [
    {
     "data": {
      "text/plain": [
       "Ticker\n",
       "AAPL    0.256734\n",
       "DIS     0.019170\n",
       "MSFT    0.256657\n",
       "NVDA    0.752535\n",
       "dtype: float64"
      ]
     },
     "execution_count": 3,
     "metadata": {},
     "output_type": "execute_result"
    }
   ],
   "source": [
    "#Rend, Riesgo Ind.\n",
    "rend_mean = daily_rend.mean()*252\n",
    "rend_mean"
   ]
  },
  {
   "cell_type": "code",
   "execution_count": 4,
   "id": "f810e1ab",
   "metadata": {},
   "outputs": [
    {
     "data": {
      "text/plain": [
       "Ticker\n",
       "AAPL    0.323874\n",
       "DIS     0.338956\n",
       "MSFT    0.301211\n",
       "NVDA    0.540992\n",
       "dtype: float64"
      ]
     },
     "execution_count": 4,
     "metadata": {},
     "output_type": "execute_result"
    }
   ],
   "source": [
    "rend_vol = daily_rend.std()*252**0.5\n",
    "rend_vol"
   ]
  },
  {
   "cell_type": "code",
   "execution_count": 5,
   "id": "33054e7d",
   "metadata": {},
   "outputs": [],
   "source": [
    "w = np.array([0.25, 0.25, 0.25, 0.25])\n",
    "\n",
    "cov = daily_rend.cov()"
   ]
  },
  {
   "cell_type": "code",
   "execution_count": 6,
   "id": "6693a4a5",
   "metadata": {},
   "outputs": [
    {
     "data": {
      "text/plain": [
       "0.321274041763175"
      ]
     },
     "execution_count": 6,
     "metadata": {},
     "output_type": "execute_result"
    }
   ],
   "source": [
    "port_mean = float(np.dot(rend_mean, w))\n",
    "port_mean"
   ]
  },
  {
   "cell_type": "code",
   "execution_count": 7,
   "id": "27fdc126",
   "metadata": {},
   "outputs": [
    {
     "data": {
      "text/plain": [
       "0.3076339421588039"
      ]
     },
     "execution_count": 7,
     "metadata": {},
     "output_type": "execute_result"
    }
   ],
   "source": [
    "port_vol = float(np.sqrt(w.T @ cov @ w) * np.sqrt(252))\n",
    "port_vol"
   ]
  },
  {
   "cell_type": "code",
   "execution_count": 8,
   "id": "144794a8",
   "metadata": {},
   "outputs": [
    {
     "data": {
      "text/html": [
       "<div>\n",
       "<style scoped>\n",
       "    .dataframe tbody tr th:only-of-type {\n",
       "        vertical-align: middle;\n",
       "    }\n",
       "\n",
       "    .dataframe tbody tr th {\n",
       "        vertical-align: top;\n",
       "    }\n",
       "\n",
       "    .dataframe thead th {\n",
       "        text-align: right;\n",
       "    }\n",
       "</style>\n",
       "<table border=\"1\" class=\"dataframe\">\n",
       "  <thead>\n",
       "    <tr style=\"text-align: right;\">\n",
       "      <th>Ticker</th>\n",
       "      <th>AAPL</th>\n",
       "      <th>DIS</th>\n",
       "      <th>MSFT</th>\n",
       "      <th>NVDA</th>\n",
       "    </tr>\n",
       "    <tr>\n",
       "      <th>Ticker</th>\n",
       "      <th></th>\n",
       "      <th></th>\n",
       "      <th></th>\n",
       "      <th></th>\n",
       "    </tr>\n",
       "  </thead>\n",
       "  <tbody>\n",
       "    <tr>\n",
       "      <th>AAPL</th>\n",
       "      <td>1.000000</td>\n",
       "      <td>0.456883</td>\n",
       "      <td>0.721735</td>\n",
       "      <td>0.589579</td>\n",
       "    </tr>\n",
       "    <tr>\n",
       "      <th>DIS</th>\n",
       "      <td>0.456883</td>\n",
       "      <td>1.000000</td>\n",
       "      <td>0.470805</td>\n",
       "      <td>0.396058</td>\n",
       "    </tr>\n",
       "    <tr>\n",
       "      <th>MSFT</th>\n",
       "      <td>0.721735</td>\n",
       "      <td>0.470805</td>\n",
       "      <td>1.000000</td>\n",
       "      <td>0.680905</td>\n",
       "    </tr>\n",
       "    <tr>\n",
       "      <th>NVDA</th>\n",
       "      <td>0.589579</td>\n",
       "      <td>0.396058</td>\n",
       "      <td>0.680905</td>\n",
       "      <td>1.000000</td>\n",
       "    </tr>\n",
       "  </tbody>\n",
       "</table>\n",
       "</div>"
      ],
      "text/plain": [
       "Ticker      AAPL       DIS      MSFT      NVDA\n",
       "Ticker                                        \n",
       "AAPL    1.000000  0.456883  0.721735  0.589579\n",
       "DIS     0.456883  1.000000  0.470805  0.396058\n",
       "MSFT    0.721735  0.470805  1.000000  0.680905\n",
       "NVDA    0.589579  0.396058  0.680905  1.000000"
      ]
     },
     "execution_count": 8,
     "metadata": {},
     "output_type": "execute_result"
    }
   ],
   "source": [
    "daily_rend.corr()"
   ]
  },
  {
   "cell_type": "markdown",
   "id": "8cd289c6",
   "metadata": {},
   "source": [
    "**Interpretación:**\n",
    "\n",
    "- Todas las que son 1 es porque son la misma empresa, por lo que se mueven exactamente igual\n",
    "- p altas: el 0.72 entre AAPL y MSFT refleja que ambas empresas están en el sector tecnológico y responden a factores comunes del mercado.\n",
    "- Las tecnológicas (AAPL, MSFT, NVDA) tienen correlaciones más altas entre sí, por lo que se mueven en la misma dirección frecuentemente.\n",
    "- Disney (DIS) tiene correlaciones más bajas con las demás, siendo la que aporta mayor diversificación al portafolio al estar en un sector diferente, porque no se mueve tan parecido a las tecnológicas.\n",
    "- Este portafolio está concentrado en tecnología, lo que es riesgoso porque depende de un solo sector, y sus activos se mueven casi a la par. Solo DIS aporta un poco de diversificación, pero no lo suficiente. Aparte, todos pertenecen al S&P 500."
   ]
  },
  {
   "cell_type": "markdown",
   "id": "41ba2599",
   "metadata": {},
   "source": [
    "## **Actividad**\n",
    "\n",
    "Encontrar los siguientes puntos del portafolio presentado:\n",
    "\n",
    "- Investiga acerca de la naturaleza de los activos que componen el portafolio\n",
    "- Rendimiento diario y anual del portafolio\n",
    "- Varianza diaria y anual del portafolio\n",
    "- Volatilidad diaria y anual del portafolio\n",
    "- Matriz de Correlación\n",
    "- Concluir acerca de la correlación entre los activos\n",
    "- Con la investigación y la matriz de correlación, comenta sobre el riesgo no sistemático de los activos\n",
    "\n",
    "**Portafolio:**\n",
    "\n",
    "| Activo | Ponderación | Sector |\n",
    "|--------|-------------|--------|\n",
    "| COST   | 26.6%       | Consumo |\n",
    "| AMD    | 26.8%       | Tecnología |\n",
    "| CRM    | 13.9%       | Tecnología |\n",
    "| MRK    | 32.7%       | Salud |\n",
    "\n",
    "**Investigación Previa:**\n",
    "\n",
    "- COST (Costco Wholesale Corporation): La empresa permite que tanto individuos como empresas compren productos en grandes volúmenes, usualmente a precios bajos. Para acceder, los clientes deben ser miembros, lo que genera una fuente de ingreso recurrente importante. Principales fuentes de ingresos:\n",
    "  - Ventas de productos en sus tiendas físicas y en línea.\n",
    "  - Cuotas de membresía.\n",
    "  - Servicios adicionales como óptica, gasolina, farmacia y viajes.\n",
    "\n",
    "- AMD (Advanced Micro Devices, Inc.) opera en el sector de semiconductores y hardware informático . AMD diseña y fabrica procesadores, tarjetas gráficas y otros componentes electrónicos para computadoras y dispositivos electrónicos. Concesión desde USA, para la importación de material de China.Sus principales productos incluyen:\n",
    "  - Procesadores (CPUs) para computadoras de escritorio, portátiles y servidores.\n",
    "  - Tarjetas gráficas (GPUs) para juegos, estaciones de trabajo y aplicaciones profesionales.\n",
    "  - Soluciones integradas que combinan CPU y GPU en un solo chip.\n",
    "\n",
    "- CRM (Salesforce, Inc.) es una empresa estadounidense especializada en software en la nube para la gestión de relaciones con clientes (CRM) que también ofrece soluciones para ventas, servicio, marketing, comercio electrónico, analítica, inteligencia artificial y desarrollo de aplicaciones empresariales. Principales fuentes de ingresos:\n",
    "  - Suscripciones a su plataforma CRM basada en la nube.\n",
    "  - Servicios adicionales como consultoría, formación y soporte técnico.\n",
    "  - Soluciones específicas para industrias como salud, finanzas y comercio minorista.\n",
    "\n",
    "- MRK (Merck & Co., Inc.) es una empresa farmacéutica global que se dedica a la investigación, desarrollo, fabricación y comercialización de productos farmacéuticos, vacunas y productos de salud animal. Principales fuentes de ingresos:\n",
    "  - Venta de medicamentos recetados para diversas áreas terapéuticas, incluyendo oncología."
   ]
  },
  {
   "cell_type": "code",
   "execution_count": 9,
   "id": "8425cb39",
   "metadata": {},
   "outputs": [
    {
     "name": "stderr",
     "output_type": "stream",
     "text": [
      "C:\\Users\\samue\\AppData\\Local\\Temp\\ipykernel_20324\\3864080365.py:3: FutureWarning: YF.download() has changed argument auto_adjust default to True\n",
      "  prices = yf.download(tickers,start='2022-01-01', end='2025-09-03')['Close']\n",
      "[*********************100%***********************]  4 of 4 completed\n"
     ]
    }
   ],
   "source": [
    "tickers = ['COST', 'AMD', 'CRM', 'MRK']\n",
    "\n",
    "prices = yf.download(tickers,start='2022-01-01', end='2025-09-03')['Close']\n",
    "\n",
    "daily_rend = prices.pct_change().dropna()"
   ]
  },
  {
   "cell_type": "code",
   "execution_count": null,
   "id": "63ade901",
   "metadata": {},
   "outputs": [
    {
     "data": {
      "text/plain": [
       "Ticker\n",
       "AMD     16.169203\n",
       "COST    17.979550\n",
       "CRM      6.967162\n",
       "MRK      8.282375\n",
       "dtype: float64"
      ]
     },
     "execution_count": 14,
     "metadata": {},
     "output_type": "execute_result"
    }
   ],
   "source": [
    "# Rendimiento Anual Historico\n",
    "anual_rend = daily_rend.mean()*252\n",
    "anual_rend*100"
   ]
  },
  {
   "cell_type": "code",
   "execution_count": null,
   "id": "5e684941",
   "metadata": {},
   "outputs": [
    {
     "data": {
      "text/plain": [
       "Ticker\n",
       "AMD     53.193968\n",
       "COST    23.777235\n",
       "CRM     37.333636\n",
       "MRK     22.258966\n",
       "dtype: float64"
      ]
     },
     "execution_count": 15,
     "metadata": {},
     "output_type": "execute_result"
    }
   ],
   "source": [
    "# Volatilidad Individual\n",
    "vol = daily_rend.std()*252**0.5\n",
    "vol*100"
   ]
  },
  {
   "cell_type": "code",
   "execution_count": null,
   "id": "b9a8f3e8",
   "metadata": {},
   "outputs": [
    {
     "data": {
      "text/plain": [
       "Ticker\n",
       "AMD     3.289832\n",
       "COST    1.322460\n",
       "CRM     5.358514\n",
       "MRK     2.687510\n",
       "dtype: float64"
      ]
     },
     "execution_count": 16,
     "metadata": {},
     "output_type": "execute_result"
    }
   ],
   "source": [
    "# Coeficiente de Variacion\n",
    "cv = vol/anual_rend\n",
    "cv"
   ]
  },
  {
   "cell_type": "code",
   "execution_count": 24,
   "id": "07bab51f",
   "metadata": {},
   "outputs": [
    {
     "data": {
      "text/html": [
       "<div>\n",
       "<style scoped>\n",
       "    .dataframe tbody tr th:only-of-type {\n",
       "        vertical-align: middle;\n",
       "    }\n",
       "\n",
       "    .dataframe tbody tr th {\n",
       "        vertical-align: top;\n",
       "    }\n",
       "\n",
       "    .dataframe thead th {\n",
       "        text-align: right;\n",
       "    }\n",
       "</style>\n",
       "<table border=\"1\" class=\"dataframe\">\n",
       "  <thead>\n",
       "    <tr style=\"text-align: right;\">\n",
       "      <th>Ticker</th>\n",
       "      <th>AMD</th>\n",
       "      <th>COST</th>\n",
       "      <th>CRM</th>\n",
       "      <th>MRK</th>\n",
       "    </tr>\n",
       "    <tr>\n",
       "      <th>Ticker</th>\n",
       "      <th></th>\n",
       "      <th></th>\n",
       "      <th></th>\n",
       "      <th></th>\n",
       "    </tr>\n",
       "  </thead>\n",
       "  <tbody>\n",
       "    <tr>\n",
       "      <th>AMD</th>\n",
       "      <td>0.001123</td>\n",
       "      <td>0.000198</td>\n",
       "      <td>0.000390</td>\n",
       "      <td>0.000011</td>\n",
       "    </tr>\n",
       "    <tr>\n",
       "      <th>COST</th>\n",
       "      <td>0.000198</td>\n",
       "      <td>0.000224</td>\n",
       "      <td>0.000145</td>\n",
       "      <td>0.000029</td>\n",
       "    </tr>\n",
       "    <tr>\n",
       "      <th>CRM</th>\n",
       "      <td>0.000390</td>\n",
       "      <td>0.000145</td>\n",
       "      <td>0.000553</td>\n",
       "      <td>0.000026</td>\n",
       "    </tr>\n",
       "    <tr>\n",
       "      <th>MRK</th>\n",
       "      <td>0.000011</td>\n",
       "      <td>0.000029</td>\n",
       "      <td>0.000026</td>\n",
       "      <td>0.000197</td>\n",
       "    </tr>\n",
       "  </tbody>\n",
       "</table>\n",
       "</div>"
      ],
      "text/plain": [
       "Ticker       AMD      COST       CRM       MRK\n",
       "Ticker                                        \n",
       "AMD     0.001123  0.000198  0.000390  0.000011\n",
       "COST    0.000198  0.000224  0.000145  0.000029\n",
       "CRM     0.000390  0.000145  0.000553  0.000026\n",
       "MRK     0.000011  0.000029  0.000026  0.000197"
      ]
     },
     "execution_count": 24,
     "metadata": {},
     "output_type": "execute_result"
    }
   ],
   "source": [
    "# Matriz de pesos y Matriz de Varianza-Covarianza\n",
    "w = np.array([0.25, 0.25, 0.25, 0.25])\n",
    "\n",
    "cov = daily_rend.cov()\n",
    "cov"
   ]
  },
  {
   "cell_type": "code",
   "execution_count": null,
   "id": "914f8fd1",
   "metadata": {},
   "outputs": [
    {
     "data": {
      "text/plain": [
       "12.349572775775396"
      ]
     },
     "execution_count": 20,
     "metadata": {},
     "output_type": "execute_result"
    }
   ],
   "source": [
    "# Rendimiento del Portafolio\n",
    "rend_p = float(np.dot(anual_rend, w))\n",
    "rend_p*100"
   ]
  },
  {
   "cell_type": "code",
   "execution_count": 23,
   "id": "4ecc25b5",
   "metadata": {},
   "outputs": [
    {
     "data": {
      "text/plain": [
       "24.12139548814514"
      ]
     },
     "execution_count": 23,
     "metadata": {},
     "output_type": "execute_result"
    }
   ],
   "source": [
    "# Volatilidad del Portafolio\n",
    "vol_p = float(np.sqrt(w.T @ cov @ w * 252))\n",
    "vol_p*100"
   ]
  },
  {
   "cell_type": "code",
   "execution_count": 25,
   "id": "b95e3942",
   "metadata": {},
   "outputs": [
    {
     "data": {
      "text/html": [
       "<div>\n",
       "<style scoped>\n",
       "    .dataframe tbody tr th:only-of-type {\n",
       "        vertical-align: middle;\n",
       "    }\n",
       "\n",
       "    .dataframe tbody tr th {\n",
       "        vertical-align: top;\n",
       "    }\n",
       "\n",
       "    .dataframe thead th {\n",
       "        text-align: right;\n",
       "    }\n",
       "</style>\n",
       "<table border=\"1\" class=\"dataframe\">\n",
       "  <thead>\n",
       "    <tr style=\"text-align: right;\">\n",
       "      <th>Ticker</th>\n",
       "      <th>AMD</th>\n",
       "      <th>COST</th>\n",
       "      <th>CRM</th>\n",
       "      <th>MRK</th>\n",
       "    </tr>\n",
       "    <tr>\n",
       "      <th>Ticker</th>\n",
       "      <th></th>\n",
       "      <th></th>\n",
       "      <th></th>\n",
       "      <th></th>\n",
       "    </tr>\n",
       "  </thead>\n",
       "  <tbody>\n",
       "    <tr>\n",
       "      <th>AMD</th>\n",
       "      <td>1.000000</td>\n",
       "      <td>0.393994</td>\n",
       "      <td>0.495115</td>\n",
       "      <td>0.023899</td>\n",
       "    </tr>\n",
       "    <tr>\n",
       "      <th>COST</th>\n",
       "      <td>0.393994</td>\n",
       "      <td>1.000000</td>\n",
       "      <td>0.411301</td>\n",
       "      <td>0.135851</td>\n",
       "    </tr>\n",
       "    <tr>\n",
       "      <th>CRM</th>\n",
       "      <td>0.495115</td>\n",
       "      <td>0.411301</td>\n",
       "      <td>1.000000</td>\n",
       "      <td>0.079101</td>\n",
       "    </tr>\n",
       "    <tr>\n",
       "      <th>MRK</th>\n",
       "      <td>0.023899</td>\n",
       "      <td>0.135851</td>\n",
       "      <td>0.079101</td>\n",
       "      <td>1.000000</td>\n",
       "    </tr>\n",
       "  </tbody>\n",
       "</table>\n",
       "</div>"
      ],
      "text/plain": [
       "Ticker       AMD      COST       CRM       MRK\n",
       "Ticker                                        \n",
       "AMD     1.000000  0.393994  0.495115  0.023899\n",
       "COST    0.393994  1.000000  0.411301  0.135851\n",
       "CRM     0.495115  0.411301  1.000000  0.079101\n",
       "MRK     0.023899  0.135851  0.079101  1.000000"
      ]
     },
     "execution_count": 25,
     "metadata": {},
     "output_type": "execute_result"
    }
   ],
   "source": [
    "daily_rend.corr()"
   ]
  },
  {
   "cell_type": "code",
   "execution_count": null,
   "id": "fa882f8d",
   "metadata": {},
   "outputs": [],
   "source": []
  }
 ],
 "metadata": {
  "kernelspec": {
   "display_name": "Python 3",
   "language": "python",
   "name": "python3"
  },
  "language_info": {
   "codemirror_mode": {
    "name": "ipython",
    "version": 3
   },
   "file_extension": ".py",
   "mimetype": "text/x-python",
   "name": "python",
   "nbconvert_exporter": "python",
   "pygments_lexer": "ipython3",
   "version": "3.13.7"
  }
 },
 "nbformat": 4,
 "nbformat_minor": 5
}
