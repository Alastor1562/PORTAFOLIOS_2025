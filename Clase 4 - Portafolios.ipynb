{
 "cells": [
  {
   "cell_type": "code",
   "execution_count": 2,
   "id": "9cb6e3bb",
   "metadata": {},
   "outputs": [],
   "source": [
    "import numpy as np\n",
    "import matplotlib.pyplot as plt\n",
    "import yfinance as yf"
   ]
  },
  {
   "cell_type": "code",
   "execution_count": 3,
   "id": "cb6397bd",
   "metadata": {},
   "outputs": [
    {
     "name": "stderr",
     "output_type": "stream",
     "text": [
      "C:\\Users\\samue\\AppData\\Local\\Temp\\ipykernel_12776\\920268129.py:3: FutureWarning: YF.download() has changed argument auto_adjust default to True\n",
      "  prices = yf.download(tickers,start='2020-01-01', end='2025-08-27')['Close']\n",
      "[*********************100%***********************]  4 of 4 completed\n"
     ]
    }
   ],
   "source": [
    "tickers = ['AAPL', 'MSFT', 'NVDA', 'DIS']\n",
    "\n",
    "prices = yf.download(tickers,start='2020-01-01', end='2025-08-27')['Close']\n",
    "\n",
    "daily_rend = prices.pct_change().dropna()"
   ]
  },
  {
   "cell_type": "code",
   "execution_count": 4,
   "id": "ddda6701",
   "metadata": {},
   "outputs": [
    {
     "data": {
      "text/plain": [
       "Ticker\n",
       "AAPL    0.256734\n",
       "DIS     0.019170\n",
       "MSFT    0.256657\n",
       "NVDA    0.752535\n",
       "dtype: float64"
      ]
     },
     "execution_count": 4,
     "metadata": {},
     "output_type": "execute_result"
    }
   ],
   "source": [
    "#Rend, Riesgo Ind.\n",
    "rend_mean = daily_rend.mean()*252\n",
    "rend_mean"
   ]
  },
  {
   "cell_type": "code",
   "execution_count": 5,
   "id": "f810e1ab",
   "metadata": {},
   "outputs": [
    {
     "data": {
      "text/plain": [
       "Ticker\n",
       "AAPL    0.323874\n",
       "DIS     0.338956\n",
       "MSFT    0.301211\n",
       "NVDA    0.540992\n",
       "dtype: float64"
      ]
     },
     "execution_count": 5,
     "metadata": {},
     "output_type": "execute_result"
    }
   ],
   "source": [
    "rend_vol = daily_rend.std()*252**0.5\n",
    "rend_vol"
   ]
  },
  {
   "cell_type": "code",
   "execution_count": 10,
   "id": "33054e7d",
   "metadata": {},
   "outputs": [],
   "source": [
    "w = np.array([0.25, 0.25, 0.25, 0.25])\n",
    "\n",
    "cov = daily_rend.cov()"
   ]
  },
  {
   "cell_type": "code",
   "execution_count": 21,
   "id": "6693a4a5",
   "metadata": {},
   "outputs": [
    {
     "data": {
      "text/plain": [
       "0.3212740302037045"
      ]
     },
     "execution_count": 21,
     "metadata": {},
     "output_type": "execute_result"
    }
   ],
   "source": [
    "port_mean = float(np.dot(rend_mean, w))\n",
    "port_mean"
   ]
  },
  {
   "cell_type": "code",
   "execution_count": 22,
   "id": "27fdc126",
   "metadata": {},
   "outputs": [
    {
     "data": {
      "text/plain": [
       "0.30763394107917036"
      ]
     },
     "execution_count": 22,
     "metadata": {},
     "output_type": "execute_result"
    }
   ],
   "source": [
    "port_vol = float(np.sqrt(w.T @ cov @ w) * np.sqrt(252))\n",
    "port_vol"
   ]
  },
  {
   "cell_type": "code",
   "execution_count": 23,
   "id": "144794a8",
   "metadata": {},
   "outputs": [
    {
     "data": {
      "text/html": [
       "<div>\n",
       "<style scoped>\n",
       "    .dataframe tbody tr th:only-of-type {\n",
       "        vertical-align: middle;\n",
       "    }\n",
       "\n",
       "    .dataframe tbody tr th {\n",
       "        vertical-align: top;\n",
       "    }\n",
       "\n",
       "    .dataframe thead th {\n",
       "        text-align: right;\n",
       "    }\n",
       "</style>\n",
       "<table border=\"1\" class=\"dataframe\">\n",
       "  <thead>\n",
       "    <tr style=\"text-align: right;\">\n",
       "      <th>Ticker</th>\n",
       "      <th>AAPL</th>\n",
       "      <th>DIS</th>\n",
       "      <th>MSFT</th>\n",
       "      <th>NVDA</th>\n",
       "    </tr>\n",
       "    <tr>\n",
       "      <th>Ticker</th>\n",
       "      <th></th>\n",
       "      <th></th>\n",
       "      <th></th>\n",
       "      <th></th>\n",
       "    </tr>\n",
       "  </thead>\n",
       "  <tbody>\n",
       "    <tr>\n",
       "      <th>AAPL</th>\n",
       "      <td>1.000000</td>\n",
       "      <td>0.456882</td>\n",
       "      <td>0.721735</td>\n",
       "      <td>0.589579</td>\n",
       "    </tr>\n",
       "    <tr>\n",
       "      <th>DIS</th>\n",
       "      <td>0.456882</td>\n",
       "      <td>1.000000</td>\n",
       "      <td>0.470806</td>\n",
       "      <td>0.396058</td>\n",
       "    </tr>\n",
       "    <tr>\n",
       "      <th>MSFT</th>\n",
       "      <td>0.721735</td>\n",
       "      <td>0.470806</td>\n",
       "      <td>1.000000</td>\n",
       "      <td>0.680905</td>\n",
       "    </tr>\n",
       "    <tr>\n",
       "      <th>NVDA</th>\n",
       "      <td>0.589579</td>\n",
       "      <td>0.396058</td>\n",
       "      <td>0.680905</td>\n",
       "      <td>1.000000</td>\n",
       "    </tr>\n",
       "  </tbody>\n",
       "</table>\n",
       "</div>"
      ],
      "text/plain": [
       "Ticker      AAPL       DIS      MSFT      NVDA\n",
       "Ticker                                        \n",
       "AAPL    1.000000  0.456882  0.721735  0.589579\n",
       "DIS     0.456882  1.000000  0.470806  0.396058\n",
       "MSFT    0.721735  0.470806  1.000000  0.680905\n",
       "NVDA    0.589579  0.396058  0.680905  1.000000"
      ]
     },
     "execution_count": 23,
     "metadata": {},
     "output_type": "execute_result"
    }
   ],
   "source": [
    "daily_rend.corr()"
   ]
  },
  {
   "cell_type": "markdown",
   "id": "8cd289c6",
   "metadata": {},
   "source": [
    "**Interpretación:**\n",
    "\n",
    "- Todas las que son 1 es porque son la misma empresa, por lo que se mueven exactamente igual\n",
    "- p altas: el 0.72 entre AAPL y MSFT refleja que ambas empresas están en el sector tecnológico y responden a factores comunes del mercado.\n",
    "- Las tecnológicas (AAPL, MSFT, NVDA) tienen correlaciones más altas entre sí, por lo que se mueven en la misma dirección frecuentemente.\n",
    "- Disney (DIS) tiene correlaciones más bajas con las demás, siendo la que aporta mayor diversificación al portafolio al estar en un sector diferente, porque no se mueve tan parecido a las tecnológicas.\n",
    "- Este portafolio está concentrado en tecnología, lo que es riesgoso porque depende de un solo sector, y sus activos se mueven casi a la par. Solo DIS aporta un poco de diversificación, pero no lo suficiente. Aparte, todos pertenecen al S&P 500."
   ]
  },
  {
   "cell_type": "code",
   "execution_count": null,
   "id": "8425cb39",
   "metadata": {},
   "outputs": [],
   "source": []
  }
 ],
 "metadata": {
  "kernelspec": {
   "display_name": "Python 3",
   "language": "python",
   "name": "python3"
  },
  "language_info": {
   "codemirror_mode": {
    "name": "ipython",
    "version": 3
   },
   "file_extension": ".py",
   "mimetype": "text/x-python",
   "name": "python",
   "nbconvert_exporter": "python",
   "pygments_lexer": "ipython3",
   "version": "3.13.7"
  }
 },
 "nbformat": 4,
 "nbformat_minor": 5
}
