{
 "cells": [
  {
   "cell_type": "code",
   "execution_count": 2,
   "id": "9cb6e3bb",
   "metadata": {},
   "outputs": [],
   "source": [
    "import numpy as np\n",
    "import matplotlib.pyplot as plt\n",
    "import yfinance as yf"
   ]
  },
  {
   "cell_type": "code",
   "execution_count": 6,
   "id": "cb6397bd",
   "metadata": {},
   "outputs": [
    {
     "name": "stderr",
     "output_type": "stream",
     "text": [
      "C:\\Users\\samue\\AppData\\Local\\Temp\\ipykernel_22200\\920268129.py:3: FutureWarning: YF.download() has changed argument auto_adjust default to True\n",
      "  prices = yf.download(tickers,start='2020-01-01', end='2025-08-27')['Close']\n",
      "[*********************100%***********************]  4 of 4 completed\n"
     ]
    }
   ],
   "source": [
    "tickers = ['AAPL', 'MSFT', 'NVDA', 'DIS']\n",
    "\n",
    "prices = yf.download(tickers,start='2020-01-01', end='2025-08-27')['Close']\n",
    "\n",
    "daily_rend = prices.pct_change().dropna()"
   ]
  },
  {
   "cell_type": "code",
   "execution_count": null,
   "id": "ddda6701",
   "metadata": {},
   "outputs": [
    {
     "data": {
      "text/plain": [
       "Ticker\n",
       "AAPL    25.673395\n",
       "DIS      1.916985\n",
       "MSFT    25.665709\n",
       "NVDA    75.253529\n",
       "dtype: float64"
      ]
     },
     "execution_count": 9,
     "metadata": {},
     "output_type": "execute_result"
    }
   ],
   "source": [
    "#Rend, Riesgo Ind.\n",
    "rend_mean = daily_rend.mean()*252\n",
    "rend_mean"
   ]
  },
  {
   "cell_type": "code",
   "execution_count": null,
   "id": "f810e1ab",
   "metadata": {},
   "outputs": [
    {
     "data": {
      "text/plain": [
       "Ticker\n",
       "AAPL    32.387405\n",
       "DIS     33.895579\n",
       "MSFT    30.121100\n",
       "NVDA    54.099220\n",
       "dtype: float64"
      ]
     },
     "execution_count": 10,
     "metadata": {},
     "output_type": "execute_result"
    }
   ],
   "source": [
    "rend_vol = daily_rend.std()*252**0.5\n",
    "rend_vol"
   ]
  },
  {
   "cell_type": "code",
   "execution_count": null,
   "id": "33054e7d",
   "metadata": {},
   "outputs": [],
   "source": []
  }
 ],
 "metadata": {
  "kernelspec": {
   "display_name": "Python 3",
   "language": "python",
   "name": "python3"
  },
  "language_info": {
   "codemirror_mode": {
    "name": "ipython",
    "version": 3
   },
   "file_extension": ".py",
   "mimetype": "text/x-python",
   "name": "python",
   "nbconvert_exporter": "python",
   "pygments_lexer": "ipython3",
   "version": "3.13.7"
  }
 },
 "nbformat": 4,
 "nbformat_minor": 5
}
