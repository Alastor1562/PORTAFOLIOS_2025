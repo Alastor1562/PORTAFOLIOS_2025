{
 "cells": [
  {
   "cell_type": "code",
   "execution_count": 1,
   "id": "e774af15",
   "metadata": {},
   "outputs": [],
   "source": [
    "import pandas as pd\n",
    "import numpy as np\n",
    "import matplotlib.pyplot as plt\n",
    "import yfinance as yf"
   ]
  },
  {
   "cell_type": "code",
   "execution_count": 50,
   "id": "ae829c91",
   "metadata": {},
   "outputs": [
    {
     "data": {
      "text/plain": [
       "np.float64(13.25)"
      ]
     },
     "execution_count": 50,
     "metadata": {},
     "output_type": "execute_result"
    }
   ],
   "source": [
    "df = pd.DataFrame(\n",
    "    {'Proba': [0.25, 0.5, 0.25],\n",
    "     'Retorno': [0.15, 0.19, 0]\n",
    "})\n",
    "\n",
    "VE = np.dot(df['Proba'], df['Retorno']) \n",
    "VE* 100"
   ]
  },
  {
   "cell_type": "code",
   "execution_count": 7,
   "id": "b284c6d9",
   "metadata": {},
   "outputs": [
    {
     "data": {
      "text/plain": [
       "np.float64(7.822243923581008)"
      ]
     },
     "execution_count": 7,
     "metadata": {},
     "output_type": "execute_result"
    }
   ],
   "source": [
    "np.sqrt(np.dot(df['Proba'], (df['Retorno'] - VE)**2)) * 100"
   ]
  },
  {
   "cell_type": "markdown",
   "id": "f473028b",
   "metadata": {},
   "source": [
    "---"
   ]
  },
  {
   "cell_type": "code",
   "execution_count": 14,
   "id": "7ab95ebe",
   "metadata": {},
   "outputs": [
    {
     "data": {
      "text/html": [
       "<div>\n",
       "<style scoped>\n",
       "    .dataframe tbody tr th:only-of-type {\n",
       "        vertical-align: middle;\n",
       "    }\n",
       "\n",
       "    .dataframe tbody tr th {\n",
       "        vertical-align: top;\n",
       "    }\n",
       "\n",
       "    .dataframe thead th {\n",
       "        text-align: right;\n",
       "    }\n",
       "</style>\n",
       "<table border=\"1\" class=\"dataframe\">\n",
       "  <thead>\n",
       "    <tr style=\"text-align: right;\">\n",
       "      <th></th>\n",
       "      <th>EMM</th>\n",
       "      <th>QQQ</th>\n",
       "      <th>SPY</th>\n",
       "      <th>VXX</th>\n",
       "    </tr>\n",
       "  </thead>\n",
       "  <tbody>\n",
       "    <tr>\n",
       "      <th>0</th>\n",
       "      <td>25.514492</td>\n",
       "      <td>399.167480</td>\n",
       "      <td>463.892944</td>\n",
       "      <td>62.080002</td>\n",
       "    </tr>\n",
       "    <tr>\n",
       "      <th>1</th>\n",
       "      <td>25.365185</td>\n",
       "      <td>394.943665</td>\n",
       "      <td>460.104431</td>\n",
       "      <td>64.400002</td>\n",
       "    </tr>\n",
       "    <tr>\n",
       "      <th>2</th>\n",
       "      <td>25.307835</td>\n",
       "      <td>392.911102</td>\n",
       "      <td>458.622467</td>\n",
       "      <td>64.320000</td>\n",
       "    </tr>\n",
       "    <tr>\n",
       "      <th>3</th>\n",
       "      <td>25.367163</td>\n",
       "      <td>393.377075</td>\n",
       "      <td>459.250610</td>\n",
       "      <td>62.200001</td>\n",
       "    </tr>\n",
       "    <tr>\n",
       "      <th>4</th>\n",
       "      <td>25.579750</td>\n",
       "      <td>401.507385</td>\n",
       "      <td>465.806854</td>\n",
       "      <td>60.759998</td>\n",
       "    </tr>\n",
       "  </tbody>\n",
       "</table>\n",
       "</div>"
      ],
      "text/plain": [
       "         EMM         QQQ         SPY        VXX\n",
       "0  25.514492  399.167480  463.892944  62.080002\n",
       "1  25.365185  394.943665  460.104431  64.400002\n",
       "2  25.307835  392.911102  458.622467  64.320000\n",
       "3  25.367163  393.377075  459.250610  62.200001\n",
       "4  25.579750  401.507385  465.806854  60.759998"
      ]
     },
     "execution_count": 14,
     "metadata": {},
     "output_type": "execute_result"
    }
   ],
   "source": [
    "datos = pd.read_excel('datos_excel.xlsx').drop('ACWI', axis=1)\n",
    "datos.head()"
   ]
  },
  {
   "cell_type": "code",
   "execution_count": 25,
   "id": "68486a04",
   "metadata": {},
   "outputs": [
    {
     "data": {
      "text/plain": [
       "EMM    13.264923\n",
       "QQQ    25.156162\n",
       "SPY    22.124010\n",
       "VXX    -6.696105\n",
       "dtype: float64"
      ]
     },
     "execution_count": 25,
     "metadata": {},
     "output_type": "execute_result"
    }
   ],
   "source": [
    "returns = datos.pct_change().dropna()\n",
    "\n",
    "mean_returns = returns.mean()\n",
    "mean_returns * 100 * 252"
   ]
  },
  {
   "cell_type": "code",
   "execution_count": 22,
   "id": "fe9f94a1",
   "metadata": {},
   "outputs": [],
   "source": [
    "w = np.array([0.25, 0.3, 0.25, 0.2])\n",
    "\n",
    "cov = returns.cov()"
   ]
  },
  {
   "cell_type": "code",
   "execution_count": 21,
   "id": "180dd3ec",
   "metadata": {},
   "outputs": [
    {
     "data": {
      "text/plain": [
       "np.float64(15.054860970840952)"
      ]
     },
     "execution_count": 21,
     "metadata": {},
     "output_type": "execute_result"
    }
   ],
   "source": [
    "#Retorno anual del portafolio\n",
    "\n",
    "p_anual_return = np.dot(mean_returns, w) * 252\n",
    "p_anual_return * 100"
   ]
  },
  {
   "cell_type": "code",
   "execution_count": 27,
   "id": "4ea6072a",
   "metadata": {},
   "outputs": [
    {
     "data": {
      "text/plain": [
       "np.float64(4.964970452171867)"
      ]
     },
     "execution_count": 27,
     "metadata": {},
     "output_type": "execute_result"
    }
   ],
   "source": [
    "# Volatilidad diaria de VXX\n",
    "VXX_vol = returns['VXX'].std()\n",
    "VXX_vol * 100"
   ]
  },
  {
   "cell_type": "code",
   "execution_count": 65,
   "id": "9840e089",
   "metadata": {},
   "outputs": [
    {
     "data": {
      "text/plain": [
       "np.float64(20.681615094014916)"
      ]
     },
     "execution_count": 65,
     "metadata": {},
     "output_type": "execute_result"
    }
   ],
   "source": [
    "# Calcula el Rendimiento compuesto anual de SPY\n",
    "SPY_return = returns['SPY']\n",
    "\n",
    "SPY_comp = (1 + SPY_return).prod() ** (1 / len(SPY_return)) - 1\n",
    "SPY_comp * 100 * 252"
   ]
  },
  {
   "cell_type": "code",
   "execution_count": 58,
   "id": "95305ef9",
   "metadata": {},
   "outputs": [
    {
     "data": {
      "text/plain": [
       "np.float64(22.124010318219312)"
      ]
     },
     "execution_count": 58,
     "metadata": {},
     "output_type": "execute_result"
    }
   ],
   "source": [
    "returns['SPY'].mean()*252*100"
   ]
  },
  {
   "cell_type": "code",
   "execution_count": 41,
   "id": "f8caa29c",
   "metadata": {},
   "outputs": [
    {
     "data": {
      "text/plain": [
       "np.float64(9.98110434169854)"
      ]
     },
     "execution_count": 41,
     "metadata": {},
     "output_type": "execute_result"
    }
   ],
   "source": [
    "# Volatilidad anual del portafolio\n",
    "p_anual_vol = np.sqrt(w.T @ cov @ w) * np.sqrt(252)\n",
    "p_anual_vol * 100"
   ]
  },
  {
   "cell_type": "code",
   "execution_count": 46,
   "id": "5291afb1",
   "metadata": {},
   "outputs": [
    {
     "data": {
      "text/plain": [
       "np.float64(0.6629821664265427)"
      ]
     },
     "execution_count": 46,
     "metadata": {},
     "output_type": "execute_result"
    }
   ],
   "source": [
    "# Coeficiente de variación del portafolio\n",
    "cv = p_anual_vol / p_anual_return\n",
    "cv"
   ]
  },
  {
   "cell_type": "code",
   "execution_count": 47,
   "id": "890a5376",
   "metadata": {},
   "outputs": [
    {
     "data": {
      "text/html": [
       "<div>\n",
       "<style scoped>\n",
       "    .dataframe tbody tr th:only-of-type {\n",
       "        vertical-align: middle;\n",
       "    }\n",
       "\n",
       "    .dataframe tbody tr th {\n",
       "        vertical-align: top;\n",
       "    }\n",
       "\n",
       "    .dataframe thead th {\n",
       "        text-align: right;\n",
       "    }\n",
       "</style>\n",
       "<table border=\"1\" class=\"dataframe\">\n",
       "  <thead>\n",
       "    <tr style=\"text-align: right;\">\n",
       "      <th></th>\n",
       "      <th>EMM</th>\n",
       "      <th>QQQ</th>\n",
       "      <th>SPY</th>\n",
       "      <th>VXX</th>\n",
       "    </tr>\n",
       "  </thead>\n",
       "  <tbody>\n",
       "    <tr>\n",
       "      <th>EMM</th>\n",
       "      <td>1.000000</td>\n",
       "      <td>0.740039</td>\n",
       "      <td>0.710814</td>\n",
       "      <td>-0.638403</td>\n",
       "    </tr>\n",
       "    <tr>\n",
       "      <th>QQQ</th>\n",
       "      <td>0.740039</td>\n",
       "      <td>1.000000</td>\n",
       "      <td>0.960908</td>\n",
       "      <td>-0.756788</td>\n",
       "    </tr>\n",
       "    <tr>\n",
       "      <th>SPY</th>\n",
       "      <td>0.710814</td>\n",
       "      <td>0.960908</td>\n",
       "      <td>1.000000</td>\n",
       "      <td>-0.792019</td>\n",
       "    </tr>\n",
       "    <tr>\n",
       "      <th>VXX</th>\n",
       "      <td>-0.638403</td>\n",
       "      <td>-0.756788</td>\n",
       "      <td>-0.792019</td>\n",
       "      <td>1.000000</td>\n",
       "    </tr>\n",
       "  </tbody>\n",
       "</table>\n",
       "</div>"
      ],
      "text/plain": [
       "          EMM       QQQ       SPY       VXX\n",
       "EMM  1.000000  0.740039  0.710814 -0.638403\n",
       "QQQ  0.740039  1.000000  0.960908 -0.756788\n",
       "SPY  0.710814  0.960908  1.000000 -0.792019\n",
       "VXX -0.638403 -0.756788 -0.792019  1.000000"
      ]
     },
     "execution_count": 47,
     "metadata": {},
     "output_type": "execute_result"
    }
   ],
   "source": [
    "# Matriz de correlación\n",
    "corr = returns.corr()\n",
    "corr"
   ]
  },
  {
   "cell_type": "code",
   "execution_count": 51,
   "id": "90892e02",
   "metadata": {},
   "outputs": [
    {
     "data": {
      "text/plain": [
       "0    98.427727\n",
       "1    97.647324\n",
       "2    97.540024\n",
       "3    97.627823\n",
       "4    98.798416\n",
       "Name: ACWI, dtype: float64"
      ]
     },
     "execution_count": 51,
     "metadata": {},
     "output_type": "execute_result"
    }
   ],
   "source": [
    "bench = pd.read_excel('datos_excel.xlsx')['ACWI']\n",
    "bench.head()"
   ]
  },
  {
   "cell_type": "code",
   "execution_count": 52,
   "id": "c3de797a",
   "metadata": {},
   "outputs": [
    {
     "data": {
      "text/plain": [
       "np.float64(0.7455780614553611)"
      ]
     },
     "execution_count": 52,
     "metadata": {},
     "output_type": "execute_result"
    }
   ],
   "source": [
    "bench_returns = bench.pct_change().dropna()\n",
    "bench_mean_return = bench_returns.mean() * 252\n",
    "bench_vol = bench_returns.std() * np.sqrt(252)\n",
    "\n",
    "cv_bench = bench_vol / bench_mean_return\n",
    "cv_bench"
   ]
  },
  {
   "cell_type": "code",
   "execution_count": null,
   "id": "043ac635",
   "metadata": {},
   "outputs": [],
   "source": []
  }
 ],
 "metadata": {
  "kernelspec": {
   "display_name": "Python 3",
   "language": "python",
   "name": "python3"
  },
  "language_info": {
   "codemirror_mode": {
    "name": "ipython",
    "version": 3
   },
   "file_extension": ".py",
   "mimetype": "text/x-python",
   "name": "python",
   "nbconvert_exporter": "python",
   "pygments_lexer": "ipython3",
   "version": "3.13.7"
  }
 },
 "nbformat": 4,
 "nbformat_minor": 5
}
