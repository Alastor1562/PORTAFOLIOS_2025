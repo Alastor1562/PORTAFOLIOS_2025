{
 "cells": [
  {
   "cell_type": "code",
   "execution_count": 1,
   "id": "1a59bea3",
   "metadata": {},
   "outputs": [],
   "source": [
    "import numpy as np\n",
    "import matplotlib.pyplot as plt\n",
    "import yfinance as yf\n",
    "import pandas as pd"
   ]
  },
  {
   "cell_type": "markdown",
   "id": "fc820ff4",
   "metadata": {},
   "source": [
    "# **Investigación de Emisoras**\n",
    "\n",
    "## **Oracle (ORCL)**\n",
    "\n",
    "**Actividad y Sector**\n",
    "\n",
    "Oracle Corporation es una empresa de tecnología que ofrece software empresarial, servicios de computación en la nube y algunos productos de hardware. Opera en el sector tecnológico, específicamente en la industria de software empresarial y servicios de tecnología de la información en la nube. Compite en el segmento de computación empresarial y *cloud computing*, formando parte del sector de tecnología de la información (TI).Oracle es especialmente conocida por su sistema de gestión de bases de datos (Oracle Database) y por un amplio portafolio de aplicaciones corporativas (finanzas, recursos humanos, cadena de suministro, etc.), además de servicios en la nube.  Actualmente está invirtiendo fuertemente en servicios en la nube y tecnologías de inteligencia artificial, reportando la firma de contratos de venta históricos impulsados por la demanda de entrenar modelos de IA de lenguaje grande en Oracle Cloud.\n",
    "\n",
    "**Principales Fuentes de Ingresos**\n",
    "\n",
    "Oracle reportó US$57,400 millones en ventas en el año fiscal 2025 (FY2025). La categoría de “Servicios en la nube y soporte” representó cerca del 77% de ese total, reflejando la transición de Oracle hacia un modelo de ingresos más basado en servicios en la nube. Según el estado de resultados más reciente, los ingresos provienen de cuatro categorías principales:\n",
    "\n",
    "- Servicios en la nube y soporte de licencias: ~US$44,000 millones en FY2025, la fuente mayoritaria siendo soporte técnico y suscripciones de sus productos de software en la nube\n",
    "\n",
    "- Licencias (cloud y on-premise): ~US$5,200 millones en FY2025, por venta de nuevas licencias de software tanto en la nube como instaladas localmente\n",
    "\n",
    "- Hardware: ~US$3,300 millones en ventas de equipos de hardware empresarial, como sistemas de almacenamiento y servidores especializados, junto con el soporte asociado\n",
    "\n",
    "- Servicios (consultoría): ~US$5,600 millones en ingresos por servicios profesionales, consultoría e implementación relacionados a sus productos\n",
    "\n",
    "**Fuentes:**\n",
    "\n",
    "- [Oracle Announces Fiscal 2025 Fourth Quarter and Fiscal Full Year Financial Results](https://investor.oracle.com/investor-news/news-details/2025/Oracle-Announces-Fiscal-2025-Fourth-Quarter-and-Fiscal-Full-Year-Financial-Results/default.aspx#:~:text=Fiscal%20year%202025%20total%20revenues,2%20billion)\n",
    "- [What is Oracle?](https://www.ibm.com/think/topics/oracle)"
   ]
  },
  {
   "cell_type": "markdown",
   "id": "c1aae61f",
   "metadata": {},
   "source": [
    "## **SPDR Gold Shares (GLD)**\n",
    "\n",
    "**Actividad y Sector**\n",
    "\n",
    "SPDR Gold Shares (GLD) es un fondo cotizado en bolsa (ETF) que permite invertir en oro físico de forma indirecta. Ofrece a los inversionistas un medio innovador, relativamente económico y seguro para acceder al mercado del oro sin necesidad de tomar posesión física del metal, mediante la compra/venta de sus participaciones en un mercado regulado. A diferencia de fondos accionarios sectoriales, GLD no pertenece a un sector productivo empresarial específico, sino al ámbito de materias primas (commodities), particularmente el mercado de metales preciosos (oro). Gracias a este modelo, elimina barreras tradicionales como los costos de almacenamiento, seguridad y transacción que antes dificultaban la inversión en oro. GLD es actualmente el ETF de oro físicamente respaldado más grande del mundo por activos administrados, reflejando la popularidad de este vehículo para obtener exposición al precio spot del oro.\n",
    "\n",
    "**Principales Fuentes de Ingresos**\n",
    "\n",
    "El valor de GLD deriva directamente del oro físico que mantiene en custodia. Su objetivo de inversión es replicar el precio del oro (lingotes de 24k) menos los costos operativos del fideicomiso. A diferencia de una acción o bono, el oro no genera flujos de efectivo (no paga dividendos ni intereses); por tanto, la rentabilidad para el inversionista proviene exclusivamente de la apreciación (o depreciación) del precio del oro subyacente. El fideicomiso cobra una comisión de administración anual (expense ratio) de aproximadamente 0.40% sobre los activos, destinada a cubrir gastos de custodia (el oro es resguardado típicamente por un banco custodio como HSBC), seguro, auditoría y gestión. Este costo se deduce del patrimonio en oro, de modo que con el tiempo cada acción representa ligeramente menos oro, aunque la comisión es relativamente baja en comparación con los costos de almacenar oro por cuenta propia.\n",
    "\n",
    "**Fuentes:**\n",
    "- [Bienvenido a SPDR® Gold Shares](https://www.spdrgoldshares.com/mexico/spanish/#:~:text=SPDR®%20Gold%20Shares%20ofrece%20a,algunos%20inversionistas%20inviertan%20en%20oro)\n",
    "- [SPDR® Gold Shares](https://www.ssga.com/us/en/intermediary/etfs/spdr-gold-shares-gld)"
   ]
  },
  {
   "cell_type": "markdown",
   "id": "841b2b48",
   "metadata": {},
   "source": [
    "## **Exxon Mobil Corporation (XOM)**\n",
    "\n",
    "**Actividad y Sector**\n",
    "\n",
    "Exxon Mobil es una de las compañías de petróleo y gas integradas más grandes del mundo. Su modelo de negocio cubre toda la cadena de valor de los hidrocarburos: se dedica a la exploración y producción de petróleo crudo y gas natural (segmento Upstream), a su refinación para obtener combustibles y lubricantes (segmento Downstream), y a la comercialización de estos productos en el mercado global. Asimismo, Exxon Mobil fabrica productos petroquímicos aprovechando su integración con las operaciones de refinación. Esta diversificación vertical le permite operar en más de 40 países y atender múltiples mercados energéticos. Al mismo tiempo, esto refleja que incluir XOM en un portafolio expone al inversionista a la volatilidad de las materias primas energéticas. \n",
    "\n",
    "Exxon Mobil invierte en proyectos clave para sostener su crecimiento en reservas y producción:\n",
    "- Exploración y desarrollo de nuevos yacimientos de petróleo y gas, incluyendo recursos no convencionales como shale oil/gas y aguas profundas.\n",
    "- Expansión de su capacidad de refinación y petroquímica para agregar valor a sus productos.\n",
    "- Iniciativas en energías bajas en carbono, como captura de carbono, hidrógeno\n",
    "\n",
    "**Principales Fuentes de Ingresos**\n",
    "\n",
    "En 2022 los ingresos totales de Exxon Mobil fueron $413,680 millones, impulsados en gran medida por el negocio tradicional de hidrocarburos divido de sus tres divisiones operativas principales dentro del negocio de estos:\n",
    "\n",
    "- Downstream (refinación y venta de derivados del petróleo): Es la mayor fuente de ingresos, representando aproximadamente 69% de las ventas totales en 2022 (cerca de $285 mil millones de USD). Incluye la refinación de crudo en combustibles (gasolina, diésel, etc.), transporte, comercialización y ventas de productos petrolíferos y lubricantes.\n",
    "\n",
    "- Upstream (exploración y producción de petróleo y gas): Contribuye cerca de 25% de los ingresos de 2022 (~ $104 mil millones de USD). Comprende la prospección, extracción y producción de petróleo crudo, gas natural y condensados en diversas regiones del mundo.\n",
    "\n",
    "- Química (productos petroquímicos): Aporta alrededor del 6% de los ingresos de 2022 (unos $25 mil millones de USD), mediante la fabricación y venta de productos químicos básicos y especializados (olefinas, plásticos, resinas, etc.), muchos de los cuales utilizan insumos derivados del petróleo y gas.\n",
    "\n",
    "**Fuentes:**\n",
    "- [Exxon Mobil planea hacer más verde su negocio](https://blog.roboforex.com/es/blog/2023/04/12/exxon-mobil-planea-hacer-mas-verde-su-negocio/#:~:text=Es%20una%20de%20las%20compañías,central%20está%20en%20Irving%2C%20Texas)\n",
    "- [ExxonMobil announces full-year 2022 results](https://corporate.exxonmobil.com/news/news-releases/2023/0131_exxonmobil-announces-full-year-2022-results#FullyearFinancialHighlights)\n",
    "- [Exxon secures lead in top US oilfield with $60 billion buy of shale rival Pioneer](https://www.reuters.com/markets/deals/exxon-talks-pay-over-250-per-share-pioneer-bloomberg-news-2023-10-11/#:~:text=HOUSTON%2C%20Oct%2011%20%28Reuters%29%20,cost%20production)"
   ]
  },
  {
   "cell_type": "markdown",
   "id": "cccba2c8",
   "metadata": {},
   "source": [
    "## **The Coca-Cola Company (KO)**\n",
    "\n",
    "**Actividad y Sector**\n",
    "\n",
    "The Coca-Cola Company es una empresa global de bebidas con presencia en más de 200 países y territorios. Su modelo de negocio se basa en producir concentrados y jarabes que vende a embotelladores licenciados, los cuales los mezclan con agua y edulcorantes para envasar y distribuir las bebidas bajo las marcas de la compañía. Pertenece al sector consumo básico, específicamente a la industria de bebidas no alcohólicas y se considera una compañía defensiva, dado que la demanda de sus productos tiende a ser estable aun en entornos económicos difíciles. De hecho, analistas de mercado la destacan dentro del universo de consumo básico por su perfil atractivo y su amplia presencia global.\n",
    "\n",
    "**Principales Fuentes de Ingresos**\n",
    "\n",
    "La mayor parte de las ventas proviene de los refrescos carbonatados (colas y gaseosas), que representan ~69% del volumen global comercializado; la marca Coca-Cola por sí sola aporta cerca del 46% del volumen mundial. Las demás categorías de bebidas (agua, deportivas, café/té, jugos y lácteos) aportan el resto, reflejando la diversificación de la empresa. En el año 2022, Coca-Cola reportó ingresos netos por aproximadamente $43,004 millones de dólares, impulsados principalmente por sus bebidas gaseosas líderes.\n",
    "\n",
    "Coca-Cola tiene una política de dividendos sólida: en 2025 anunció su 63°. aumento anual consecutivo del dividendo, consolidándose como “aristócrata del dividendo” (empresa que incrementa su dividendo por más de 25 años seguidos). Además, su alcance global diversifica sus fuentes de ingreso a nivel geográfico. La compañía ha demostrado resiliencia en entornos inflacionarios, apoyándose en su poder de marca para trasladar costos al consumidor: por ejemplo, a inicios de 2023 logró subir precios ~10–11% sin dañar la demanda (el volumen de ventas aún creció ~3%, contribuyendo a un aumento de ~5% en ingresos).\n",
    "\n",
    "**Fuentes:**\n",
    "- [The Coca-Cola Company es una empresa de bebidas con presencia en más de 200 países y territorios](https://www.actinveranalisis.com/coke#:~:text=The%20Coca,de%20200%20países%20y%20territorios)\n",
    "- [Coca-Cola Company Form 10-K For the Fiscal Year Ended December 31, 2024](https://www.annualreports.com/HostedData/AnnualReportArchive/c/NYSE_KO_2022.pdf#:~:text=The%20Coca,case%20volume%2C%2061%20percent%20was)\n",
    "- [Coca-Cola, un gigante mundial con crecimiento y resistencia ante la volatilidad](https://cincodias.elpais.com/mercados-financieros/2025-03-23/coca-cola-un-gigante-mundial-con-crecimiento-y-resistencia-ante-la-volatilidad.html#:~:text=La%20compañía%20de%20bebidas%20es,menos%2025%20años%20sin%20pausa)"
   ]
  },
  {
   "cell_type": "code",
   "execution_count": 2,
   "id": "bcc4ae01",
   "metadata": {},
   "outputs": [
    {
     "name": "stderr",
     "output_type": "stream",
     "text": [
      "C:\\Users\\samue\\AppData\\Local\\Temp\\ipykernel_30584\\402279560.py:3: FutureWarning: YF.download() has changed argument auto_adjust default to True\n",
      "  prices = yf.download(tickers,start='2022-01-01', end='2025-09-04')['Close']\n",
      "[*********************100%***********************]  4 of 4 completed\n"
     ]
    }
   ],
   "source": [
    "tickers = ['ORCL', 'GLD', 'XOM', 'KO']\n",
    "\n",
    "prices = yf.download(tickers,start='2022-01-01', end='2025-09-04')['Close']\n",
    "\n",
    "daily_rend = prices.pct_change().dropna()\n",
    "rend = daily_rend.mean()"
   ]
  },
  {
   "cell_type": "code",
   "execution_count": 3,
   "id": "4b47485c",
   "metadata": {},
   "outputs": [],
   "source": [
    "# Matriz de pesos y Matriz de Varianza-Covarianza\n",
    "w = np.array([0.25, 0.25, 0.25, 0.25])\n",
    "\n",
    "cov = daily_rend.cov()"
   ]
  },
  {
   "cell_type": "code",
   "execution_count": 4,
   "id": "11e9505a",
   "metadata": {},
   "outputs": [
    {
     "data": {
      "text/html": [
       "<div>\n",
       "<style scoped>\n",
       "    .dataframe tbody tr th:only-of-type {\n",
       "        vertical-align: middle;\n",
       "    }\n",
       "\n",
       "    .dataframe tbody tr th {\n",
       "        vertical-align: top;\n",
       "    }\n",
       "\n",
       "    .dataframe thead th {\n",
       "        text-align: right;\n",
       "    }\n",
       "</style>\n",
       "<table border=\"1\" class=\"dataframe\">\n",
       "  <thead>\n",
       "    <tr style=\"text-align: right;\">\n",
       "      <th></th>\n",
       "      <th>Métrica</th>\n",
       "      <th>Valor</th>\n",
       "    </tr>\n",
       "  </thead>\n",
       "  <tbody>\n",
       "    <tr>\n",
       "      <th>0</th>\n",
       "      <td>Rendimiento Diario (%)</td>\n",
       "      <td>0.083102</td>\n",
       "    </tr>\n",
       "    <tr>\n",
       "      <th>1</th>\n",
       "      <td>Rendimiento Anual (%)</td>\n",
       "      <td>20.941767</td>\n",
       "    </tr>\n",
       "  </tbody>\n",
       "</table>\n",
       "</div>"
      ],
      "text/plain": [
       "                  Métrica      Valor\n",
       "0  Rendimiento Diario (%)   0.083102\n",
       "1   Rendimiento Anual (%)  20.941767"
      ]
     },
     "execution_count": 4,
     "metadata": {},
     "output_type": "execute_result"
    }
   ],
   "source": [
    "rend_p = float(np.dot(rend, w)) \n",
    "rend_diario = rend_p * 100\n",
    "rend_anual = rend_p * 100 * 252\n",
    "\n",
    "df_rend = pd.DataFrame({\n",
    "    \"Métrica\": [\"Rendimiento Diario (%)\", \"Rendimiento Anual (%)\"],\n",
    "    \"Valor\": [rend_diario, rend_anual]\n",
    "})\n",
    "\n",
    "df_rend"
   ]
  },
  {
   "cell_type": "code",
   "execution_count": 5,
   "id": "527480aa",
   "metadata": {},
   "outputs": [
    {
     "data": {
      "text/html": [
       "<div>\n",
       "<style scoped>\n",
       "    .dataframe tbody tr th:only-of-type {\n",
       "        vertical-align: middle;\n",
       "    }\n",
       "\n",
       "    .dataframe tbody tr th {\n",
       "        vertical-align: top;\n",
       "    }\n",
       "\n",
       "    .dataframe thead th {\n",
       "        text-align: right;\n",
       "    }\n",
       "</style>\n",
       "<table border=\"1\" class=\"dataframe\">\n",
       "  <thead>\n",
       "    <tr style=\"text-align: right;\">\n",
       "      <th></th>\n",
       "      <th>Métrica</th>\n",
       "      <th>Valor</th>\n",
       "    </tr>\n",
       "  </thead>\n",
       "  <tbody>\n",
       "    <tr>\n",
       "      <th>0</th>\n",
       "      <td>Varianza Diaria (%)</td>\n",
       "      <td>0.007774</td>\n",
       "    </tr>\n",
       "    <tr>\n",
       "      <th>1</th>\n",
       "      <td>Varianza Anual (%)</td>\n",
       "      <td>1.958996</td>\n",
       "    </tr>\n",
       "  </tbody>\n",
       "</table>\n",
       "</div>"
      ],
      "text/plain": [
       "               Métrica     Valor\n",
       "0  Varianza Diaria (%)  0.007774\n",
       "1   Varianza Anual (%)  1.958996"
      ]
     },
     "execution_count": 5,
     "metadata": {},
     "output_type": "execute_result"
    }
   ],
   "source": [
    "var_p = float(w.T @ cov @ w)\n",
    "var_diaria = var_p * 100\n",
    "var_anual = var_p * 252 * 100\n",
    "\n",
    "df_var = pd.DataFrame({\n",
    "    \"Métrica\": [\n",
    "        \"Varianza Diaria (%)\", \n",
    "        \"Varianza Anual (%)\"\n",
    "    ],\n",
    "    \"Valor\": [var_diaria, var_anual]\n",
    "})\n",
    "\n",
    "df_var"
   ]
  },
  {
   "cell_type": "code",
   "execution_count": 6,
   "id": "db1c616f",
   "metadata": {},
   "outputs": [
    {
     "data": {
      "text/html": [
       "<div>\n",
       "<style scoped>\n",
       "    .dataframe tbody tr th:only-of-type {\n",
       "        vertical-align: middle;\n",
       "    }\n",
       "\n",
       "    .dataframe tbody tr th {\n",
       "        vertical-align: top;\n",
       "    }\n",
       "\n",
       "    .dataframe thead th {\n",
       "        text-align: right;\n",
       "    }\n",
       "</style>\n",
       "<table border=\"1\" class=\"dataframe\">\n",
       "  <thead>\n",
       "    <tr style=\"text-align: right;\">\n",
       "      <th></th>\n",
       "      <th>Métrica</th>\n",
       "      <th>Valor</th>\n",
       "    </tr>\n",
       "  </thead>\n",
       "  <tbody>\n",
       "    <tr>\n",
       "      <th>0</th>\n",
       "      <td>Volatilidad Diaria (%)</td>\n",
       "      <td>0.881691</td>\n",
       "    </tr>\n",
       "    <tr>\n",
       "      <th>1</th>\n",
       "      <td>Volatilidad Anual (%)</td>\n",
       "      <td>13.996414</td>\n",
       "    </tr>\n",
       "  </tbody>\n",
       "</table>\n",
       "</div>"
      ],
      "text/plain": [
       "                  Métrica      Valor\n",
       "0  Volatilidad Diaria (%)   0.881691\n",
       "1   Volatilidad Anual (%)  13.996414"
      ]
     },
     "execution_count": 6,
     "metadata": {},
     "output_type": "execute_result"
    }
   ],
   "source": [
    "vol_diaria = np.sqrt(var_p) * 100\n",
    "vol_anual = np.sqrt(var_p * 252) * 100\n",
    "\n",
    "df_vol = pd.DataFrame({\n",
    "    \"Métrica\": [\"Volatilidad Diaria (%)\", \"Volatilidad Anual (%)\"],\n",
    "    \"Valor\": [vol_diaria, vol_anual]\n",
    "})\n",
    "\n",
    "df_vol"
   ]
  },
  {
   "cell_type": "code",
   "execution_count": 7,
   "id": "fd4eaf33",
   "metadata": {},
   "outputs": [
    {
     "data": {
      "text/plain": [
       "np.float64(0.6683492289529591)"
      ]
     },
     "execution_count": 7,
     "metadata": {},
     "output_type": "execute_result"
    }
   ],
   "source": [
    "# Coeficiente de Variación\n",
    "cv = vol_anual/rend_anual\n",
    "cv"
   ]
  },
  {
   "cell_type": "code",
   "execution_count": 8,
   "id": "924183f6",
   "metadata": {},
   "outputs": [
    {
     "data": {
      "text/html": [
       "<div>\n",
       "<style scoped>\n",
       "    .dataframe tbody tr th:only-of-type {\n",
       "        vertical-align: middle;\n",
       "    }\n",
       "\n",
       "    .dataframe tbody tr th {\n",
       "        vertical-align: top;\n",
       "    }\n",
       "\n",
       "    .dataframe thead th {\n",
       "        text-align: right;\n",
       "    }\n",
       "</style>\n",
       "<table border=\"1\" class=\"dataframe\">\n",
       "  <thead>\n",
       "    <tr style=\"text-align: right;\">\n",
       "      <th>Ticker</th>\n",
       "      <th>GLD</th>\n",
       "      <th>KO</th>\n",
       "      <th>ORCL</th>\n",
       "      <th>XOM</th>\n",
       "    </tr>\n",
       "    <tr>\n",
       "      <th>Ticker</th>\n",
       "      <th></th>\n",
       "      <th></th>\n",
       "      <th></th>\n",
       "      <th></th>\n",
       "    </tr>\n",
       "  </thead>\n",
       "  <tbody>\n",
       "    <tr>\n",
       "      <th>GLD</th>\n",
       "      <td>1.000000</td>\n",
       "      <td>0.129560</td>\n",
       "      <td>0.064217</td>\n",
       "      <td>0.180314</td>\n",
       "    </tr>\n",
       "    <tr>\n",
       "      <th>KO</th>\n",
       "      <td>0.129560</td>\n",
       "      <td>1.000000</td>\n",
       "      <td>0.081168</td>\n",
       "      <td>0.160407</td>\n",
       "    </tr>\n",
       "    <tr>\n",
       "      <th>ORCL</th>\n",
       "      <td>0.064217</td>\n",
       "      <td>0.081168</td>\n",
       "      <td>1.000000</td>\n",
       "      <td>0.093234</td>\n",
       "    </tr>\n",
       "    <tr>\n",
       "      <th>XOM</th>\n",
       "      <td>0.180314</td>\n",
       "      <td>0.160407</td>\n",
       "      <td>0.093234</td>\n",
       "      <td>1.000000</td>\n",
       "    </tr>\n",
       "  </tbody>\n",
       "</table>\n",
       "</div>"
      ],
      "text/plain": [
       "Ticker       GLD        KO      ORCL       XOM\n",
       "Ticker                                        \n",
       "GLD     1.000000  0.129560  0.064217  0.180314\n",
       "KO      0.129560  1.000000  0.081168  0.160407\n",
       "ORCL    0.064217  0.081168  1.000000  0.093234\n",
       "XOM     0.180314  0.160407  0.093234  1.000000"
      ]
     },
     "execution_count": 8,
     "metadata": {},
     "output_type": "execute_result"
    }
   ],
   "source": [
    "# Matriz de Correlación\n",
    "cor = daily_rend.corr()\n",
    "cor"
   ]
  },
  {
   "cell_type": "code",
   "execution_count": 9,
   "id": "136b04fc",
   "metadata": {},
   "outputs": [
    {
     "data": {
      "text/plain": [
       "np.float64(0.7088994205204469)"
      ]
     },
     "execution_count": 9,
     "metadata": {},
     "output_type": "execute_result"
    }
   ],
   "source": [
    "suma_inferior = np.tril(cor, k=-1).sum()\n",
    "suma_inferior"
   ]
  },
  {
   "cell_type": "markdown",
   "id": "b8c29967",
   "metadata": {},
   "source": [
    "# **Conclusión**\n",
    "\n",
    "La matriz de correlación muestra que los activos considerados en el portafolio (GLD, KO, ORCL y XOM) se mueven en la misma dirección, pero con relaciones muy bajas entre sí, ninguna superior a 0.20. Esto es positivo porque significa que no reaccionan de la misma manera ante los cambios del mercado, lo que se traduce en una mayor diversificación. Dentro de este grupo, el oro (GLD) es el activo que menos se relaciona con los demás, lo que lo convierte en un buen refugio en escenarios de incertidumbre. En general, contar con correlaciones bajas es una señal de que la combinación de activos está bien pensada, pues se evita que todos sufran pérdidas al mismo tiempo.\n",
    "\n",
    "En cuanto al riesgo, cada activo individual arrastra su propio riesgo específico, ligado a factores particulares de su industria: la tecnología en Oracle, el consumo en Coca-Cola, la energía en Exxon o los commodities en el caso del oro. Estos riesgos, considerados de manera aislada, podrían impactar fuertemente a un inversionista si solo tuviera uno de estos activos en cartera. Sin embargo, al juntarlos en un portafolio equilibrado, dichos riesgos se compensan unos con otros y se reduce notablemente el riesgo no sistemático. Esto significa que el portafolio aprovecha la diversificación para eliminar gran parte de la incertidumbre propia de cada empresa o sector, quedando principalmente el riesgo general del mercado, que es inevitable y que está asociado al contexto económico global.\n",
    "\n",
    "Por último, al revisar las métricas de rendimiento y riesgo del portafolio, los resultados son favorables. El rendimiento anual esperado ronda el 21%, lo cual resulta bastante atractivo frente a la media del mercado, sobre la libre de riesgo y a lo que ofrecerían los activos por separado. En cuanto al riesgo, la volatilidad anual se ubica en aproximadamente 14%, un nivel manejable considerando la rentabilidad proyectada. Además, al calcular el coeficiente de variación se observa un valor menor a 1, lo que indica que el rendimiento compensa adecuadamente el riesgo asumido. En otras palabras, por cada unidad de rendimiento, el portafolio ofrece un riesgo proporcionalmente bajo (~0.67). Esta combinación refleja una relación riesgo-rendimiento sólida y justifica la composición del portafolio. Gracias a que los activos presentan correlaciones bajas, la diversificación no solo funciona en teoría, sino que se refleja en la práctica al mantener el riesgo en niveles controlados y al mismo tiempo alcanzar un rendimiento competitivo. \n",
    "\n",
    "En conclusión, el portafolio cumple con el objetivo de balancear rentabilidad y seguridad, mostrando que una adecuada selección y combinación de activos puede mejorar significativamente el perfil de riesgo de un inversionista."
   ]
  },
  {
   "cell_type": "markdown",
   "id": "f3daa8d8",
   "metadata": {},
   "source": []
  }
 ],
 "metadata": {
  "kernelspec": {
   "display_name": "Python 3",
   "language": "python",
   "name": "python3"
  },
  "language_info": {
   "codemirror_mode": {
    "name": "ipython",
    "version": 3
   },
   "file_extension": ".py",
   "mimetype": "text/x-python",
   "name": "python",
   "nbconvert_exporter": "python",
   "pygments_lexer": "ipython3",
   "version": "3.13.7"
  }
 },
 "nbformat": 4,
 "nbformat_minor": 5
}
