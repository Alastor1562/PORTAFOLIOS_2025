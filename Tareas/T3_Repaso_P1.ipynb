{
  "cells": [
    {
      "cell_type": "code",
      "execution_count": 1,
      "id": "a8bfd2ff",
      "metadata": {
        "id": "a8bfd2ff"
      },
      "outputs": [],
      "source": [
        "import numpy as np\n",
        "import matplotlib.pyplot as plt\n",
        "import yfinance as yf\n",
        "import pandas as pd"
      ]
    },
    {
      "cell_type": "markdown",
      "id": "bc8f1de8",
      "metadata": {
        "id": "bc8f1de8"
      },
      "source": [
        "# TAREA 3\n",
        "\n",
        "Asume que eres el Portfolio Manager de Banamex y deseas comparar el desempeño de una estrategia de inversión activa con una pasiva (Benchmark), realizando un análisis básico del riesgo y rendimiento de ambas estrategias. Sigue los pasos para evaluarlas:\n",
        "\n",
        "---\n",
        "\n",
        "## 1. Estrategia de inversión activa\n",
        "Tu estrategia de inversión activa contiene las siguientes acciones con ponderaciones equitativas para tu portafolio:\n",
        "\n",
        "- Berkshire Hathaway B  \n",
        "- Visa  \n",
        "- Goldman Sachs Group Inc  \n",
        "- Progressive Corp  \n",
        "\n",
        "### Actividades:\n",
        "- Investiga los tickers de cada acción, su sector y modelo de negocio, dando un resumen ejecutivo de estas. (10%)  \n",
        "- Descarga los precios de cierre ajustado desde el **2018-01-01** hasta el **2025-06-03**.  \n",
        "- Calcula las métricas de riesgo y rendimientos anuales, ratio de Sharpe y la matriz de correlación. (20%)  \n",
        "- Interpreta la matriz de correlación. (10%)  "
      ]
    },
    {
      "cell_type": "markdown",
      "id": "01e75af6",
      "metadata": {
        "id": "01e75af6"
      },
      "source": [
        "## **Berkshire Hathaway Inc. (BRK-B)**\n",
        "\n",
        "**Actividad y sector:**\n",
        "\n",
        "Berkshire Hathaway Inc. es un holding conglomerado que posee decenas de subsidiarias diversificadas. Sus actividades abarcan principalmente seguros y reaseguros, transporte ferroviario de carga, servicios públicos de energía (electricidad y gas) y una amplia gama de negocios de manufactura, servicios y comercio minorista. En seguros, por ejemplo, controla compañías reconocidas como GEICO (automóviles) y General Re (reaseguro). En transporte, opera BNSF Railway, uno de los mayores ferrocarriles de Norteamérica. También es dueña de Berkshire Hathaway Energy, un consorcio de utilidades eléctricas, gasíferas y proyectos de energías renovables, entre otras empresas industriales. Por esta razón, incluir BRK-B en un portafolio ofrece amplia diversificación automática, pues abarca tantos sectores que a menudo se la compara con un fondo de inversión en sí mismo\n",
        "\n",
        "**Fuentes de Ingresos**\n",
        "\n",
        "- Seguros (Insurance): Es la mayor fuente de ingresos de Berkshire. Incluye primas de seguros de propiedad y accidentes y resultados de inversión del “float” de seguros. En 2023 este segmento generó aproximadamente US$95,022 millones en ingresos.\n",
        "- Ferrocarriles (Burlington Northern Santa Fe, BNSF): Opera una de las principales redes ferroviarias de carga en EE.UU. Los ingresos de BNSF rondaron los US$23,876 millones en 2023, provenientes del transporte de mercancías (granos, productos industriales, bienes de consumo, etc.).\n",
        "- Energía (Berkshire Hathaway Energy): Incluye compañías de electricidad (ej. PacifiCorp, MidAmerican) y gas natural, así como parques eólicos/solares. Generó cerca de US$26,008 millones en ingresos en 2023. Sus utilidades operativas pueden variar según regulaciones y precios de la energía.\n",
        "\n",
        "**Fuentes:**\n",
        "\n",
        "- [Berkshire Hathaway Inc: Overview](https://www.globaldata.com/company-profile/berkshire-hathaway-inc/#:~:text=Berkshire%20Hathaway%20Inc%20(Berkshire)%20is,Omaha%2C%20Nebraska%2C%20the%20US.)\n",
        "- [Business segment data](https://www.sec.gov/Archives/edgar/data/1067983/000095017024019719/R63.htm#:~:text=BHE)"
      ]
    },
    {
      "cell_type": "markdown",
      "id": "ce4e1f90",
      "metadata": {
        "id": "ce4e1f90"
      },
      "source": [
        "## **Visa Inc. (V)**\n",
        "\n",
        "**Actividad y sector:**\n",
        "\n",
        "Visa Inc. es una compañía global de tecnología de pagos que conecta a consumidores, empresas, instituciones financieras y gobiernos en más de 200 países, facilitando pagos electrónicos rápidos, seguros y confiables. Opera VisaNet, una de las redes de procesamiento de transacciones más avanzadas del mundo (capaz de manejar ~65 mil mensajes de transacción por segundo) con altos estándares de seguridad anti-fraude. Cabe destacar que Visa no es un banco: no emite tarjetas ni otorga crédito directo a los consumidores, sino que provee la infraestructura y servicios de procesamiento (autorización, compensación y liquidación de transacciones) para sus instituciones financieras afiliadas y comercios. Su modelo de negocio se basa en cobrar tarifas por el uso de esta red y servicios asociados, en lugar de intereses o préstamos y sus principales competidores son otras redes de pago como Mastercard y American Express, así como empresas de pagos digitales (por ejemplo, PayPal).\n",
        "\n",
        "**Fuentes de Ingresos:**\n",
        "\n",
        "En total, Visa reportó USD 32.7 mil millones en ingresos netos durante 2023, después de deducir ~USD 12.3 mil millones en incentivos a clientes que ofrece para fomentar el uso de su red. Sus ingresos provienen principalmente de tarifas cobradas a bancos y comercios por procesar transacciones en su red:\n",
        "\n",
        "- Servicios (tarifas basadas en volumen de pago): ~USD 14.8 mil millones en el año fiscal 2023\n",
        "- Procesamiento de datos (autorizaciones, compensación y liquidación): ~USD 16.0 mil millones\n",
        "- Transacciones internacionales (comisiones por conversiones de moneda y pagos transfronterizos): ~USD 11.6 mil millones\n",
        "- Otros ingresos (licencias, servicios de valor agregado como seguridad y datos): ~USD 2.5 mil millones\n",
        "\n",
        "**Fuentes:**\n",
        "\n",
        "- [Acerca de Visa](https://usa.visa.com/dam/VCOM/global/visa-everywhere/documents/visa-cashless-cities-report-esla.pdf#:~:text=para%20concretar%20pagos%20electrónicos%20rápidos%2C,Visa%20no%20es%20un%20banco)\n",
        "- [Visa Inc. Reports Fiscal Fourth Quarter and Full-Year 2023 Results](https://s1.q4cdn.com/050606653/files/doc_financials/2023/q4/Q4-2023-Earnings-Release-FINAL.pdf#:~:text=Fiscal%20full,over)"
      ]
    },
    {
      "cell_type": "markdown",
      "id": "af711aef",
      "metadata": {
        "id": "af711aef"
      },
      "source": [
        "## **The Goldman Sachs Group, Inc. (GS)**\n",
        "\n",
        "**Actividad y sector:**\n",
        "\n",
        "La Goldman Sachs Group, Inc. es uno de los principales bancos de inversión y proveedores de servicios financieros a nivel mundial. Su modelo de negocio se centra en tres segmentos principales: Global Banking & Markets (GBM), Asset & Wealth Management (AWM) y Platform Solutions. A través de estas divisiones, Goldman Sachs ofrece servicios de banca de inversión (asesoría en fusiones y adquisiciones, underwriting de emisiones de deuda y capital), intermediación en mercados globales (trading de instrumentos de renta fija, divisas, commodities y acciones), gestión de activos para inversionistas institucionales, gestión de patrimonios para clientes de alto patrimonio, así como financiamiento y préstamos privados. Más recientemente, mediante Platform Solutions, la firma ha incursionado en servicios financieros de consumo y tecnología financiera (por ejemplo, tarjetas de crédito en asociación y banca transaccional corporativa) buscando diversificar sus fuentes de ingreso más allá de sus operaciones tradicionales.\n",
        "\n",
        "**Fuentes de Ingresos:**\n",
        "\n",
        "- Global Banking & Markets (GBM): ~US$30,000 millones de ingresos netos en 2023. Es el mayor segmento de Goldman Sachs, que integra las actividades de banca de inversión y operaciones de mercados globales.\n",
        "\n",
        "- Asset & Wealth Management (AWM): ~US$13,900 millones en 2023. Genera ingresos principalmente por comisiones de administración de activos y fondos de inversión, fees por desempeño e incentivo, servicios de gestión patrimonial y banca privada, así como por préstamos privados a clientes.\n",
        "\n",
        "- Platform Solutions: ~US$2,400 millones en 2023. Corresponde a iniciativas de banca de consumo y tecnología financiera, incluyendo plataformas de tarjetas de crédito al consumo (ej., Apple Card) y negocios de banca transaccional para clientes corporativos. Esta unidad es relativamente nueva (creada tras una reorganización en 2022) y representa una pequeña porción de los ingresos totales, aunque de rápido crecimiento.\n",
        "\n",
        "**Fuentes:**\n",
        "\n",
        "- [How Goldman Sachs Makes Money](https://www.investopedia.com/articles/markets/041315/how-goldman-sachs-makes-its-money.asp#:~:text=What%20Exactly%20Does%20Goldman%20Sachs,Do)"
      ]
    },
    {
      "cell_type": "markdown",
      "id": "91ff66b8",
      "metadata": {
        "id": "91ff66b8"
      },
      "source": [
        "## **The Progressive Corporation (PGR)**\n",
        "\n",
        "**Actividad y sector:**\n",
        "\n",
        "The Progressive Corporation es una compañía de seguros de Estados Unidos enfocada en el ramo de seguros de propiedad y accidentes (P&C). A través de sus subsidiarias de seguros, Progressive ofrece principalmente coberturas de automóviles personales y comerciales, seguros residenciales para viviendas, seguros de responsabilidad civil y propiedad comercial orientados a pequeñas empresas, seguros de compensación para trabajadores del sector transporte, entre otros productos de seguros especializados. La empresa opera en todo EE. UU. y distribuye sus pólizas tanto de forma directa (internet y teléfono) como mediante una amplia red de agentes independientes, adaptando sus programas a diversos mercados y canales de venta.\n",
        "\n",
        "**Fuentes de Ingresos:**\n",
        "\n",
        "Los ingresos de Progressive provienen casi totalmente de las primas de seguros (en 2023, el volumen total de primas netas emitidas de Progressive superó los $61,000 millones) que subscribe en tres segmentos operativos principales:\n",
        "\n",
        "- Seguros de autos personales: representan ~79% de las primas netas emitidas por la compañía (aprox. $48,600 millones en 2023). Este segmento abarca pólizas para autos particulares y vehículos recreativos de clientes individuales.\n",
        "\n",
        "- Seguros de líneas comerciales: aportan ~16% de las primas (cerca de $9,900 millones en 2023). Incluye seguros para vehículos comerciales, responsabilidad civil y propiedad para pequeñas empresas, así como camiones/flotas y compensación laboral principalmente en el sector transporte.\n",
        "\n",
        "- Seguros de propiedad residencial: contribuyen ~5% de las primas (aprox. $3,100 millones en 2023). Comprende seguros de vivienda (hogar), inquilinos, casas móviles, así como participación en programas de seguro contra inundaciones bajo convenio federal.\n",
        "\n",
        "**Fuentes:**\n",
        "\n",
        "- [THE PROGRESSIVE CORPORATION 2023 ANNUAL REPORT](https://www.progressive.com/content/pdf/art/2023-annual-report.pdf#:~:text=in%20aggressive%20growth%20within%20our,7%20and%20rose)\n",
        "- [Annual Report Pursuant to Section 13 or 15(d) of the Securities Exchange Act of 1934 For the fiscal year ended December 31, 2023](https://s202.q4cdn.com/605347829/files/doc_financials/2023/q4/14e21f85-2775-4649-87ed-35e8ca317f3e.pdf#:~:text=includes%20affiliates%20as%20well%29,casualty%20insurance%20and%20provide%20related)"
      ]
    },
    {
      "cell_type": "code",
      "execution_count": 2,
      "id": "96cc9e69",
      "metadata": {
        "id": "96cc9e69",
        "outputId": "3760af1d-cb67-49a7-e7d1-d704834870ff"
      },
      "outputs": [
        {
          "name": "stderr",
          "output_type": "stream",
          "text": [
            "C:\\Users\\samue\\AppData\\Local\\Temp\\ipykernel_23904\\2613940756.py:3: FutureWarning: YF.download() has changed argument auto_adjust default to True\n",
            "  prices = yf.download(tickers,start='2018-01-01', end='2025-06-03')['Close']\n",
            "[*********************100%***********************]  4 of 4 completed\n"
          ]
        }
      ],
      "source": [
        "tickers = ['BRK-B', 'V', 'GS', 'PGR']\n",
        "\n",
        "prices = yf.download(tickers,start='2018-01-01', end='2025-06-03')['Close']\n",
        "\n",
        "daily_rend = prices.pct_change().dropna()\n",
        "rend = daily_rend.mean()"
      ]
    },
    {
      "cell_type": "code",
      "execution_count": 3,
      "id": "1a11f55e",
      "metadata": {
        "id": "1a11f55e"
      },
      "outputs": [],
      "source": [
        "# Matriz de pesos y Matriz de Varianza-Covarianza\n",
        "w = np.array([0.25, 0.25, 0.25, 0.25])\n",
        "\n",
        "cov = daily_rend.cov()"
      ]
    },
    {
      "cell_type": "code",
      "execution_count": 4,
      "id": "560ce8e1",
      "metadata": {
        "id": "560ce8e1",
        "outputId": "d7fe04ce-6048-4432-8e0b-ecddfc63add9"
      },
      "outputs": [
        {
          "data": {
            "text/html": [
              "<div>\n",
              "<style scoped>\n",
              "    .dataframe tbody tr th:only-of-type {\n",
              "        vertical-align: middle;\n",
              "    }\n",
              "\n",
              "    .dataframe tbody tr th {\n",
              "        vertical-align: top;\n",
              "    }\n",
              "\n",
              "    .dataframe thead th {\n",
              "        text-align: right;\n",
              "    }\n",
              "</style>\n",
              "<table border=\"1\" class=\"dataframe\">\n",
              "  <thead>\n",
              "    <tr style=\"text-align: right;\">\n",
              "      <th></th>\n",
              "      <th>Métrica</th>\n",
              "      <th>Valor</th>\n",
              "    </tr>\n",
              "  </thead>\n",
              "  <tbody>\n",
              "    <tr>\n",
              "      <th>0</th>\n",
              "      <td>Rendimiento Diario (%)</td>\n",
              "      <td>0.081317</td>\n",
              "    </tr>\n",
              "    <tr>\n",
              "      <th>1</th>\n",
              "      <td>Rendimiento Anual (%)</td>\n",
              "      <td>20.491992</td>\n",
              "    </tr>\n",
              "  </tbody>\n",
              "</table>\n",
              "</div>"
            ],
            "text/plain": [
              "                  Métrica      Valor\n",
              "0  Rendimiento Diario (%)   0.081317\n",
              "1   Rendimiento Anual (%)  20.491992"
            ]
          },
          "execution_count": 4,
          "metadata": {},
          "output_type": "execute_result"
        }
      ],
      "source": [
        "rend_p = float(np.dot(rend, w))\n",
        "rend_diario = rend_p\n",
        "rend_anual = rend_p * 252\n",
        "\n",
        "df_rend = pd.DataFrame({\n",
        "    \"Métrica\": [\"Rendimiento Diario (%)\", \"Rendimiento Anual (%)\"],\n",
        "    \"Valor\": [rend_diario * 100, rend_anual * 100]\n",
        "})\n",
        "\n",
        "df_rend"
      ]
    },
    {
      "cell_type": "code",
      "execution_count": 5,
      "id": "38a08685",
      "metadata": {
        "id": "38a08685",
        "outputId": "b019fe46-18c7-4b79-8019-a8efc9d6c78b"
      },
      "outputs": [
        {
          "data": {
            "text/html": [
              "<div>\n",
              "<style scoped>\n",
              "    .dataframe tbody tr th:only-of-type {\n",
              "        vertical-align: middle;\n",
              "    }\n",
              "\n",
              "    .dataframe tbody tr th {\n",
              "        vertical-align: top;\n",
              "    }\n",
              "\n",
              "    .dataframe thead th {\n",
              "        text-align: right;\n",
              "    }\n",
              "</style>\n",
              "<table border=\"1\" class=\"dataframe\">\n",
              "  <thead>\n",
              "    <tr style=\"text-align: right;\">\n",
              "      <th></th>\n",
              "      <th>Métrica</th>\n",
              "      <th>Valor</th>\n",
              "    </tr>\n",
              "  </thead>\n",
              "  <tbody>\n",
              "    <tr>\n",
              "      <th>0</th>\n",
              "      <td>Volatilidad Diaria (%)</td>\n",
              "      <td>1.347926</td>\n",
              "    </tr>\n",
              "    <tr>\n",
              "      <th>1</th>\n",
              "      <td>Volatilidad Anual (%)</td>\n",
              "      <td>21.397664</td>\n",
              "    </tr>\n",
              "  </tbody>\n",
              "</table>\n",
              "</div>"
            ],
            "text/plain": [
              "                  Métrica      Valor\n",
              "0  Volatilidad Diaria (%)   1.347926\n",
              "1   Volatilidad Anual (%)  21.397664"
            ]
          },
          "execution_count": 5,
          "metadata": {},
          "output_type": "execute_result"
        }
      ],
      "source": [
        "var_p = float(w.T @ cov @ w)\n",
        "vol_diaria = np.sqrt(var_p)\n",
        "vol_anual = np.sqrt(var_p * 252)\n",
        "\n",
        "df_vol = pd.DataFrame({\n",
        "    \"Métrica\": [\"Volatilidad Diaria (%)\", \"Volatilidad Anual (%)\"],\n",
        "    \"Valor\": [vol_diaria * 100, vol_anual * 100]\n",
        "})\n",
        "\n",
        "df_vol"
      ]
    },
    {
      "cell_type": "code",
      "execution_count": 6,
      "id": "5e6ec56c",
      "metadata": {
        "id": "5e6ec56c",
        "outputId": "27e68876-74dd-4fc0-e16c-453ab0d581b8"
      },
      "outputs": [
        {
          "data": {
            "text/plain": [
              "1.0441963795115572"
            ]
          },
          "execution_count": 6,
          "metadata": {},
          "output_type": "execute_result"
        }
      ],
      "source": [
        "# Coeficiente de Variación\n",
        "cv = float(vol_anual/rend_anual)\n",
        "cv"
      ]
    },
    {
      "cell_type": "code",
      "execution_count": 7,
      "id": "9675cdbf",
      "metadata": {
        "id": "9675cdbf",
        "outputId": "9f0bd094-feb8-4f46-e9e3-85695a4818ac"
      },
      "outputs": [
        {
          "data": {
            "text/html": [
              "<div>\n",
              "<style scoped>\n",
              "    .dataframe tbody tr th:only-of-type {\n",
              "        vertical-align: middle;\n",
              "    }\n",
              "\n",
              "    .dataframe tbody tr th {\n",
              "        vertical-align: top;\n",
              "    }\n",
              "\n",
              "    .dataframe thead th {\n",
              "        text-align: right;\n",
              "    }\n",
              "</style>\n",
              "<table border=\"1\" class=\"dataframe\">\n",
              "  <thead>\n",
              "    <tr style=\"text-align: right;\">\n",
              "      <th>Ticker</th>\n",
              "      <th>BRK-B</th>\n",
              "      <th>GS</th>\n",
              "      <th>PGR</th>\n",
              "      <th>V</th>\n",
              "    </tr>\n",
              "    <tr>\n",
              "      <th>Ticker</th>\n",
              "      <th></th>\n",
              "      <th></th>\n",
              "      <th></th>\n",
              "      <th></th>\n",
              "    </tr>\n",
              "  </thead>\n",
              "  <tbody>\n",
              "    <tr>\n",
              "      <th>BRK-B</th>\n",
              "      <td>1.000000</td>\n",
              "      <td>0.713607</td>\n",
              "      <td>0.534054</td>\n",
              "      <td>0.664746</td>\n",
              "    </tr>\n",
              "    <tr>\n",
              "      <th>GS</th>\n",
              "      <td>0.713607</td>\n",
              "      <td>1.000000</td>\n",
              "      <td>0.381716</td>\n",
              "      <td>0.590599</td>\n",
              "    </tr>\n",
              "    <tr>\n",
              "      <th>PGR</th>\n",
              "      <td>0.534054</td>\n",
              "      <td>0.381716</td>\n",
              "      <td>1.000000</td>\n",
              "      <td>0.424647</td>\n",
              "    </tr>\n",
              "    <tr>\n",
              "      <th>V</th>\n",
              "      <td>0.664746</td>\n",
              "      <td>0.590599</td>\n",
              "      <td>0.424647</td>\n",
              "      <td>1.000000</td>\n",
              "    </tr>\n",
              "  </tbody>\n",
              "</table>\n",
              "</div>"
            ],
            "text/plain": [
              "Ticker     BRK-B        GS       PGR         V\n",
              "Ticker                                        \n",
              "BRK-B   1.000000  0.713607  0.534054  0.664746\n",
              "GS      0.713607  1.000000  0.381716  0.590599\n",
              "PGR     0.534054  0.381716  1.000000  0.424647\n",
              "V       0.664746  0.590599  0.424647  1.000000"
            ]
          },
          "execution_count": 7,
          "metadata": {},
          "output_type": "execute_result"
        }
      ],
      "source": [
        "# Matriz de Correlación\n",
        "cor = daily_rend.corr()\n",
        "cor"
      ]
    },
    {
      "cell_type": "code",
      "execution_count": 8,
      "id": "a7eb8c46",
      "metadata": {
        "id": "a7eb8c46",
        "outputId": "f73b5cb5-b2fd-4770-afe0-e2e5510a77d4"
      },
      "outputs": [
        {
          "data": {
            "text/plain": [
              "0.8174720453999272"
            ]
          },
          "execution_count": 8,
          "metadata": {},
          "output_type": "execute_result"
        }
      ],
      "source": [
        "# Ratio de Sharpe\n",
        "rs = float((rend_anual - 0.03) / vol_anual)\n",
        "rs"
      ]
    },
    {
      "cell_type": "markdown",
      "id": "161e26af",
      "metadata": {
        "id": "161e26af"
      },
      "source": [
        "**Análisis de Portafolio:**\n",
        "\n",
        "El análisis del portafolio muestra que el rendimiento esperado anual es positivo, lo que refleja la capacidad de la estrategia para generar valor con los activos seleccionados. En cuanto al riesgo, la volatilidad del portafolio resulta superior a la rentabilidad antes mencionada, indicando que la estrategia conlleva un nivel considerable pero no tan relevante de incertidumbre en los retornos, lo cuál se demuestra con un cv de ~1.04, lo que sugiere que por cada unidad de retorno esperado, se asume poco más unidad de riesgo. Asimismo, el Ratio de Sharpe calculado refleja la poca eficiencia de la estrategia de generar rendimientos sobre la libre de interés por unidad de riesgo asumido, pues con un RS de ~0.81, se encuentra por debajo del umbral de 1.0, lo que significa que el portafolio no compensa suficientemente el riesgo asumido con el exceso de retorno.\n",
        "\n",
        "Finalmente, la matriz de correlación evidencia la presencia de correlaciones elevadas, lo que implica que los activos tienden a moverse en la misma dirección, reduciendo la posibilidad de que unos compensen las caídas de otros. En este sentido, el portafolio se encuentra expuesto a un mayor grado de riesgo no diversificable, ya que la similitud en los comportamientos de los activos limita la reducción del riesgo no sistemático total. Este comportamiento es consistente con la naturaleza de los instrumentos seleccionados, pues los cuatro pertenecen al sector financiero, haciendo que sus rendimientos respondan de manera similar a factores comunes de mercado, como tasas de interés, cambios regulatorios o ciclos económicos."
      ]
    },
    {
      "cell_type": "markdown",
      "id": "3be48b9f",
      "metadata": {
        "id": "3be48b9f"
      },
      "source": [
        "---\n",
        "\n",
        "## 2. Comparación con estrategia pasiva\n",
        "Ahora, compara tu estrategia de inversión activa contra una pasiva:\n",
        "\n",
        "- En base a tu investigación preliminar busca un índice que represente el sector de tus activos, comenta el nombre, ticker y los constituyentes de este. Descarga los precios de Yahoo Finance. (10%)  \n",
        "- Calcula las métricas de riesgo y rendimiento anuales, además del ratio de Sharpe. (20%)  "
      ]
    },
    {
      "cell_type": "markdown",
      "id": "a83ad31c",
      "metadata": {
        "id": "a83ad31c"
      },
      "source": [
        "Nombre del Indice: MSCI US Investable Market Financials 25/50 Index\n",
        "\n",
        "Vanguard Financials ETF, ticker: VFH\n",
        "\n",
        "Principales constituyentes:\n",
        "\n",
        "| Posición | Empresa               | Ticker | % del ETF |\n",
        "| -------- | --------------------- | ------ | --------- |\n",
        "| 1        | JPMorgan Chase & Co.  | JPM    | 9.75 %    |\n",
        "| 2        | Berkshire Hathaway B  | BRK.B  | 7.44 %    |\n",
        "| 3        | Mastercard Inc.       | MA     | 5.43 %    |\n",
        "| 4        | Visa Inc.             | V      | 4.30 %    |\n",
        "| 5        | Bank of America Corp. | BAC    | 4.02 %    |\n"
      ]
    },
    {
      "cell_type": "markdown",
      "id": "oxMZAlN5XnYK",
      "metadata": {
        "id": "oxMZAlN5XnYK"
      },
      "source": [
        "Este índice está diseñado para reflejar el comportamiento del sector financiero de Estados Unidos, incluyendo empresas de gran, mediana y pequeña magnitud. Cubre bancos, aseguradoras, compañías de servicios financieros diversificados, proveedores de tarjetas de crédito y firmas de inversión.\n",
        "El “25/50” en el nombre significa que ninguna empresa puede representar más del 25% del índice y que el conjunto de emisoras con más de 5% de peso no puede superar el 50% total. Esto evita que el índice esté demasiado concentrado en unas pocas empresas, asegurando una diversificación más balanceada dentro del sector.\n",
        "\n",
        "El ETF VFH replica este índice, por lo que ofrece una exposición amplia al sector financiero de EUA con más de 400 compañías. Su objetivo es dar a los inversionistas una forma sencilla y de bajo costo de invertir en bancos, aseguradoras, procesadores de pagos y otros intermediarios financieros.\n",
        "El fondo tiene la ventaja de ser líquido, diversificado y con gastos bajos, características típicas de los ETFs de Vanguard. Está muy ligado al ciclo económico: suele beneficiarse en entornos de crecimiento y alzas de tasas de interés, pero puede resentirse en periodos de crisis financieras o recesión.\n",
        "\n",
        "- [MSCI US Investable Market Financials 25/50 Index - ETF Tracker](https://etfdb.com/index/msci-us-investable-market-financials-25-50-index/)\n",
        "\n",
        "- [(VFH) Vanguard Financials ETF](https://www.vanguardmexico.com/es/producto/etf/renta-variable/0957/vanguard-financials-etf)"
      ]
    },
    {
      "cell_type": "code",
      "execution_count": 9,
      "id": "54e2a523",
      "metadata": {
        "id": "54e2a523",
        "outputId": "585eda79-d487-4cf6-afca-ab2650aca995"
      },
      "outputs": [
        {
          "name": "stderr",
          "output_type": "stream",
          "text": [
            "C:\\Users\\samue\\AppData\\Local\\Temp\\ipykernel_23904\\740864787.py:1: FutureWarning: YF.download() has changed argument auto_adjust default to True\n",
            "  prices_VFH = yf.download('VFH',start='2018-01-01', end='2025-06-03')['Close']\n",
            "[*********************100%***********************]  1 of 1 completed\n"
          ]
        }
      ],
      "source": [
        "prices_VFH = yf.download('VFH',start='2018-01-01', end='2025-06-03')['Close']\n",
        "\n",
        "rend_VFH = prices_VFH.pct_change().dropna()"
      ]
    },
    {
      "cell_type": "code",
      "execution_count": 10,
      "id": "c96984f9",
      "metadata": {
        "id": "c96984f9",
        "outputId": "c212968c-18dd-4ec2-fc7d-b3c69cfb3f72"
      },
      "outputs": [
        {
          "data": {
            "text/plain": [
              "Ticker\n",
              "VFH    12.867205\n",
              "dtype: float64"
            ]
          },
          "execution_count": 10,
          "metadata": {},
          "output_type": "execute_result"
        }
      ],
      "source": [
        "# Rendimiento anual\n",
        "rend_anual_VFH = rend_VFH.mean() * 252\n",
        "rend_anual_VFH *100"
      ]
    },
    {
      "cell_type": "code",
      "execution_count": 11,
      "id": "027b65be",
      "metadata": {
        "id": "027b65be",
        "outputId": "c1983654-8d61-4b3f-cc33-bae249e0b260"
      },
      "outputs": [
        {
          "data": {
            "text/plain": [
              "Ticker\n",
              "VFH    24.747652\n",
              "dtype: float64"
            ]
          },
          "execution_count": 11,
          "metadata": {},
          "output_type": "execute_result"
        }
      ],
      "source": [
        "# Volatilidad anual\n",
        "vol_anual_VFH = rend_VFH.std() * np.sqrt(252)\n",
        "vol_anual_VFH * 100"
      ]
    },
    {
      "cell_type": "code",
      "execution_count": 12,
      "id": "5e38221c",
      "metadata": {
        "id": "5e38221c",
        "outputId": "3d433d06-f78d-4c75-8dc6-c2256f74863e"
      },
      "outputs": [
        {
          "name": "stderr",
          "output_type": "stream",
          "text": [
            "C:\\Users\\samue\\AppData\\Local\\Temp\\ipykernel_23904\\216495217.py:2: FutureWarning: Calling float on a single element Series is deprecated and will raise a TypeError in the future. Use float(ser.iloc[0]) instead\n",
            "  cv_VFH = float(vol_anual_VFH/rend_anual_VFH)\n"
          ]
        },
        {
          "data": {
            "text/plain": [
              "1.9233122056258642"
            ]
          },
          "execution_count": 12,
          "metadata": {},
          "output_type": "execute_result"
        }
      ],
      "source": [
        "# Coeficiente de Variación\n",
        "cv_VFH = float(vol_anual_VFH/rend_anual_VFH)\n",
        "cv_VFH"
      ]
    },
    {
      "cell_type": "code",
      "execution_count": 13,
      "id": "869a9780",
      "metadata": {
        "id": "869a9780",
        "outputId": "b7e4d8dc-0662-4163-f65a-161ab81c352d"
      },
      "outputs": [
        {
          "name": "stderr",
          "output_type": "stream",
          "text": [
            "C:\\Users\\samue\\AppData\\Local\\Temp\\ipykernel_23904\\2235118656.py:2: FutureWarning: Calling float on a single element Series is deprecated and will raise a TypeError in the future. Use float(ser.iloc[0]) instead\n",
            "  rs_VFH = float((rend_anual_VFH - 0.03) / vol_anual_VFH)\n"
          ]
        },
        {
          "data": {
            "text/plain": [
              "0.39871276470184197"
            ]
          },
          "execution_count": 13,
          "metadata": {},
          "output_type": "execute_result"
        }
      ],
      "source": [
        "# Radio de Sharpe\n",
        "rs_VFH = float((rend_anual_VFH - 0.03) / vol_anual_VFH)\n",
        "rs_VFH"
      ]
    },
    {
      "cell_type": "markdown",
      "id": "1395794c",
      "metadata": {
        "id": "1395794c"
      },
      "source": [
        "---\n",
        "\n",
        "## 3. Conclusión\n",
        "A manera de conclusión, en función de las métricas calculadas y en base a los dos Ratios de Sharpe calculados para cada estrategia, responde:\n",
        "\n",
        "- ¿En qué estrategia invertirías y por qué?  \n",
        "- ¿Habría una forma de mejorar la estrategia activa? Es decir, ¿qué podrías cambiar en tu portafolio para obtener mejores resultados? (30%)  "
      ]
    },
    {
      "cell_type": "markdown",
      "id": "cLaPIKdKHO-z",
      "metadata": {
        "id": "cLaPIKdKHO-z"
      },
      "source": [
        "# Comparación de resultados\n",
        "\n",
        "| Métrica                      | Estrategia Activa | Estrategia Pasiva |\n",
        "| ---------------------------- | ------------------------------ | ------- |\n",
        "| **Rendimiento anual (%)**    | 20.49                          | 12.86   |\n",
        "| **Volatilidad anual (%)**    | 21.39                          | 24.74   |\n",
        "| **Coeficiente de variación** | 1.04                           | 1.92    |\n",
        "| **Ratio de Sharpe**          | 0.8174                         | 0.3987  |\n",
        "\n"
      ]
    },
    {
      "cell_type": "markdown",
      "id": "UOxgrTTwXRWz",
      "metadata": {
        "id": "UOxgrTTwXRWz"
      },
      "source": [
        "Al comparar ambas estrategias, podemos observar que la estrategia activa supera a la pasiva en eficiencia. Esto se debe a que su rendimiento anual es mayor, su volatilidad es menor, y además tiene un coeficiente de variación más bajo, lo cual significa que aprovecha mejor el riesgo que toma. La métrica clave, el Ratio de Sharpe, también resulta más alto en el portafolio activo, confirmando que por cada unidad de riesgo se obtiene más rendimiento que con el ETF.\n",
        "\n",
        "  La razón por la cuál nos basamos en los ratios de Sharpe es porque sirve para evaluar si el rendimiento de una inversión justifica el riesgo que se tomó para obtenerlo. Dicho de otra forma, no basta con fijarse en cuánto ganaste, sino si valió la pena el riesgo que corriste.\n",
        "\n",
        "  Si tuvieramos que decidir, invertiríamos en el portafolio activo, porque sus resultados muestran que logra un mejor balance entre riesgo y beneficio. En cambio, el ETF, aunque es más diversificado y fácil de manejar, ofrece un rendimiento ajustado al riesgo más bajo.\n",
        "\n",
        "  El tener un portafólio nos da la libertad de poder ajustar los pesos para mejorar nuestro rendimiento. La estrategia activa todavía puede mejorar. Una forma sería diversificar más los activos , incluyendo emisoras de otros sectores o regiones. También se podrían ajustar los pesos de las acciones en lugar de repartirlos por igual, favoreciendo a las que ofrecen mejor relación riesgo-rendimiento. Otra alternativa sería añadir activos de cobertura, como bonos o commodities, que ayuden a suavizar la volatilidad en momentos de crisis.\n",
        "\n",
        "  En conclusión, aunque el ETF ofrece estabilidad y simplicidad, el portafolio activo destaca claramente en todas las métricas de desempeño ajustado. Con algunos ajustes, puede ser aún más sólido y competitivo como estrategia de inversión a largo plazo."
      ]
    },
    {
      "cell_type": "markdown",
      "id": "244ce440",
      "metadata": {
        "id": "244ce440"
      },
      "source": [
        "---\n",
        "\n",
        "### Nota\n",
        "Asume una tasa libre de riesgo del **3% anual**."
      ]
    },
    {
      "cell_type": "markdown",
      "id": "kKtr62nbyDnZ",
      "metadata": {
        "id": "kKtr62nbyDnZ"
      },
      "source": [
        "**Equipo:**\n",
        "*   Samuel Gómez\n",
        "*   Andrea Santoyo\n",
        "\n"
      ]
    },
    {
      "cell_type": "code",
      "execution_count": null,
      "id": "gv_VzYf6yBdC",
      "metadata": {
        "id": "gv_VzYf6yBdC"
      },
      "outputs": [],
      "source": []
    }
  ],
  "metadata": {
    "colab": {
      "provenance": []
    },
    "kernelspec": {
      "display_name": "Python 3",
      "language": "python",
      "name": "python3"
    },
    "language_info": {
      "codemirror_mode": {
        "name": "ipython",
        "version": 3
      },
      "file_extension": ".py",
      "mimetype": "text/x-python",
      "name": "python",
      "nbconvert_exporter": "python",
      "pygments_lexer": "ipython3",
      "version": "3.13.7"
    }
  },
  "nbformat": 4,
  "nbformat_minor": 5
}
