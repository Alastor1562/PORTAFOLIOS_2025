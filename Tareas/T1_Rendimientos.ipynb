{
 "cells": [
  {
   "cell_type": "code",
   "execution_count": 3,
   "id": "a17ca2c4",
   "metadata": {},
   "outputs": [],
   "source": [
    "import numpy as np\n",
    "import matplotlib.pyplot as plt\n",
    "import yfinance as yf"
   ]
  },
  {
   "cell_type": "markdown",
   "id": "136a959a",
   "metadata": {},
   "source": [
    "# **Investigación de Emisoras**\n",
    "\n",
    "**1.- Realiza una pequeña investigación de las emisoras, mencionando a que se dedican y el sector económico en el que se desempeñan. (20%)**"
   ]
  },
  {
   "cell_type": "markdown",
   "id": "a3c8e178",
   "metadata": {},
   "source": [
    "## **Perrigo - *'PRGO'***\n",
    "\n",
    "**Actividad y Sector**\n",
    "\n",
    "Perrigo Company plc es un fabricante internacional de productos farmacéuticos de venta libre (OTC) y de autocuidado personal. La compañía se especializa en la producción de medicamentos OTC de marca privada, es decir, fabrica para minoristas productos que estos venden bajo sus propias marcas. Opera dentro del sector salud/farmacéutico, enfocándose en el mercado de cuidado personal y medicamentos sin receta, siendo uno de los principales proveedores mundiales de productos de autocuidado a precios asequibles; de hecho, es el mayor productor de medicamentos OTC de marca propia en Estados Unidos y figura entre las 10 compañías líderes de OTC en el mercado europeo. En 2021, Perrigo completó la venta de su negocio de medicamentos genéricos con receta por US$1.55 mil millones, transformándose así en una empresa enfocada exclusivamente en productos de autocuidado de consumo, lo que marcó un cambio estratégico para concentrar recursos en su segmento principal de autocuidado.\n",
    "\n",
    "**Principales Fuentes de Ingresos (Recientes)**\n",
    "\n",
    "En el año fiscal 2024, Perrigo generó aproximadamente US$4.37 mil millones en ventas netas. Sus ingresos provienen principalmente de dos segmentos operativos:\n",
    "\n",
    "- Consumer Self-Care Americas (CSCA) – Segmento de autocuidado en las Américas, que incluye Estados Unidos (su mercado más grande) y Canadá, entre otros. En 2024 esta división aportó alrededor de US$2.69 mil millones en ventas, a través de la venta de medicamentos OTC (entre los cuales se encuentran analgésicos, productos para resfriado y alergias, vitaminas y nutricionales como fórmula infantil, etc.) bajo marcas propias de tiendas y marcas de Perrigo.\n",
    "\n",
    "- Consumer Self-Care International (CSCI) – Segmento de autocuidado internacional, enfocado en Europa y otros mercados fuera de EE. UU. En 2024 generó cerca de US$1.68 mil millones en ventas, mediante la comercialización de reconocidas marcas europeas de autocuidado. Por ejemplo, Perrigo distribuye el apósito para ampollas Compeed y la píldora anticonceptiva de emergencia ellaOne, entre otras, dentro de este segmeno.\n",
    "\n",
    "**Fuentes:**\n",
    "\n",
    "- [Perrigo Completes Divestiture Of Generic Rx Business For $1.55 Billion](https://investor.perrigo.com/2021-07-06-Perrigo-Completes-Divestiture-Of-Generic-Rx-Business-For-1-55-Billion#:~:text=consumer%20self,than%20200%20branded%20OTC%20products)\n",
    "- [Perrigo Reports Fourth Quarter & Fiscal Year 2024 Financial Results From Continuing Operations](https://investor.perrigo.com/2025-02-27-Perrigo-Reports-Fourth-Quarter-Fiscal-Year-2024-Financial-Results-From-Continuing-Operations#:~:text=,the%20second%20half%20of%202024)"
   ]
  },
  {
   "cell_type": "markdown",
   "id": "1ce4c177",
   "metadata": {},
   "source": [
    "**2.- Descarga los precios de cierre ajustado diarios para los tres activos, tomando en cuenta como período del 2018-01-01 hasta el 2025-05-27. Calcula el rendimiento diario para los tres activos. Grafica la distribución de los rendimientos diarios para los tres activos en gráficas separadas. (20%)**"
   ]
  },
  {
   "cell_type": "code",
   "execution_count": 6,
   "id": "6d520aa2",
   "metadata": {},
   "outputs": [
    {
     "name": "stderr",
     "output_type": "stream",
     "text": [
      "C:\\Users\\samue\\AppData\\Local\\Temp\\ipykernel_21396\\3059747379.py:3: FutureWarning: YF.download() has changed argument auto_adjust default to True\n",
      "  prices = yf.download(tickers,start='2018-01-01', end='2025-05-27')['Close']\n",
      "[*********************100%***********************]  3 of 3 completed\n"
     ]
    },
    {
     "data": {
      "image/png": "[encoded data removed]",
      "text/plain": [
       "<Figure size 1800x500 with 3 Axes>"
      ]
     },
     "metadata": {},
     "output_type": "display_data"
    }
   ],
   "source": [
    "tickers = ['PRGO', 'ORCL', 'GOOG']\n",
    "\n",
    "prices = yf.download(tickers,start='2018-01-01', end='2025-05-27')['Close']\n",
    "\n",
    "rend = prices.pct_change().dropna()\n",
    "\n",
    "#Gráficas\n",
    "fig, axes = plt.subplots(1, 3, figsize=(18, 5), sharey=True)\n",
    "\n",
    "for i, col in enumerate(rend.columns):\n",
    "    axes[i].hist(rend[col], bins=100, edgecolor='black')\n",
    "    axes[i].set_title(f'Histograma de {col}')\n",
    "    axes[i].set_xlabel('Rendimiento diario')\n",
    "\n",
    "plt.tight_layout()\n",
    "plt.show()"
   ]
  },
  {
   "cell_type": "markdown",
   "id": "820b26b7",
   "metadata": {},
   "source": [
    "**3.- Calcula el rendimiento promedio anual para los tres activos e interprétalos. (10%)**"
   ]
  },
  {
   "cell_type": "code",
   "execution_count": null,
   "id": "a4a0b081",
   "metadata": {},
   "outputs": [],
   "source": [
    "mean = rend.mean()*100*252\n",
    "mean"
   ]
  },
  {
   "cell_type": "markdown",
   "id": "a2af0a31",
   "metadata": {},
   "source": [
    "**4.- Calcula el riesgo (varianza y volatilidad) anual para los tres activos. Tomando en cuenta el rendimiento y el riesgo de cada activo, interpreta, compara y responde ¿Qué activo es mejor? ¿Por qué? (30%)**"
   ]
  },
  {
   "cell_type": "code",
   "execution_count": null,
   "id": "5aaeb547",
   "metadata": {},
   "outputs": [],
   "source": [
    "var = rend.var()*100*252\n",
    "var"
   ]
  },
  {
   "cell_type": "code",
   "execution_count": null,
   "id": "bdcd17e0",
   "metadata": {},
   "outputs": [],
   "source": [
    "vol = rend.std()*100*252**0.5\n",
    "vol"
   ]
  },
  {
   "cell_type": "markdown",
   "id": "842ba4ac",
   "metadata": {},
   "source": [
    "**5.- Calcula la asimetría (numéricamente), interprétala y complementa los comentarios realizados en el punto anterior. ¿Tus conclusiones acerca del mejor activo cambiaron? ¿Por qué? (20%)**"
   ]
  },
  {
   "cell_type": "code",
   "execution_count": null,
   "id": "fd1af406",
   "metadata": {},
   "outputs": [],
   "source": [
    "cv = vol / mean\n",
    "cv"
   ]
  },
  {
   "cell_type": "code",
   "execution_count": null,
   "id": "bf1627d7",
   "metadata": {},
   "outputs": [],
   "source": [
    "skew = rend.skew()\n",
    "skew"
   ]
  }
 ],
 "metadata": {
  "kernelspec": {
   "display_name": "Python 3",
   "language": "python",
   "name": "python3"
  },
  "language_info": {
   "codemirror_mode": {
    "name": "ipython",
    "version": 3
   },
   "file_extension": ".py",
   "mimetype": "text/x-python",
   "name": "python",
   "nbconvert_exporter": "python",
   "pygments_lexer": "ipython3",
   "version": "3.13.7"
  }
 },
 "nbformat": 4,
 "nbformat_minor": 5
}
