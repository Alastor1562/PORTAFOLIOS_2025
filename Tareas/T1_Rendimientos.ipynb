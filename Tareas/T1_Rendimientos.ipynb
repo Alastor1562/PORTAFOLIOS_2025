{
 "cells": [
  {
   "cell_type": "code",
   "execution_count": 11,
   "id": "a17ca2c4",
   "metadata": {},
   "outputs": [],
   "source": [
    "import numpy as np\n",
    "import matplotlib.pyplot as plt\n",
    "import yfinance as yf"
   ]
  },
  {
   "cell_type": "markdown",
   "id": "136a959a",
   "metadata": {},
   "source": [
    "# **Investigación de Emisoras**\n",
    "\n",
    "**1.- Realiza una pequeña investigación de las emisoras, mencionando a que se dedican y el sector económico en el que se desempeñan. (20%)**"
   ]
  },
  {
   "cell_type": "markdown",
   "id": "a3c8e178",
   "metadata": {},
   "source": [
    "## **Perrigo (PRGO)**\n",
    "\n",
    "**Actividad y Sector**\n",
    "\n",
    "Perrigo Company  es un fabricante internacional de productos farmacéuticos de venta libre (OTC) y de autocuidado personal. La compañía se especializa en la producción de medicamentos OTC de marca privada, es decir, fabrica para minoristas productos que estos venden bajo sus propias marcas. Opera dentro del sector salud/farmacéutico, enfocándose en el mercado de cuidado personal y medicamentos sin receta, siendo uno de los principales proveedores mundiales de productos de autocuidado a precios asequibles; de hecho, es el mayor productor de medicamentos OTC de marca propia en Estados Unidos y figura entre las 10 compañías líderes de OTC en el mercado europeo. En 2021, Perrigo completó la venta de su negocio de medicamentos genéricos con receta por US$1.55 mil millones, transformándose así en una empresa enfocada exclusivamente en productos de autocuidado de consumo, lo que marcó un cambio estratégico para concentrar recursos en su segmento principal de autocuidado.\n",
    "\n",
    "**Principales Fuentes de Ingresos**\n",
    "\n",
    "En el año fiscal 2024, Perrigo generó aproximadamente US$4.37 mil millones en ventas netas. Sus ingresos provienen principalmente de dos segmentos operativos:\n",
    "\n",
    "- Consumer Self-Care Americas (CSCA) – Segmento de autocuidado en las Américas, que incluye Estados Unidos (su mercado más grande) y Canadá, entre otros. En 2024 esta división aportó alrededor de US$2.69 mil millones en ventas, a través de la venta de medicamentos OTC (entre los cuales se encuentran analgésicos, productos para resfriado y alergias, vitaminas y nutricionales como fórmula infantil, etc.) bajo marcas propias de tiendas y marcas de Perrigo.\n",
    "\n",
    "- Consumer Self-Care International (CSCI) – Segmento de autocuidado internacional, enfocado en Europa y otros mercados fuera de EE. UU. En 2024 generó cerca de US$1.68 mil millones en ventas, mediante la comercialización de reconocidas marcas europeas de autocuidado. Por ejemplo, Perrigo distribuye el apósito para ampollas Compeed y la píldora anticonceptiva de emergencia ellaOne, entre otras, dentro de este segmeno.\n",
    "\n",
    "**Fuentes:**\n",
    "\n",
    "- [Perrigo Completes Divestiture Of Generic Rx Business For $1.55 Billion](https://investor.perrigo.com/2021-07-06-Perrigo-Completes-Divestiture-Of-Generic-Rx-Business-For-1-55-Billion#:~:text=consumer%20self,than%20200%20branded%20OTC%20products)\n",
    "- [Perrigo Reports Fourth Quarter & Fiscal Year 2024 Financial Results From Continuing Operations](https://investor.perrigo.com/2025-02-27-Perrigo-Reports-Fourth-Quarter-Fiscal-Year-2024-Financial-Results-From-Continuing-Operations#:~:text=,the%20second%20half%20of%202024)"
   ]
  },
  {
   "cell_type": "markdown",
   "id": "9ba25237",
   "metadata": {},
   "source": [
    "## **Oracle (ORCL)**\n",
    "\n",
    "**Actividad y Sector**\n",
    "\n",
    "Oracle Corporation es una empresa de tecnología que ofrece software empresarial, servicios de computación en la nube y algunos productos de hardware. Opera en el sector tecnológico, específicamente en la industria de software empresarial y servicios de tecnología de la información en la nube. Compite en el segmento de computación empresarial y *cloud computing*, formando parte del sector de tecnología de la información (TI).Oracle es especialmente conocida por su sistema de gestión de bases de datos (Oracle Database) y por un amplio portafolio de aplicaciones corporativas (finanzas, recursos humanos, cadena de suministro, etc.), además de servicios en la nube.  Actualmente está invirtiendo fuertemente en servicios en la nube y tecnologías de inteligencia artificial, reportando la firma de contratos de venta históricos impulsados por la demanda de entrenar modelos de IA de lenguaje grande en Oracle Cloud.\n",
    "\n",
    "**Principales Fuentes de Ingresos**\n",
    "\n",
    "Oracle reportó US$57,400 millones en ventas en el año fiscal 2025 (FY2025). La categoría de “Servicios en la nube y soporte” representó cerca del 77% de ese total, reflejando la transición de Oracle hacia un modelo de ingresos más basado en servicios en la nube. Según el estado de resultados más reciente, los ingresos provienen de cuatro categorías principales:\n",
    "\n",
    "- Servicios en la nube y soporte de licencias: ~US$44,000 millones en FY2025, la fuente mayoritaria siendo soporte técnico y suscripciones de sus productos de software en la nube\n",
    "\n",
    "- Licencias (cloud y on-premise): ~US$5,200 millones en FY2025, por venta de nuevas licencias de software tanto en la nube como instaladas localmente\n",
    "\n",
    "- Hardware: ~US$3,300 millones en ventas de equipos de hardware empresarial, como sistemas de almacenamiento y servidores especializados, junto con el soporte asociado\n",
    "\n",
    "- Servicios (consultoría): ~US$5,600 millones en ingresos por servicios profesionales, consultoría e implementación relacionados a sus productos\n",
    "\n",
    "**Fuentes:**\n",
    "\n",
    "- [Oracle Announces Fiscal 2025 Fourth Quarter and Fiscal Full Year Financial Results](https://investor.oracle.com/investor-news/news-details/2025/Oracle-Announces-Fiscal-2025-Fourth-Quarter-and-Fiscal-Full-Year-Financial-Results/default.aspx#:~:text=Fiscal%20year%202025%20total%20revenues,2%20billion)\n",
    "- [What is Oracle?](https://www.ibm.com/think/topics/oracle)"
   ]
  },
  {
   "cell_type": "markdown",
   "id": "0a5c31f1",
   "metadata": {},
   "source": [
    "# **Alphabet (GOOG)**\n",
    "\n",
    "**Actividad y Sector**\n",
    "\n",
    "Alphabet Inc., dueña y controladora de Google, es una empresa tecnológica global que opera principalmente en servicios de internet, publicidad digital, computación en la nube y dispositivos electrónicos. La empresa se desempeña dentro del sector tecnológico, más específicamente en la industria de servicios de comunicación digital e internet, y es considerada parte de las grandes compañías tecnológicas (Big Tech) y una de las principales figuras de comunicaciones en línea, dada su influencia en búsquedas web, publicidad digital y servicios multimedia. Su negocio central se concentra en Google Services, donde se incluyen productos como el motor de búsqueda, YouTube, Google Maps, Gmail, Android, Chrome y la tienda Google Play. \n",
    "\n",
    "La compañía monetiza en gran medida a través de la publicidad en línea, consolidándose como líder mundial en este sector. Por otro lado, el segundo pilar es Google Cloud, que ofrece infraestructura, plataformas y software como servicio, además de la suite de productividad Google Workspace. Finalmente, Alphabet agrupa también proyectos de innovación de alto riesgo bajo el segmento \"Other Bets\", que incluye iniciativas como Waymo (vehículos autónomos) y Verily (ciencias de la salud).\n",
    "\n",
    "**Principales Fuentes de Ingresos**\n",
    "\n",
    "En el año fiscal 2024, Alphabet generó aproximadamente US$350,018 millones en ventas netas, un crecimiento de 14% respecto al año anterior. Sus ingresos provienen principalmente de los tres segmentos operativos antes mencionados:\n",
    "\n",
    "- Publicidad de Google – Constituye la fuente mayoritaria, con aproximadamente US$264,590 millones en 2024 (cerca del 75% del total). Incluye anuncios en Búsqueda, YouTube y la red de socios de Google.\n",
    "\n",
    "- Google Cloud – Segmento de nube y productividad, que en 2024 aportó alrededor de US$43,229 millones, equivalente al 12% de los ingresos. Este negocio ha mostrado un crecimiento acelerado gracias a la demanda de servicios de IA y migración digital que ofrece Google Workspace.\n",
    "\n",
    "- Otros Servicios y Other Bets – Incluyen suscripciones (YouTube Premium, Google One), comisiones por Google Play, hardware (Pixel, Nest) y proyectos experimentales como Waymo y Verily. En conjunto, representaron aproximadamente US$42,000 millones en 2024.\n",
    "\n",
    "**Fuentes:**\n",
    "\n",
    "- [Alphabet Inc.Form 10-K For the Fiscal Year Ended December 31, 2024](https://abc.xyz/assets/77/51/9841ad5c4fbe85b4440c47a4df8d/goog-10-k-2024.pdf#:~:text=Google%20advertising%20237%2C855%20264%2C590%20Google,revenues%20%24%20307%2C394%20%24%20350%2C018)\n",
    "- [Alphabet Announces Fourth Quarter and Fiscal Year 2024 Results](https://abc.xyz/assets/a3/91/6d1950c148fa84c7d699abe05284/2024q4-alphabet-earnings-release.pdf#:~:text=Together%2C%20Cloud%20and%20YouTube%20exited,”)"
   ]
  },
  {
   "cell_type": "markdown",
   "id": "1ce4c177",
   "metadata": {},
   "source": [
    "**2.- Descarga los precios de cierre ajustado diarios para los tres activos, tomando en cuenta como período del 2018-01-01 hasta el 2025-05-27. Calcula el rendimiento diario para los tres activos. Grafica la distribución de los rendimientos diarios para los tres activos en gráficas separadas. (20%)**"
   ]
  },
  {
   "cell_type": "code",
   "execution_count": 12,
   "id": "6d520aa2",
   "metadata": {},
   "outputs": [
    {
     "name": "stderr",
     "output_type": "stream",
     "text": [
      "C:\\Users\\samue\\AppData\\Local\\Temp\\ipykernel_20384\\2983923675.py:3: FutureWarning: YF.download() has changed argument auto_adjust default to True\n",
      "  prices = yf.download(tickers,start='2018-01-01', end='2025-05-27')['Close']\n",
      "[*********************100%***********************]  3 of 3 completed\n"
     ]
    },
    {
     "data": {
      "image/png": "[encoded data removed]",
      "text/plain": [
       "<Figure size 1200x600 with 1 Axes>"
      ]
     },
     "metadata": {},
     "output_type": "display_data"
    }
   ],
   "source": [
    "tickers = ['PRGO', 'ORCL', 'GOOG']\n",
    "\n",
    "prices = yf.download(tickers,start='2018-01-01', end='2025-05-27')['Close']\n",
    "\n",
    "rend = prices.pct_change().dropna()\n",
    "\n",
    "plt.figure(figsize=(12,6))\n",
    "plt.hist(rend['GOOG'], bins=100, edgecolor='black', alpha=0.5)\n",
    "plt.title('Histograma de Rendimientos Diarios de GOOG')\n",
    "plt.show();"
   ]
  },
  {
   "cell_type": "markdown",
   "id": "394643d5",
   "metadata": {},
   "source": [
    "**Análisis:** Los rendimientos diarios de GOOG están centrados en 0, con un sesgo aparentemente nulo y una curtosis elevada (leptocúrtica)."
   ]
  },
  {
   "cell_type": "code",
   "execution_count": 13,
   "id": "44bb56b4",
   "metadata": {},
   "outputs": [
    {
     "data": {
      "image/png": "[encoded data removed]",
      "text/plain": [
       "<Figure size 1200x600 with 1 Axes>"
      ]
     },
     "metadata": {},
     "output_type": "display_data"
    }
   ],
   "source": [
    "plt.figure(figsize=(12,6))\n",
    "plt.hist(rend['ORCL'], bins=100, edgecolor='black', alpha=0.5)\n",
    "plt.title('Histograma de Rendimientos Diarios de ORCL')\n",
    "plt.show();"
   ]
  },
  {
   "cell_type": "markdown",
   "id": "be3eda27",
   "metadata": {},
   "source": [
    "**Análisis:** Los rendimientos diarios de ORCL están centrados en 0, con un sesgo positivo que indica mayor propensión a subidas fuertes, y una curtosis leptocúrtica, lo que refleja presencia de valores extremos."
   ]
  },
  {
   "cell_type": "code",
   "execution_count": 14,
   "id": "9395d1df",
   "metadata": {},
   "outputs": [
    {
     "data": {
      "image/png": "[encoded data removed]",
      "text/plain": [
       "<Figure size 1200x600 with 1 Axes>"
      ]
     },
     "metadata": {},
     "output_type": "display_data"
    }
   ],
   "source": [
    "plt.figure(figsize=(12,6))\n",
    "plt.hist(rend['PRGO'], bins=100, edgecolor='black', alpha=0.5)\n",
    "plt.title('Histograma de Rendimientos Diarios de PRGO')\n",
    "plt.show();"
   ]
  },
  {
   "cell_type": "markdown",
   "id": "84eb4c81",
   "metadata": {},
   "source": [
    "**Análisis:** Los rendimientos diarios están centrados en 0, con sesgo negativo un tanto notable y curtosis elevada, lo que significa que la acción tiende a la estabilidad en la mayoría de los días, pero con una probabilidad significativa de caídas extremas."
   ]
  },
  {
   "cell_type": "markdown",
   "id": "820b26b7",
   "metadata": {},
   "source": [
    "**3.- Calcula el rendimiento promedio anual para los tres activos e interprétalos. (10%)**"
   ]
  },
  {
   "cell_type": "code",
   "execution_count": 15,
   "id": "a4a0b081",
   "metadata": {},
   "outputs": [
    {
     "data": {
      "text/html": [
       "<div>\n",
       "<style scoped>\n",
       "    .dataframe tbody tr th:only-of-type {\n",
       "        vertical-align: middle;\n",
       "    }\n",
       "\n",
       "    .dataframe tbody tr th {\n",
       "        vertical-align: top;\n",
       "    }\n",
       "\n",
       "    .dataframe thead th {\n",
       "        text-align: right;\n",
       "    }\n",
       "</style>\n",
       "<table border=\"1\" class=\"dataframe\">\n",
       "  <thead>\n",
       "    <tr style=\"text-align: right;\">\n",
       "      <th></th>\n",
       "      <th>Activo</th>\n",
       "      <th>Rendimiento Promedio Anual (%)</th>\n",
       "    </tr>\n",
       "  </thead>\n",
       "  <tbody>\n",
       "    <tr>\n",
       "      <th>0</th>\n",
       "      <td>GOOG</td>\n",
       "      <td>20.632154</td>\n",
       "    </tr>\n",
       "    <tr>\n",
       "      <th>1</th>\n",
       "      <td>ORCL</td>\n",
       "      <td>22.988337</td>\n",
       "    </tr>\n",
       "    <tr>\n",
       "      <th>2</th>\n",
       "      <td>PRGO</td>\n",
       "      <td>-7.224152</td>\n",
       "    </tr>\n",
       "  </tbody>\n",
       "</table>\n",
       "</div>"
      ],
      "text/plain": [
       "  Activo  Rendimiento Promedio Anual (%)\n",
       "0   GOOG                       20.632154\n",
       "1   ORCL                       22.988337\n",
       "2   PRGO                       -7.224152"
      ]
     },
     "execution_count": 15,
     "metadata": {},
     "output_type": "execute_result"
    }
   ],
   "source": [
    "mean = rend.mean()*252*100  \n",
    "\n",
    "results = mean.reset_index()\n",
    "results.columns = ['Activo', 'Rendimiento Promedio Anual (%)']\n",
    "\n",
    "results"
   ]
  },
  {
   "cell_type": "markdown",
   "id": "65059273",
   "metadata": {},
   "source": [
    "- GOOG: En promedio, un inversionista que tuviese este activo durante un año obtendría un rendimiento de ~20.6%.\n",
    "- ORCL: Muestra el mayor rendimiento promedio de los tres activos, con casi 23% anual.\n",
    "- PRGO: Ha tenido pérdidas promedio anuales de ~7.2%, siendo el activo con menor atractivo de los tres."
   ]
  },
  {
   "cell_type": "markdown",
   "id": "a2af0a31",
   "metadata": {},
   "source": [
    "**4.- Calcula el riesgo (varianza y volatilidad) anual para los tres activos. Tomando en cuenta el rendimiento y el riesgo de cada activo, interpreta, compara y responde ¿Qué activo es mejor? ¿Por qué? (30%)**"
   ]
  },
  {
   "cell_type": "code",
   "execution_count": 16,
   "id": "5aaeb547",
   "metadata": {},
   "outputs": [
    {
     "data": {
      "text/html": [
       "<div>\n",
       "<style scoped>\n",
       "    .dataframe tbody tr th:only-of-type {\n",
       "        vertical-align: middle;\n",
       "    }\n",
       "\n",
       "    .dataframe tbody tr th {\n",
       "        vertical-align: top;\n",
       "    }\n",
       "\n",
       "    .dataframe thead th {\n",
       "        text-align: right;\n",
       "    }\n",
       "</style>\n",
       "<table border=\"1\" class=\"dataframe\">\n",
       "  <thead>\n",
       "    <tr style=\"text-align: right;\">\n",
       "      <th></th>\n",
       "      <th>Activo</th>\n",
       "      <th>Rendimiento Promedio Anual (%)</th>\n",
       "      <th>Varianza Anual (%)</th>\n",
       "      <th>Volatilidad Anual (%)</th>\n",
       "      <th>Coeficiente de Variación</th>\n",
       "    </tr>\n",
       "  </thead>\n",
       "  <tbody>\n",
       "    <tr>\n",
       "      <th>0</th>\n",
       "      <td>GOOG</td>\n",
       "      <td>20.632154</td>\n",
       "      <td>9.699273</td>\n",
       "      <td>31.143656</td>\n",
       "      <td>1.509472</td>\n",
       "    </tr>\n",
       "    <tr>\n",
       "      <th>1</th>\n",
       "      <td>ORCL</td>\n",
       "      <td>22.988337</td>\n",
       "      <td>10.127428</td>\n",
       "      <td>31.823620</td>\n",
       "      <td>1.384338</td>\n",
       "    </tr>\n",
       "    <tr>\n",
       "      <th>2</th>\n",
       "      <td>PRGO</td>\n",
       "      <td>-7.224152</td>\n",
       "      <td>13.331521</td>\n",
       "      <td>36.512355</td>\n",
       "      <td>-5.054206</td>\n",
       "    </tr>\n",
       "  </tbody>\n",
       "</table>\n",
       "</div>"
      ],
      "text/plain": [
       "  Activo  Rendimiento Promedio Anual (%)  Varianza Anual (%)  \\\n",
       "0   GOOG                       20.632154            9.699273   \n",
       "1   ORCL                       22.988337           10.127428   \n",
       "2   PRGO                       -7.224152           13.331521   \n",
       "\n",
       "   Volatilidad Anual (%)  Coeficiente de Variación  \n",
       "0              31.143656                  1.509472  \n",
       "1              31.823620                  1.384338  \n",
       "2              36.512355                 -5.054206  "
      ]
     },
     "execution_count": 16,
     "metadata": {},
     "output_type": "execute_result"
    }
   ],
   "source": [
    "var = rend.var()*100*252\n",
    "vol = rend.std()*100*252**0.5\n",
    "cv = vol / mean\n",
    "\n",
    "results['Varianza Anual (%)'] = var.values\n",
    "results['Volatilidad Anual (%)'] = vol.values\n",
    "results['Coeficiente de Variación'] = cv.values\n",
    "\n",
    "results"
   ]
  },
  {
   "cell_type": "markdown",
   "id": "317098da",
   "metadata": {},
   "source": [
    "- GOOG: Posee un alto rendimiento con una volatilidad anual de ~31.1%. De acuerdo al CV, por cada unidad de rentabilidad, se está asumiendo un riesgo de 1.51 unidades. No es una mala opción pero podría considerarse un activo algo arriesgado a comparación al siguiente.\n",
    "- ORCL: Presenta un mejor balance entre rendimiento y riesgo, con un rendimiento anual de ~23% y una volatilidad de ~31.8%. Aunque tenga una mayor volatilidad que GOOG, su CV de 1.38 indica que asume menos riesgo por cada unidad de rentabilidad en comparación de la acción anterior.\n",
    "- PRGO: No solo tiene el peor rendimiento, sino también la volatilidad más alta (~36.5%); dándonos un pésimo CV de -5.05, lo cual indica que el activo no compensa el riesgo asumido. Es claramente la peor opción para inversión de estos tres activos.\n",
    "\n",
    "Considero que ORCL es la mejor opción de inversión entre los tres activos analizados, ya que ofrece un buen equilibrio entre rendimiento y riesgo."
   ]
  },
  {
   "cell_type": "markdown",
   "id": "842ba4ac",
   "metadata": {},
   "source": [
    "**5.- Calcula la asimetría (numéricamente), interprétala y complementa los comentarios realizados en el punto anterior. ¿Tus conclusiones acerca del mejor activo cambiaron? ¿Por qué? (20%)**"
   ]
  },
  {
   "cell_type": "code",
   "execution_count": 17,
   "id": "bf1627d7",
   "metadata": {},
   "outputs": [
    {
     "data": {
      "text/html": [
       "<div>\n",
       "<style scoped>\n",
       "    .dataframe tbody tr th:only-of-type {\n",
       "        vertical-align: middle;\n",
       "    }\n",
       "\n",
       "    .dataframe tbody tr th {\n",
       "        vertical-align: top;\n",
       "    }\n",
       "\n",
       "    .dataframe thead th {\n",
       "        text-align: right;\n",
       "    }\n",
       "</style>\n",
       "<table border=\"1\" class=\"dataframe\">\n",
       "  <thead>\n",
       "    <tr style=\"text-align: right;\">\n",
       "      <th></th>\n",
       "      <th>Activo</th>\n",
       "      <th>Rendimiento Promedio Anual (%)</th>\n",
       "      <th>Varianza Anual (%)</th>\n",
       "      <th>Volatilidad Anual (%)</th>\n",
       "      <th>Coeficiente de Variación</th>\n",
       "      <th>Asimetría</th>\n",
       "    </tr>\n",
       "  </thead>\n",
       "  <tbody>\n",
       "    <tr>\n",
       "      <th>0</th>\n",
       "      <td>GOOG</td>\n",
       "      <td>20.632154</td>\n",
       "      <td>9.699273</td>\n",
       "      <td>31.143656</td>\n",
       "      <td>1.509472</td>\n",
       "      <td>-0.046299</td>\n",
       "    </tr>\n",
       "    <tr>\n",
       "      <th>1</th>\n",
       "      <td>ORCL</td>\n",
       "      <td>22.988337</td>\n",
       "      <td>10.127428</td>\n",
       "      <td>31.823620</td>\n",
       "      <td>1.384338</td>\n",
       "      <td>0.629865</td>\n",
       "    </tr>\n",
       "    <tr>\n",
       "      <th>2</th>\n",
       "      <td>PRGO</td>\n",
       "      <td>-7.224152</td>\n",
       "      <td>13.331521</td>\n",
       "      <td>36.512355</td>\n",
       "      <td>-5.054206</td>\n",
       "      <td>-1.287364</td>\n",
       "    </tr>\n",
       "  </tbody>\n",
       "</table>\n",
       "</div>"
      ],
      "text/plain": [
       "  Activo  Rendimiento Promedio Anual (%)  Varianza Anual (%)  \\\n",
       "0   GOOG                       20.632154            9.699273   \n",
       "1   ORCL                       22.988337           10.127428   \n",
       "2   PRGO                       -7.224152           13.331521   \n",
       "\n",
       "   Volatilidad Anual (%)  Coeficiente de Variación  Asimetría  \n",
       "0              31.143656                  1.509472  -0.046299  \n",
       "1              31.823620                  1.384338   0.629865  \n",
       "2              36.512355                 -5.054206  -1.287364  "
      ]
     },
     "execution_count": 17,
     "metadata": {},
     "output_type": "execute_result"
    }
   ],
   "source": [
    "skew = rend.skew()\n",
    "\n",
    "results['Asimetría'] = skew.values\n",
    "results"
   ]
  },
  {
   "cell_type": "markdown",
   "id": "328a538b",
   "metadata": {},
   "source": [
    "- GOOG: La asimetría es prácticamente cero (-0.046), lo que indica que los rendimientos diarios están muy cercanos a una distribución simétrica. Es decir, no tiene un sesgo fuerte hacia rendimientos positivos ni negativos.\n",
    "\n",
    "- ORCL: Presenta una asimetría positiva (0.63), lo que significa que, aunque su distribución de rendimientos puede tener cierta volatilidad, existe una mayor probabilidad de obtener rendimientos extremos positivos que negativos. \n",
    "\n",
    "- PRGO: Tiene una asimetría negativa significativa (-1.29), lo que implica una alta probabilidad de experimentar pérdidas grandes y extremas. Esto, sumado a su rendimiento promedio anual negativo, lo convierte en el activo menos atractivo del portafolio.\n",
    "\n",
    "**Conclusión:** La incorporación de la asimetría refuerza los resultados previos, pues ORCL sigue siendo el mejor activo, ya que combina un alto rendimiento (23%), un buen balance riesgo-retorno (CV=1.38) y además presenta asimetría positiva, lo que aumenta su atractivo frente a los inversionistas."
   ]
  },
  {
   "cell_type": "markdown",
   "id": "554ae9c8",
   "metadata": {},
   "source": []
  }
 ],
 "metadata": {
  "kernelspec": {
   "display_name": "Python 3",
   "language": "python",
   "name": "python3"
  },
  "language_info": {
   "codemirror_mode": {
    "name": "ipython",
    "version": 3
   },
   "file_extension": ".py",
   "mimetype": "text/x-python",
   "name": "python",
   "nbconvert_exporter": "python",
   "pygments_lexer": "ipython3",
   "version": "3.13.7"
  }
 },
 "nbformat": 4,
 "nbformat_minor": 5
}
