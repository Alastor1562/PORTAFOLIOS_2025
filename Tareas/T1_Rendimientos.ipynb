{
 "cells": [
  {
   "cell_type": "code",
   "execution_count": 2,
   "id": "a17ca2c4",
   "metadata": {},
   "outputs": [],
   "source": [
    "import numpy as np\n",
    "import matplotlib.pyplot as plt\n",
    "import yfinance as yf"
   ]
  },
  {
   "cell_type": "code",
   "execution_count": 3,
   "id": "6d520aa2",
   "metadata": {},
   "outputs": [
    {
     "name": "stderr",
     "output_type": "stream",
     "text": [
      "C:\\Users\\samue\\AppData\\Local\\Temp\\ipykernel_9772\\4055684384.py:3: FutureWarning: YF.download() has changed argument auto_adjust default to True\n",
      "  prices = yf.download(tickers,start='2018-01-01', end='2025-08-27')['Close']\n",
      "[*********************100%***********************]  3 of 3 completed\n"
     ]
    },
    {
     "data": {
      "text/html": [
       "<div>\n",
       "<style scoped>\n",
       "    .dataframe tbody tr th:only-of-type {\n",
       "        vertical-align: middle;\n",
       "    }\n",
       "\n",
       "    .dataframe tbody tr th {\n",
       "        vertical-align: top;\n",
       "    }\n",
       "\n",
       "    .dataframe thead th {\n",
       "        text-align: right;\n",
       "    }\n",
       "</style>\n",
       "<table border=\"1\" class=\"dataframe\">\n",
       "  <thead>\n",
       "    <tr style=\"text-align: right;\">\n",
       "      <th>Ticker</th>\n",
       "      <th>GOOG</th>\n",
       "      <th>ORCL</th>\n",
       "      <th>PRGO</th>\n",
       "    </tr>\n",
       "    <tr>\n",
       "      <th>Date</th>\n",
       "      <th></th>\n",
       "      <th></th>\n",
       "      <th></th>\n",
       "    </tr>\n",
       "  </thead>\n",
       "  <tbody>\n",
       "    <tr>\n",
       "      <th>2018-01-02</th>\n",
       "      <td>52.935341</td>\n",
       "      <td>41.432014</td>\n",
       "      <td>74.192879</td>\n",
       "    </tr>\n",
       "    <tr>\n",
       "      <th>2018-01-03</th>\n",
       "      <td>53.804180</td>\n",
       "      <td>42.391613</td>\n",
       "      <td>73.986069</td>\n",
       "    </tr>\n",
       "    <tr>\n",
       "      <th>2018-01-04</th>\n",
       "      <td>53.999020</td>\n",
       "      <td>42.809238</td>\n",
       "      <td>75.342705</td>\n",
       "    </tr>\n",
       "    <tr>\n",
       "      <th>2018-01-05</th>\n",
       "      <td>54.785847</td>\n",
       "      <td>43.066898</td>\n",
       "      <td>75.425385</td>\n",
       "    </tr>\n",
       "    <tr>\n",
       "      <th>2018-01-08</th>\n",
       "      <td>55.019955</td>\n",
       "      <td>43.520054</td>\n",
       "      <td>74.556808</td>\n",
       "    </tr>\n",
       "    <tr>\n",
       "      <th>...</th>\n",
       "      <td>...</td>\n",
       "      <td>...</td>\n",
       "      <td>...</td>\n",
       "    </tr>\n",
       "    <tr>\n",
       "      <th>2025-08-20</th>\n",
       "      <td>200.190002</td>\n",
       "      <td>235.059998</td>\n",
       "      <td>23.660000</td>\n",
       "    </tr>\n",
       "    <tr>\n",
       "      <th>2025-08-21</th>\n",
       "      <td>200.619995</td>\n",
       "      <td>233.160004</td>\n",
       "      <td>23.430000</td>\n",
       "    </tr>\n",
       "    <tr>\n",
       "      <th>2025-08-22</th>\n",
       "      <td>206.720001</td>\n",
       "      <td>236.369995</td>\n",
       "      <td>24.490000</td>\n",
       "    </tr>\n",
       "    <tr>\n",
       "      <th>2025-08-25</th>\n",
       "      <td>209.160004</td>\n",
       "      <td>235.410004</td>\n",
       "      <td>23.780001</td>\n",
       "    </tr>\n",
       "    <tr>\n",
       "      <th>2025-08-26</th>\n",
       "      <td>207.500000</td>\n",
       "      <td>233.179993</td>\n",
       "      <td>23.850000</td>\n",
       "    </tr>\n",
       "  </tbody>\n",
       "</table>\n",
       "<p>1923 rows × 3 columns</p>\n",
       "</div>"
      ],
      "text/plain": [
       "Ticker            GOOG        ORCL       PRGO\n",
       "Date                                         \n",
       "2018-01-02   52.935341   41.432014  74.192879\n",
       "2018-01-03   53.804180   42.391613  73.986069\n",
       "2018-01-04   53.999020   42.809238  75.342705\n",
       "2018-01-05   54.785847   43.066898  75.425385\n",
       "2018-01-08   55.019955   43.520054  74.556808\n",
       "...                ...         ...        ...\n",
       "2025-08-20  200.190002  235.059998  23.660000\n",
       "2025-08-21  200.619995  233.160004  23.430000\n",
       "2025-08-22  206.720001  236.369995  24.490000\n",
       "2025-08-25  209.160004  235.410004  23.780001\n",
       "2025-08-26  207.500000  233.179993  23.850000\n",
       "\n",
       "[1923 rows x 3 columns]"
      ]
     },
     "execution_count": 3,
     "metadata": {},
     "output_type": "execute_result"
    }
   ],
   "source": [
    "tickers = ['PRGO', 'ORCL', 'GOOG']\n",
    "\n",
    "prices = yf.download(tickers,start='2018-01-01', end='2025-08-27')['Close']\n",
    "prices"
   ]
  },
  {
   "cell_type": "code",
   "execution_count": 4,
   "id": "20ec7f52",
   "metadata": {},
   "outputs": [
    {
     "data": {
      "image/png": "[encoded data removed]",
      "text/plain": [
       "<Figure size 1200x600 with 1 Axes>"
      ]
     },
     "metadata": {},
     "output_type": "display_data"
    }
   ],
   "source": [
    "rend = prices.pct_change().dropna()\n",
    "\n",
    "plt.figure(figsize=(12,6))\n",
    "plt.hist(rend, label=rend.columns, bins=100)\n",
    "plt.legend()\n",
    "plt.show();"
   ]
  },
  {
   "cell_type": "code",
   "execution_count": null,
   "id": "a4a0b081",
   "metadata": {},
   "outputs": [
    {
     "data": {
      "text/plain": [
       "Ticker\n",
       "ORCL    27.835565\n",
       "GOOG    22.688169\n",
       "PRGO    -8.038479\n",
       "dtype: float64"
      ]
     },
     "execution_count": 7,
     "metadata": {},
     "output_type": "execute_result"
    }
   ],
   "source": [
    "mean = rend.mean()*100*252\n",
    "mean"
   ]
  },
  {
   "cell_type": "code",
   "execution_count": 1,
   "id": "5aaeb547",
   "metadata": {},
   "outputs": [
    {
     "ename": "NameError",
     "evalue": "name 'rend' is not defined",
     "output_type": "error",
     "traceback": [
      "\u001b[31m---------------------------------------------------------------------------\u001b[39m",
      "\u001b[31mNameError\u001b[39m                                 Traceback (most recent call last)",
      "\u001b[36mCell\u001b[39m\u001b[36m \u001b[39m\u001b[32mIn[1]\u001b[39m\u001b[32m, line 1\u001b[39m\n\u001b[32m----> \u001b[39m\u001b[32m1\u001b[39m var = \u001b[43mrend\u001b[49m.var()*\u001b[32m100\u001b[39m*\u001b[32m252\u001b[39m\n\u001b[32m      2\u001b[39m var\n",
      "\u001b[31mNameError\u001b[39m: name 'rend' is not defined"
     ]
    }
   ],
   "source": [
    "var = rend.var()*100*252\n",
    "var"
   ]
  },
  {
   "cell_type": "code",
   "execution_count": null,
   "id": "bdcd17e0",
   "metadata": {},
   "outputs": [
    {
     "data": {
      "text/plain": [
       "Ticker\n",
       "PRGO    36.477842\n",
       "ORCL    32.291457\n",
       "GOOG    30.882401\n",
       "dtype: float64"
      ]
     },
     "execution_count": 10,
     "metadata": {},
     "output_type": "execute_result"
    }
   ],
   "source": [
    "vol = rend.std()*100*252**0.5\n",
    "vol"
   ]
  },
  {
   "cell_type": "code",
   "execution_count": null,
   "id": "fd1af406",
   "metadata": {},
   "outputs": [
    {
     "data": {
      "text/plain": [
       "Ticker\n",
       "GOOG    1.361168\n",
       "ORCL    1.160079\n",
       "PRGO   -4.537904\n",
       "dtype: float64"
      ]
     },
     "execution_count": 11,
     "metadata": {},
     "output_type": "execute_result"
    }
   ],
   "source": [
    "cv = vol / mean\n",
    "cv"
   ]
  },
  {
   "cell_type": "code",
   "execution_count": 12,
   "id": "bf1627d7",
   "metadata": {},
   "outputs": [
    {
     "data": {
      "text/plain": [
       "Ticker\n",
       "GOOG   -0.053009\n",
       "ORCL    0.726204\n",
       "PRGO   -1.291366\n",
       "dtype: float64"
      ]
     },
     "execution_count": 12,
     "metadata": {},
     "output_type": "execute_result"
    }
   ],
   "source": [
    "skew = rend.skew()\n",
    "skew"
   ]
  },
  {
   "cell_type": "code",
   "execution_count": null,
   "id": "f4e7adf0",
   "metadata": {},
   "outputs": [],
   "source": []
  }
 ],
 "metadata": {
  "kernelspec": {
   "display_name": "Python 3",
   "language": "python",
   "name": "python3"
  },
  "language_info": {
   "codemirror_mode": {
    "name": "ipython",
    "version": 3
   },
   "file_extension": ".py",
   "mimetype": "text/x-python",
   "name": "python",
   "nbconvert_exporter": "python",
   "pygments_lexer": "ipython3",
   "version": "3.13.7"
  }
 },
 "nbformat": 4,
 "nbformat_minor": 5
}
